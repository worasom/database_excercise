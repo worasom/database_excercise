{
 "cells": [
  {
   "cell_type": "markdown",
   "metadata": {},
   "source": [
    "# MongoDB note\n",
    "\n",
    "Topics:\n",
    "\n",
    "    * Query documents and subdocuments, Counting Documents\n",
    "    * Survey Distinct Values with filters, element match operator \n",
    "    * Filter with Regular Expressions\n",
    "    * MongoDB Projection\n",
    "    * Sort search result: post query sort and in-query sort \n",
    "    * Indexes in MongoDB\n",
    "    * Limits and Skips search \n",
    "    * aggregation "
   ]
  },
  {
   "cell_type": "markdown",
   "metadata": {},
   "source": [
    "\n",
    "Create The Nobel Prize database. Mongodb Server was installed locally.\n",
    "Load the Nobel prizes and laureates from the Nobel API and store it as a local database. "
   ]
  },
  {
   "cell_type": "code",
   "execution_count": 3,
   "metadata": {},
   "outputs": [],
   "source": [
    "import requests\n",
    "#import the mongoclient class from pymongo \n",
    "from pymongo import MongoClient\n",
    "# Client connects to \"localhost\" by default\n",
    "client = MongoClient(\"mongodb://localhost:27017/\")\n",
    "# Create local \"nobel\" database on the fly\n",
    "db = client[\"nobel\"]\n",
    "# API documented at https://nobelprize.readme.io/docs/prize\n",
    "for collection_name in [\"prizes\",\"laureates\"]:\n",
    "    singular = collection_name[:-1]\n",
    "    response = requests.get(\"http://api.nobelprize.org/v1/{}.json\".format(singular))\n",
    "    documents = response.json()[collection_name]\n",
    "    # Create collections on the fly\n",
    "    db[collection_name].insert_many(documents)"
   ]
  },
  {
   "cell_type": "code",
   "execution_count": 4,
   "metadata": {},
   "outputs": [],
   "source": [
    "# You can also access dbs and collections as attributes\n",
    "assert client.nobel == db\n",
    "assert db.prizes == db[\"prizes\"]\n",
    "# Count documents\n",
    "n_prizes = db.prizes.count_documents({})\n",
    "n_laureates = db.laureates.count_documents({})\n",
    "# Find one document to inspect\n",
    "doc = db.prizes.find_one({})"
   ]
  },
  {
   "cell_type": "markdown",
   "metadata": {},
   "source": [
    "## Counting Documents, and Finding one\n",
    "\n",
    "Two way to get access to a collection: use bracket notation or dot notation. This is similar to pandas. A database is like a dictionary of collections with collection name as key.\n",
    "\n",
    "`.count_document({})` for count documents\n",
    "`.find_one()` get the JSON of a document\n",
    "`list_database_names()` on a client instance\n",
    "`list_collection_names()` list collection names on a database instance.\n",
    "\n",
    "Put filter message in {}"
   ]
  },
  {
   "cell_type": "code",
   "execution_count": 5,
   "metadata": {},
   "outputs": [],
   "source": [
    "# You can also access dbs and collections as attributes\n",
    "assert client.nobel == db\n",
    "assert db.prizes == db[\"prizes\"]\n",
    "# Count documents\n",
    "n_prizes = db.prizes.count_documents({})\n",
    "n_laureates = db.laureates.count_documents({})\n",
    "# Find one document to inspect\n",
    "doc = db.prizes.find_one({})"
   ]
  },
  {
   "cell_type": "code",
   "execution_count": 7,
   "metadata": {},
   "outputs": [
    {
     "data": {
      "text/plain": [
       "590"
      ]
     },
     "execution_count": 7,
     "metadata": {},
     "output_type": "execute_result"
    }
   ],
   "source": [
    "n_prizes"
   ]
  },
  {
   "cell_type": "code",
   "execution_count": 6,
   "metadata": {},
   "outputs": [
    {
     "data": {
      "text/plain": [
       "{'_id': ObjectId('5c9fd8a604ac58346c84e6fe'),\n",
       " 'year': '2018',\n",
       " 'category': 'physics',\n",
       " 'overallMotivation': '“for groundbreaking inventions in the field of laser physics”',\n",
       " 'laureates': [{'id': '960',\n",
       "   'firstname': 'Arthur',\n",
       "   'surname': 'Ashkin',\n",
       "   'motivation': '\"for the optical tweezers and their application to biological systems\"',\n",
       "   'share': '2'},\n",
       "  {'id': '961',\n",
       "   'firstname': 'Gérard',\n",
       "   'surname': 'Mourou',\n",
       "   'motivation': '\"for their method of generating high-intensity, ultra-short optical pulses\"',\n",
       "   'share': '4'},\n",
       "  {'id': '962',\n",
       "   'firstname': 'Donna',\n",
       "   'surname': 'Strickland',\n",
       "   'motivation': '\"for their method of generating high-intensity, ultra-short optical pulses\"',\n",
       "   'share': '4'}]}"
      ]
     },
     "execution_count": 6,
     "metadata": {},
     "output_type": "execute_result"
    }
   ],
   "source": [
    "doc"
   ]
  },
  {
   "cell_type": "code",
   "execution_count": 8,
   "metadata": {},
   "outputs": [
    {
     "name": "stdout",
     "output_type": "stream",
     "text": [
      "['admin', 'config', 'local', 'nobel']\n",
      "['laureates', 'prizes']\n"
     ]
    }
   ],
   "source": [
    "# Save a list of names of the databases managed by client\n",
    "db_names = client.list_database_names()\n",
    "print(db_names)\n",
    "\n",
    "# Save a list of names of the collections managed by the \"nobel\" database\n",
    "nobel_coll_names = client.nobel.list_collection_names()\n",
    "print(nobel_coll_names)"
   ]
  },
  {
   "cell_type": "markdown",
   "metadata": {},
   "source": [
    "List fields and count laureates' prizes"
   ]
  },
  {
   "cell_type": "code",
   "execution_count": 9,
   "metadata": {},
   "outputs": [
    {
     "name": "stdout",
     "output_type": "stream",
     "text": [
      "941\n"
     ]
    }
   ],
   "source": [
    "# Connect to the \"nobel\" database\n",
    "db = client.nobel\n",
    "\n",
    "# Retrieve sample prize and laureate documents\n",
    "prize = db.prizes.find_one()\n",
    "laureate = db.laureates.find_one()\n",
    "\n",
    "# Get lists of the fields present in each type of document\n",
    "prize_fields = list(prize.keys())\n",
    "laureate_fields = list(laureate.keys())\n",
    "\n",
    "# Compute the total number of laureate prizes\n",
    "count = sum(len(doc['prizes']) for doc in db.laureates.find())\n",
    "print(count)"
   ]
  },
  {
   "cell_type": "markdown",
   "metadata": {},
   "source": [
    "# Query documents and subdocuments\n",
    "\n",
    "- Operator in MongoDB has '$' prefix.\n",
    "- MongoDB compare string in alphabetical order\n",
    "- query subdocuments using dot notation"
   ]
  },
  {
   "cell_type": "code",
   "execution_count": 10,
   "metadata": {},
   "outputs": [
    {
     "data": {
      "text/plain": [
       "1"
      ]
     },
     "execution_count": 10,
     "metadata": {},
     "output_type": "execute_result"
    }
   ],
   "source": [
    "# find one laureats\n",
    "db.laureates.count_documents({\n",
    " 'born': '1845-03-27',\n",
    " 'diedCountry': 'Germany',\n",
    " 'gender': 'male',\n",
    " 'surname': 'Röntgen'\n",
    "})"
   ]
  },
  {
   "cell_type": "code",
   "execution_count": 11,
   "metadata": {},
   "outputs": [
    {
     "data": {
      "text/plain": [
       "51"
      ]
     },
     "execution_count": 11,
     "metadata": {},
     "output_type": "execute_result"
    }
   ],
   "source": [
    "# find all femal laureats\n",
    "db.laureates.count_documents({\n",
    "  'gender': 'female'\n",
    "})"
   ]
  },
  {
   "cell_type": "code",
   "execution_count": 13,
   "metadata": {},
   "outputs": [
    {
     "data": {
      "text/plain": [
       "259"
      ]
     },
     "execution_count": 13,
     "metadata": {},
     "output_type": "execute_result"
    }
   ],
   "source": [
    "# query a range\n",
    "db.laureates.count_documents({\n",
    " 'diedCountry': {\n",
    "  '$in': ['France', 'USA']\n",
    " }})"
   ]
  },
  {
   "cell_type": "code",
   "execution_count": 14,
   "metadata": {},
   "outputs": [
    {
     "data": {
      "text/plain": [
       "884"
      ]
     },
     "execution_count": 14,
     "metadata": {},
     "output_type": "execute_result"
    }
   ],
   "source": [
    "# query not \n",
    "db.laureates.count_documents({\n",
    " 'diedCountry': {\n",
    "     # not equal\n",
    "  '$ne': 'France'\n",
    " }})\n"
   ]
  },
  {
   "cell_type": "code",
   "execution_count": 15,
   "metadata": {},
   "outputs": [
    {
     "data": {
      "text/plain": [
       "455"
      ]
     },
     "execution_count": 15,
     "metadata": {},
     "output_type": "execute_result"
    }
   ],
   "source": [
    "db.laureates.count_documents({\n",
    " 'diedCountry': {\n",
    "     # greater than\n",
    "  '$gt': 'Belgium',\n",
    "     #less than\n",
    "  '$lte': 'USA'\n",
    " }})"
   ]
  },
  {
   "cell_type": "code",
   "execution_count": 16,
   "metadata": {},
   "outputs": [
    {
     "name": "stdout",
     "output_type": "stream",
     "text": [
      "209\n"
     ]
    }
   ],
   "source": [
    "# Create a filter for laureates who died in the USA\n",
    "criteria = {'diedCountry': 'USA'}\n",
    "\n",
    "# Save a count of these laureates\n",
    "count = db.laureates.count_documents(criteria)\n",
    "print(count)"
   ]
  },
  {
   "cell_type": "code",
   "execution_count": 17,
   "metadata": {},
   "outputs": [
    {
     "name": "stdout",
     "output_type": "stream",
     "text": [
      "291\n"
     ]
    }
   ],
   "source": [
    "# Save a filter for laureates born in the USA, Canada, or Mexico\n",
    "criteria = {'bornCountry': {\"$in\": ['USA','Canada','Mexico']}}\n",
    "\n",
    "# Count them and save the count\n",
    "count = db.laureates.count_documents(criteria)\n",
    "print(count)"
   ]
  },
  {
   "cell_type": "code",
   "execution_count": 18,
   "metadata": {},
   "outputs": [
    {
     "data": {
      "text/plain": [
       "{'_id': ObjectId('5c9fd8a804ac58346c84ea68'),\n",
       " 'id': '290',\n",
       " 'firstname': 'Walter',\n",
       " 'surname': 'Kohn',\n",
       " 'born': '1923-03-09',\n",
       " 'died': '2016-04-19',\n",
       " 'bornCountry': 'Austria',\n",
       " 'bornCountryCode': 'AT',\n",
       " 'bornCity': 'Vienna',\n",
       " 'diedCountry': 'USA',\n",
       " 'diedCountryCode': 'US',\n",
       " 'diedCity': 'Santa Barbara, CA',\n",
       " 'gender': 'male',\n",
       " 'prizes': [{'year': '1998',\n",
       "   'category': 'chemistry',\n",
       "   'share': '2',\n",
       "   'motivation': '\"for his development of the density-functional theory\"',\n",
       "   'affiliations': [{'name': 'University of California',\n",
       "     'city': 'Santa Barbara, CA',\n",
       "     'country': 'USA'}]}]}"
      ]
     },
     "execution_count": 18,
     "metadata": {},
     "output_type": "execute_result"
    }
   ],
   "source": [
    "db.laureates.find_one({\n",
    "  \"firstname\": \"Walter\",\n",
    "  \"surname\": \"Kohn\"})"
   ]
  },
  {
   "cell_type": "code",
   "execution_count": 19,
   "metadata": {},
   "outputs": [
    {
     "data": {
      "text/plain": [
       "34"
      ]
     },
     "execution_count": 19,
     "metadata": {},
     "output_type": "execute_result"
    }
   ],
   "source": [
    "# query subdocuments using dot notation\n",
    "db.laureates.count_documents({\n",
    " \"prizes.affiliations.name\": (\n",
    "  \"University of California\")})"
   ]
  },
  {
   "cell_type": "code",
   "execution_count": 20,
   "metadata": {},
   "outputs": [
    {
     "data": {
      "text/plain": [
       "33"
      ]
     },
     "execution_count": 20,
     "metadata": {},
     "output_type": "execute_result"
    }
   ],
   "source": [
    "db.laureates.count_documents({\"bornCountry\": {\"$exists\": False}})"
   ]
  },
  {
   "cell_type": "code",
   "execution_count": 22,
   "metadata": {},
   "outputs": [
    {
     "data": {
      "text/plain": [
       "6"
      ]
     },
     "execution_count": 22,
     "metadata": {},
     "output_type": "execute_result"
    }
   ],
   "source": [
    "db.laureates.count_documents({\"prizes\": {\"$exists\": True}})\n",
    "#acess the first element of the prize field \n",
    "db.laureates.count_documents({\"prizes.0\": {\"$exists\": True}})\n",
    "# acess the second element of the prize field \n",
    "db.laureates.count_documents({\"prizes.1\": {\"$exists\": True}})"
   ]
  },
  {
   "cell_type": "code",
   "execution_count": 23,
   "metadata": {},
   "outputs": [
    {
     "name": "stdout",
     "output_type": "stream",
     "text": [
      "10\n"
     ]
    }
   ],
   "source": [
    "# Filter for laureates born in Austria with non-Austria prize affiliation\n",
    "criteria = {'bornCountry': 'Austria', 'prizes.affiliations.country': {\"$ne\": 'Austria'}}\n",
    "\n",
    "# Count the number of such laureates\n",
    "count = db.laureates.count_documents(criteria)\n",
    "print(count)"
   ]
  },
  {
   "cell_type": "code",
   "execution_count": 24,
   "metadata": {},
   "outputs": [
    {
     "name": "stdout",
     "output_type": "stream",
     "text": [
      "{'_id': ObjectId('5c9fd8a804ac58346c84eb27'), 'id': '482', 'firstname': 'Comité international de la Croix Rouge (International Committee of the Red Cross)', 'born': '0000-00-00', 'died': '0000-00-00', 'gender': 'org', 'prizes': [{'year': '1917', 'category': 'peace', 'share': '1', 'affiliations': [[]]}, {'year': '1944', 'category': 'peace', 'share': '1', 'affiliations': [[]]}, {'year': '1963', 'category': 'peace', 'share': '2', 'affiliations': [[]]}]}\n"
     ]
    }
   ],
   "source": [
    "# Filter for documents without a \"born\" field\n",
    "criteria = {'born': {'$exists': False}}\n",
    "assert db.laureates.count_documents(criteria) == 0\n",
    "\n",
    "# Filter for laureates with at least three prizes\n",
    "criteria = {'prizes.2': {'$exists': True}}\n",
    "print(db.laureates.find_one(criteria))"
   ]
  },
  {
   "cell_type": "markdown",
   "metadata": {},
   "source": [
    "# Survey Distinct Values\n",
    "\n",
    "`distinct()` method "
   ]
  },
  {
   "cell_type": "code",
   "execution_count": 28,
   "metadata": {},
   "outputs": [
    {
     "data": {
      "text/plain": [
       "{'_id': ObjectId('5c9fd8a804ac58346c84eb27'),\n",
       " 'id': '482',\n",
       " 'firstname': 'Comité international de la Croix Rouge (International Committee of the Red Cross)',\n",
       " 'born': '0000-00-00',\n",
       " 'died': '0000-00-00',\n",
       " 'gender': 'org',\n",
       " 'prizes': [{'year': '1917',\n",
       "   'category': 'peace',\n",
       "   'share': '1',\n",
       "   'affiliations': [[]]},\n",
       "  {'year': '1944', 'category': 'peace', 'share': '1', 'affiliations': [[]]},\n",
       "  {'year': '1963', 'category': 'peace', 'share': '2', 'affiliations': [[]]}]}"
      ]
     },
     "execution_count": 28,
     "metadata": {},
     "output_type": "execute_result"
    }
   ],
   "source": [
    "db.laureates.find_one({\"prizes.2\": {\"$exists\": True}})"
   ]
  },
  {
   "cell_type": "code",
   "execution_count": 26,
   "metadata": {},
   "outputs": [
    {
     "data": {
      "text/plain": [
       "['male', 'female', 'org']"
      ]
     },
     "execution_count": 26,
     "metadata": {},
     "output_type": "execute_result"
    }
   ],
   "source": [
    "# find all unique value in the gender field\n",
    "db.laureates.distinct(\"gender\")\n"
   ]
  },
  {
   "cell_type": "code",
   "execution_count": 27,
   "metadata": {},
   "outputs": [
    {
     "data": {
      "text/plain": [
       "['physics', 'chemistry', 'peace', 'medicine', 'literature', 'economics']"
      ]
     },
     "execution_count": 27,
     "metadata": {},
     "output_type": "execute_result"
    }
   ],
   "source": [
    "db.laureates.distinct(\"prizes.category\")"
   ]
  },
  {
   "cell_type": "code",
   "execution_count": 29,
   "metadata": {},
   "outputs": [
    {
     "name": "stdout",
     "output_type": "stream",
     "text": [
      "{'Israel', 'Tunisia', 'East Germany', 'Barbados', 'Yugoslavia (now Serbia)', 'Puerto Rico', 'Northern Rhodesia (now Zambia)', 'Gabon', 'Greece', 'Philippines', 'USSR', 'Czechoslovakia', 'Jamaica'}\n"
     ]
    }
   ],
   "source": [
    "# Countries recorded as countries of death but not as countries of birth\n",
    "countries = set(db.laureates.distinct('diedCountry')) - set(db.laureates.distinct('bornCountry'))\n",
    "print(countries)"
   ]
  },
  {
   "cell_type": "code",
   "execution_count": 30,
   "metadata": {},
   "outputs": [
    {
     "name": "stdout",
     "output_type": "stream",
     "text": [
      "29\n"
     ]
    }
   ],
   "source": [
    "# The number of distinct countries of laureate affiliation for prizes\n",
    "count = len(db.laureates.distinct('prizes.affiliations.country'))\n",
    "print(count)"
   ]
  },
  {
   "cell_type": "markdown",
   "metadata": {},
   "source": [
    "## Distinct Values Given Filters\n"
   ]
  },
  {
   "cell_type": "code",
   "execution_count": 31,
   "metadata": {},
   "outputs": [
    {
     "data": {
      "text/plain": [
       "{'_id': ObjectId('5c9fd8a804ac58346c84e950'),\n",
       " 'id': '5',\n",
       " 'firstname': 'Pierre',\n",
       " 'surname': 'Curie',\n",
       " 'born': '1859-05-15',\n",
       " 'died': '1906-04-19',\n",
       " 'bornCountry': 'France',\n",
       " 'bornCountryCode': 'FR',\n",
       " 'bornCity': 'Paris',\n",
       " 'diedCountry': 'France',\n",
       " 'diedCountryCode': 'FR',\n",
       " 'diedCity': 'Paris',\n",
       " 'gender': 'male',\n",
       " 'prizes': [{'year': '1903',\n",
       "   'category': 'physics',\n",
       "   'share': '4',\n",
       "   'motivation': '\"in recognition of the extraordinary services they have rendered by their joint researches on the radiation phenomena discovered by Professor Henri Becquerel\"',\n",
       "   'affiliations': [{'name': 'École municipale de physique et de chimie industrielles (Municipal School of Industrial Physics and Chemistry)',\n",
       "     'city': 'Paris',\n",
       "     'country': 'France'}]}]}"
      ]
     },
     "execution_count": 31,
     "metadata": {},
     "output_type": "execute_result"
    }
   ],
   "source": [
    "# which laureates share prize with 4 people?\n",
    "db.laureates.find_one({\"prizes.share\": \"4\"})"
   ]
  },
  {
   "cell_type": "code",
   "execution_count": 33,
   "metadata": {},
   "outputs": [
    {
     "data": {
      "text/plain": [
       "['physics', 'chemistry', 'medicine']"
      ]
     },
     "execution_count": 33,
     "metadata": {},
     "output_type": "execute_result"
    }
   ],
   "source": [
    "# find catergory of the nobel prize, which shared by 4 \n",
    "db.laureates.distinct(\n",
    "  \"prizes.category\", {\"prizes.share\": '4'})"
   ]
  },
  {
   "cell_type": "code",
   "execution_count": 34,
   "metadata": {},
   "outputs": [
    {
     "data": {
      "text/plain": [
       "['chemistry', 'physics', 'peace']"
      ]
     },
     "execution_count": 34,
     "metadata": {},
     "output_type": "execute_result"
    }
   ],
   "source": [
    "# find catergory of the prize won't by laureates who win more than once prizes\n",
    "db.laureates.distinct(\n",
    "  \"prizes.category\", {\"prizes.1\": {\"$exists\": True}})"
   ]
  },
  {
   "cell_type": "code",
   "execution_count": 35,
   "metadata": {},
   "outputs": [
    {
     "data": {
      "text/plain": [
       "{'_id': ObjectId('5c9fd8a604ac58346c84e6fe'),\n",
       " 'year': '2018',\n",
       " 'category': 'physics',\n",
       " 'overallMotivation': '“for groundbreaking inventions in the field of laser physics”',\n",
       " 'laureates': [{'id': '960',\n",
       "   'firstname': 'Arthur',\n",
       "   'surname': 'Ashkin',\n",
       "   'motivation': '\"for the optical tweezers and their application to biological systems\"',\n",
       "   'share': '2'},\n",
       "  {'id': '961',\n",
       "   'firstname': 'Gérard',\n",
       "   'surname': 'Mourou',\n",
       "   'motivation': '\"for their method of generating high-intensity, ultra-short optical pulses\"',\n",
       "   'share': '4'},\n",
       "  {'id': '962',\n",
       "   'firstname': 'Donna',\n",
       "   'surname': 'Strickland',\n",
       "   'motivation': '\"for their method of generating high-intensity, ultra-short optical pulses\"',\n",
       "   'share': '4'}]}"
      ]
     },
     "execution_count": 35,
     "metadata": {},
     "output_type": "execute_result"
    }
   ],
   "source": [
    "db.prizes.find_one({})"
   ]
  },
  {
   "cell_type": "code",
   "execution_count": 36,
   "metadata": {},
   "outputs": [],
   "source": [
    "# Save a filter for prize documents with three or more laureates\n",
    "criteria = {'laureates.2': {'$exists': True}}\n",
    "\n",
    "# Save the set of distinct prize categories in documents satisfying the criteria\n",
    "triple_play_categories = set(db.prizes.distinct('category', criteria))\n",
    "\n",
    "# Confirm literature as the only category not satisfying the criteria.\n",
    "assert set(db.prizes.distinct('category')) - triple_play_categories == {'literature'}"
   ]
  },
  {
   "cell_type": "markdown",
   "metadata": {},
   "source": [
    "## how to use element match operator "
   ]
  },
  {
   "cell_type": "code",
   "execution_count": 38,
   "metadata": {},
   "outputs": [
    {
     "data": {
      "text/plain": [
       "47"
      ]
     },
     "execution_count": 38,
     "metadata": {},
     "output_type": "execute_result"
    }
   ],
   "source": [
    "# count the nobel laureates in physics, which is shared by 1 person\n",
    "db.laureates.count_documents({\n",
    "    \"prizes\": {\"$elemMatch\": {\"category\": \"physics\", \"share\": \"1\"}}})"
   ]
  },
  {
   "cell_type": "code",
   "execution_count": 43,
   "metadata": {},
   "outputs": [
    {
     "data": {
      "text/plain": [
       "18"
      ]
     },
     "execution_count": 43,
     "metadata": {},
     "output_type": "execute_result"
    }
   ],
   "source": [
    "db.laureates.count_documents({\n",
    "    \"prizes\": {\"$elemMatch\":{\"category\":\"physics\",\"share\":\"1\",\"year\":{\"$gte\":\"1945\"}}}\n",
    "})"
   ]
  },
  {
   "cell_type": "code",
   "execution_count": 46,
   "metadata": {},
   "outputs": [
    {
     "data": {
      "text/plain": [
       "143"
      ]
     },
     "execution_count": 46,
     "metadata": {},
     "output_type": "execute_result"
    }
   ],
   "source": [
    "db.laureates.count_documents({\n",
    "    \"prizes\": {\"$elemMatch\":{\"category\":\"physics\",\"share\":{\"$ne\":\"1\"},\"year\":{\"$gte\":\"1945\"}}}\n",
    "})"
   ]
  },
  {
   "cell_type": "code",
   "execution_count": 45,
   "metadata": {},
   "outputs": [
    {
     "name": "stdout",
     "output_type": "stream",
     "text": [
      "1.3653846153846154\n"
     ]
    }
   ],
   "source": [
    " #What is this ratio for the ratio of the number of laureates who won an unshared vs share prize?\n",
    "# Save a filter for laureates with unshared prizes\n",
    "unshared = {\n",
    "    \"prizes\": {\"$elemMatch\": {\n",
    "        'category': {\"$nin\": [\"physics\", \"chemistry\", \"medicine\"]},\n",
    "        \"share\": \"1\",\n",
    "        \"year\": {\"$gte\": \"1945\"},\n",
    "    }}}\n",
    "\n",
    "# Save a filter for laureates with shared prizes\n",
    "shared = {\n",
    "    \"prizes\": {\"$elemMatch\": {\n",
    "        'category': {\"$nin\": [\"physics\", \"chemistry\", \"medicine\"]},\n",
    "        \"share\": {'$ne': \"1\"},\n",
    "        \"year\": {\"$gte\": \"1945\"},\n",
    "    }}}\n",
    "\n",
    "ratio = db.laureates.count_documents(unshared) / db.laureates.count_documents(shared)\n",
    "print(ratio)"
   ]
  },
  {
   "cell_type": "markdown",
   "metadata": {},
   "source": [
    "# Filter with Regular Expressions\n",
    "\n",
    "Operator $regex \n",
    "\n",
    "Using \"$option\" : \"i\", ensure case sensitive matching\n",
    "\n",
    "Or use bson Regex class \n",
    "\n",
    "Reminder: in regular expression ^ to specify the beginning, $ for the end and \\ to escape."
   ]
  },
  {
   "cell_type": "code",
   "execution_count": 47,
   "metadata": {},
   "outputs": [
    {
     "data": {
      "text/plain": [
       "['Russian Empire (now Poland)',\n",
       " 'Prussia (now Poland)',\n",
       " 'Germany (now Poland)',\n",
       " 'Austria-Hungary (now Poland)',\n",
       " 'German-occupied Poland (now Poland)',\n",
       " 'Poland',\n",
       " 'Poland (now Ukraine)',\n",
       " 'Poland (now Lithuania)',\n",
       " 'Poland (now Belarus)',\n",
       " 'Free City of Danzig (now Poland)']"
      ]
     },
     "execution_count": 47,
     "metadata": {},
     "output_type": "execute_result"
    }
   ],
   "source": [
    "db.laureates.distinct(\"bornCountry\", {\"bornCountry\": {\"$regex\": \"Poland\"}})"
   ]
  },
  {
   "cell_type": "code",
   "execution_count": 48,
   "metadata": {},
   "outputs": [],
   "source": [
    "case_sensitive = db.laureates.distinct(\n",
    "    \"bornCountry\",\n",
    "    {\"bornCountry\": {\"$regex\": \"Poland\"}})\n",
    "\n",
    "case_insensitive = db.laureates.distinct(\n",
    "    \"bornCountry\",\n",
    "    {\"bornCountry\": {\"$regex\": \"poland\", \"$options\": \"i\"}})\n",
    "\n",
    "assert set(case_sensitive) == set(case_insensitive)"
   ]
  },
  {
   "cell_type": "code",
   "execution_count": 49,
   "metadata": {},
   "outputs": [
    {
     "data": {
      "text/plain": [
       "['Russian Empire (now Poland)',\n",
       " 'Prussia (now Poland)',\n",
       " 'Germany (now Poland)',\n",
       " 'Austria-Hungary (now Poland)',\n",
       " 'German-occupied Poland (now Poland)',\n",
       " 'Poland',\n",
       " 'Poland (now Ukraine)',\n",
       " 'Poland (now Lithuania)',\n",
       " 'Poland (now Belarus)',\n",
       " 'Free City of Danzig (now Poland)']"
      ]
     },
     "execution_count": 49,
     "metadata": {},
     "output_type": "execute_result"
    }
   ],
   "source": [
    "from bson.regex import Regex\n",
    "\n",
    "db.laureates.distinct(\"bornCountry\", {\"bornCountry\": Regex(\"poland\", \"i\")})"
   ]
  },
  {
   "cell_type": "code",
   "execution_count": 50,
   "metadata": {},
   "outputs": [
    {
     "name": "stdout",
     "output_type": "stream",
     "text": [
      "{'Germany (now Poland)', 'Germany (now Russia)', 'Germany (now France)'}\n"
     ]
    }
   ],
   "source": [
    "from bson.regex import Regex\n",
    "\n",
    "# Fill in a string value to be sandwiched between the strings \"^\" and \"now\"\n",
    "criteria = {\"bornCountry\": Regex(\"^\" + \"Germany \\\\(\" + \"now\")}\n",
    "print(set(db.laureates.distinct(\"bornCountry\", criteria)))"
   ]
  },
  {
   "cell_type": "code",
   "execution_count": 56,
   "metadata": {},
   "outputs": [
    {
     "name": "stdout",
     "output_type": "stream",
     "text": [
      "[('William Bradford', 'Shockley'), ('John', 'Bardeen'), ('Walter Houser', 'Brattain')]\n"
     ]
    }
   ],
   "source": [
    "from bson.regex import Regex\n",
    "\n",
    "# Save a filter for laureates with prize motivation values containing \"transistor\" as a substring\n",
    "criteria = {\"prizes.motivation\": Regex(\"transistor\")}\n",
    "\n",
    "# Save the field names corresponding to a laureate's first name and last name\n",
    "first, last = \"firstname\",\"surname\"\n",
    "print([(laureate[first], laureate[last]) for laureate in db.laureates.find(criteria)])\n",
    "\n"
   ]
  },
  {
   "cell_type": "markdown",
   "metadata": {},
   "source": [
    "# MongoDB Projection\n",
    "\n",
    "- Fetch only the fields, which you are interested in. Because it only fetch part of the data, the operation is fast\n",
    "- \"1\" for the field you want and 0 for the field do not want.\n",
    "- Return an iterable. \n",
    "- return object id  (\"_id\") by default unless specified \n",
    "\n",
    "db.collection.find({filter},[projectionfield1,projectionfield2]}\n",
    "db.collection.find({filter},{projectionfield1:\"1\",projectionfield2}}"
   ]
  },
  {
   "cell_type": "markdown",
   "metadata": {},
   "source": [
    "save a list names of full names (\"firstname\" plus \"surname\") of laureates with initials G.S. (ignoring middles names/initials). "
   ]
  },
  {
   "cell_type": "code",
   "execution_count": 57,
   "metadata": {},
   "outputs": [
    {
     "name": "stdout",
     "output_type": "stream",
     "text": [
      "['Glenn Theodore Seaborg', 'George D. Snell', 'Gustav Stresemann', 'George Bernard Shaw', 'Giorgos Seferis', 'George J. Stigler', 'George F. Smoot', 'George E. Smith', 'George P. Smith']\n"
     ]
    }
   ],
   "source": [
    "# Collect a list of full names\n",
    "names = [\" \".join([doc['firstname'], doc['surname']])\n",
    "         for doc in db.laureates.find(\n",
    "             {\"firstname\": {\"$regex\": \"^G\"},\n",
    "              \"surname\": {\"$regex\": \"^S\"}},\n",
    "             [\"firstname\", \"surname\"])]\n",
    "print(names)"
   ]
  },
  {
   "cell_type": "markdown",
   "metadata": {},
   "source": [
    "# Sort result \n",
    "\n",
    "If the dataset is small, post query sort is sufficient. If the data is large, then sort on the server before display.\n",
    "\n"
   ]
  },
  {
   "cell_type": "markdown",
   "metadata": {},
   "source": [
    "## Post query sort "
   ]
  },
  {
   "cell_type": "code",
   "execution_count": 58,
   "metadata": {},
   "outputs": [
    {
     "name": "stdout",
     "output_type": "stream",
     "text": [
      "['2018', '2017', '2016', '2015', '2014']\n"
     ]
    }
   ],
   "source": [
    "docs = list(db.prizes.find({\"category\": \"physics\"}, [\"year\"]))\n",
    "\n",
    "print([doc[\"year\"] for doc in docs][:5])"
   ]
  },
  {
   "cell_type": "code",
   "execution_count": 60,
   "metadata": {},
   "outputs": [
    {
     "name": "stdout",
     "output_type": "stream",
     "text": [
      "['1901', '1902', '1903', '1904', '1905']\n"
     ]
    }
   ],
   "source": [
    "#sort data in chronological order \n",
    "from operator import itemgetter\n",
    "\n",
    "#itemgetter fetch the value of key from the dictionary \n",
    "docs = sorted(docs, key=itemgetter(\"year\"), reverse=False)\n",
    "print([doc[\"year\"] for doc in docs][:5])"
   ]
  },
  {
   "cell_type": "code",
   "execution_count": 55,
   "metadata": {},
   "outputs": [
    {
     "data": {
      "text/plain": [
       "<pymongo.cursor.Cursor at 0x1cb5eb7a1d0>"
      ]
     },
     "execution_count": 55,
     "metadata": {},
     "output_type": "execute_result"
    }
   ],
   "source": [
    "db.laureates.find(criteria)"
   ]
  },
  {
   "cell_type": "markdown",
   "metadata": {},
   "source": [
    "## In-query sort\n",
    "\n",
    "- sort take a tuple `sort = [('key',1)]`\n",
    "- Ascending order use 1 and descending order use -1 \n",
    "- Sort can take a list of keyword arguments. The sort field does not have to be the contained in the projected fields"
   ]
  },
  {
   "cell_type": "code",
   "execution_count": 61,
   "metadata": {},
   "outputs": [
    {
     "name": "stdout",
     "output_type": "stream",
     "text": [
      "['1901', '1902', '1903', '1904', '1905']\n"
     ]
    }
   ],
   "source": [
    "cursor = db.prizes.find({\"category\": \"physics\"}, [\"year\"],\n",
    "                        sort=[(\"year\", 1)])\n",
    "print([doc[\"year\"] for doc in cursor][:5])"
   ]
  },
  {
   "cell_type": "code",
   "execution_count": 64,
   "metadata": {},
   "outputs": [
    {
     "name": "stdout",
     "output_type": "stream",
     "text": [
      "1967 physics\n",
      "1967 medicine\n",
      "1967 literature\n",
      "1967 chemistry\n",
      "1968 physics\n",
      "1968 peace\n",
      "1968 medicine\n",
      "1968 literature\n",
      "1968 chemistry\n",
      "1969 physics\n",
      "1969 peace\n",
      "1969 medicine\n",
      "1969 literature\n",
      "1969 economics\n",
      "1969 chemistry\n"
     ]
    }
   ],
   "source": [
    "# sort by a list of keywords\n",
    "\n",
    "for doc in db.prizes.find(\n",
    "    # look for data between 1966 - 1970 \n",
    "        {\"year\": {\"$gt\": \"1966\", \"$lt\": \"1970\"}},\n",
    "    # projecting category and year columns \n",
    "        [\"category\", \"year\"],\n",
    "    #sort by a list \n",
    "        sort=[(\"year\", 1), (\"category\", -1)]):\n",
    "    # unpack using ** syntax\n",
    "    print(\"{year} {category}\".format(**doc))"
   ]
  },
  {
   "cell_type": "markdown",
   "metadata": {},
   "source": [
    "Print out the names of all physics laureates, with one line printed for each award year, in chronological order. Each line will list laureates for that year in alphabetical order by surname (\"last\" name)."
   ]
  },
  {
   "cell_type": "code",
   "execution_count": 65,
   "metadata": {},
   "outputs": [
    {
     "name": "stdout",
     "output_type": "stream",
     "text": [
      "1901: Röntgen\n",
      "1902: Lorentz\n",
      "1903: Becquerel\n",
      "1904: (John William Strutt)\n",
      "1905: von Lenard\n",
      "1906: Thomson\n",
      "1907: Michelson\n",
      "1908: Lippmann\n",
      "1909: Marconi\n",
      "1910: van der Waals\n",
      "1911: Wien\n",
      "1912: Dalén\n",
      "1913: Kamerlingh Onnes\n",
      "1914: von Laue\n",
      "1915: Bragg\n",
      "1917: Barkla\n",
      "1918: Planck\n",
      "1919: Stark\n",
      "1920: Guillaume\n",
      "1921: Einstein\n",
      "1922: Bohr\n",
      "1923: Millikan\n",
      "1924: Siegbahn\n",
      "1925: Franck\n",
      "1926: Perrin\n",
      "1927: Compton\n",
      "1928: Richardson\n",
      "1929: de Broglie\n",
      "1930: Raman\n",
      "1932: Heisenberg\n",
      "1933: Schrödinger\n",
      "1935: Chadwick\n",
      "1936: Hess\n",
      "1937: Davisson\n",
      "1938: Fermi\n",
      "1939: Lawrence\n",
      "1943: Stern\n",
      "1944: Rabi\n",
      "1945: Pauli\n",
      "1946: Bridgman\n",
      "1947: Appleton\n",
      "1948: Blackett\n",
      "1949: Yukawa\n",
      "1950: Powell\n",
      "1951: Cockcroft\n",
      "1952: Bloch\n",
      "1953: Zernike\n",
      "1954: Born\n",
      "1955: Lamb\n",
      "1956: Shockley\n",
      "1957: Yang\n",
      "1958: Cherenkov\n",
      "1959: Segrè\n",
      "1960: Glaser\n",
      "1961: Hofstadter\n",
      "1962: Landau\n",
      "1963: Wigner\n",
      "1964: Townes\n",
      "1965: Tomonaga\n",
      "1966: Kastler\n",
      "1967: Bethe\n",
      "1968: Alvarez\n",
      "1969: Gell-Mann\n",
      "1970: Alfvén\n",
      "1971: Gabor\n",
      "1972: Bardeen\n",
      "1973: Esaki\n",
      "1974: Ryle\n",
      "1975: Bohr\n",
      "1976: Richter\n",
      "1977: Anderson\n",
      "1978: Kapitsa\n",
      "1979: Glashow\n",
      "1980: Cronin\n",
      "1981: Bloembergen\n",
      "1982: Wilson\n",
      "1983: Chandrasekhar\n",
      "1984: Rubbia\n",
      "1985: von Klitzing\n",
      "1986: Ruska\n",
      "1987: Bednorz\n",
      "1988: Lederman\n",
      "1989: Ramsey\n",
      "1990: Friedman\n",
      "1991: de Gennes\n",
      "1992: Charpak\n",
      "1993: Hulse\n",
      "1994: Brockhouse\n",
      "1995: Perl\n",
      "1996: Lee\n",
      "1997: Chu\n",
      "1998: Laughlin\n",
      "1999: 't Hooft\n",
      "2000: Alferov\n",
      "2001: Cornell\n",
      "2002: Davis Jr.\n",
      "2003: Abrikosov\n",
      "2004: Gross\n",
      "2005: Glauber\n",
      "2006: Mather\n",
      "2007: Fert\n",
      "2008: Nambu\n",
      "2009: Kao\n",
      "2010: Geim\n",
      "2011: Perlmutter\n",
      "2012: Haroche\n",
      "2013: Englert\n",
      "2014: Akasaki\n",
      "2015: Kajita\n",
      "2016: Thouless\n",
      "2017: Weiss\n",
      "2018: Ashkin\n",
      "1901: Wilhelm Conrad Röntgen\n",
      "1902: Hendrik Antoon Lorentz and Pieter Zeeman\n",
      "1903: Antoine Henri Becquerel and Pierre Curie and Marie Curie, née Sklodowska\n",
      "1904: Lord Rayleigh (John William Strutt)\n",
      "1905: Philipp Eduard Anton von Lenard\n",
      "1906: Joseph John Thomson\n",
      "1907: Albert Abraham Michelson\n",
      "1908: Gabriel Lippmann\n",
      "1909: Karl Ferdinand Braun and Guglielmo Marconi\n",
      "1910: Johannes Diderik van der Waals\n",
      "1911: Wilhelm Wien\n",
      "1912: Nils Gustaf Dalén\n",
      "1913: Heike Kamerlingh Onnes\n",
      "1914: Max von Laue\n",
      "1915: Sir William Henry Bragg and William Lawrence Bragg\n",
      "1917: Charles Glover Barkla\n",
      "1918: Max Karl Ernst Ludwig Planck\n",
      "1919: Johannes Stark\n",
      "1920: Charles Edouard Guillaume\n",
      "1921: Albert Einstein\n",
      "1922: Niels Henrik David Bohr\n",
      "1923: Robert Andrews Millikan\n",
      "1924: Karl Manne Georg Siegbahn\n",
      "1925: James Franck and Gustav Ludwig Hertz\n",
      "1926: Jean Baptiste Perrin\n",
      "1927: Arthur Holly Compton and Charles Thomson Rees Wilson\n",
      "1928: Owen Willans Richardson\n",
      "1929: Prince Louis-Victor Pierre Raymond de Broglie\n",
      "1930: Sir Chandrasekhara Venkata Raman\n",
      "1932: Werner Karl Heisenberg\n",
      "1933: Paul Adrien Maurice Dirac and Erwin Schrödinger\n",
      "1935: James Chadwick\n",
      "1936: Carl David Anderson and Victor Franz Hess\n",
      "1937: Clinton Joseph Davisson and George Paget Thomson\n",
      "1938: Enrico Fermi\n",
      "1939: Ernest Orlando Lawrence\n",
      "1943: Otto Stern\n",
      "1944: Isidor Isaac Rabi\n",
      "1945: Wolfgang Pauli\n",
      "1946: Percy Williams Bridgman\n",
      "1947: Sir Edward Victor Appleton\n",
      "1948: Patrick Maynard Stuart Blackett\n",
      "1949: Hideki Yukawa\n",
      "1950: Cecil Frank Powell\n",
      "1951: Sir John Douglas Cockcroft and Ernest Thomas Sinton Walton\n",
      "1952: Felix Bloch and Edward Mills Purcell\n",
      "1953: Frits Zernike\n",
      "1954: Max Born and Walther Bothe\n",
      "1955: Polykarp Kusch and Willis Eugene Lamb\n",
      "1956: John Bardeen and Walter Houser Brattain and William Bradford Shockley\n",
      "1957: Tsung-Dao (T.D.) Lee and Chen Ning Yang\n",
      "1958: Pavel Alekseyevich Cherenkov and Il´ja Mikhailovich Frank and Igor Yevgenyevich Tamm\n",
      "1959: Owen Chamberlain and Emilio Gino Segrè\n",
      "1960: Donald Arthur Glaser\n",
      "1961: Robert Hofstadter and Rudolf Ludwig Mössbauer\n",
      "1962: Lev Davidovich Landau\n",
      "1963: Maria Goeppert Mayer and J. Hans D. Jensen and Eugene Paul Wigner\n",
      "1964: Nicolay Gennadiyevich Basov and Aleksandr Mikhailovich Prokhorov and Charles Hard Townes\n",
      "1965: Richard P. Feynman and Julian Schwinger and Sin-Itiro Tomonaga\n",
      "1966: Alfred Kastler\n",
      "1967: Hans Albrecht Bethe\n",
      "1968: Luis Walter Alvarez\n",
      "1969: Murray Gell-Mann\n",
      "1970: Hannes Olof Gösta Alfvén and Louis Eugène Félix Néel\n",
      "1971: Dennis Gabor\n",
      "1972: John Bardeen and Leon Neil Cooper and John Robert Schrieffer\n",
      "1973: Leo Esaki and Ivar Giaever and Brian David Josephson\n",
      "1974: Antony Hewish and Sir Martin Ryle\n",
      "1975: Aage Niels Bohr and Ben Roy Mottelson and Leo James Rainwater\n",
      "1976: Burton Richter and Samuel Chao Chung Ting\n",
      "1977: Philip Warren Anderson and Sir Nevill Francis Mott and John Hasbrouck van Vleck\n",
      "1978: Pyotr Leonidovich Kapitsa and Arno Allan Penzias and Robert Woodrow Wilson\n",
      "1979: Sheldon Lee Glashow and Abdus Salam and Steven Weinberg\n",
      "1980: James Watson Cronin and Val Logsdon Fitch\n",
      "1981: Nicolaas Bloembergen and Arthur Leonard Schawlow and Kai M. Siegbahn\n",
      "1982: Kenneth G. Wilson\n",
      "1983: Subramanyan Chandrasekhar and William Alfred Fowler\n",
      "1984: Carlo Rubbia and Simon van der Meer\n",
      "1985: Klaus von Klitzing\n",
      "1986: Gerd Binnig and Heinrich Rohrer and Ernst Ruska\n",
      "1987: J. Georg Bednorz and K. Alexander Müller\n",
      "1988: Leon M. Lederman and Melvin Schwartz and Jack Steinberger\n",
      "1989: Hans G. Dehmelt and Wolfgang Paul and Norman F. Ramsey\n",
      "1990: Jerome I. Friedman and Henry W. Kendall and Richard E. Taylor\n",
      "1991: Pierre-Gilles de Gennes\n",
      "1992: Georges Charpak\n",
      "1993: Russell A. Hulse and Joseph H. Taylor Jr.\n",
      "1994: Bertram N. Brockhouse and Clifford G. Shull\n",
      "1995: Martin L. Perl and Frederick Reines\n",
      "1996: David M. Lee and Douglas D. Osheroff and Robert C. Richardson\n",
      "1997: Steven Chu and Claude Cohen-Tannoudji and William D. Phillips\n",
      "1998: Robert B. Laughlin and Horst L. Störmer and Daniel C. Tsui\n",
      "1999: Gerardus 't Hooft and Martinus J.G. Veltman\n",
      "2000: Zhores I. Alferov and Jack S. Kilby and Herbert Kroemer\n",
      "2001: Eric A. Cornell and Wolfgang Ketterle and Carl E. Wieman\n",
      "2002: Raymond Davis Jr. and Riccardo Giacconi and Masatoshi Koshiba\n",
      "2003: Alexei A. Abrikosov and Vitaly L. Ginzburg and Anthony J. Leggett\n",
      "2004: David J. Gross and H. David Politzer and Frank Wilczek\n",
      "2005: Roy J. Glauber and John L. Hall and Theodor W. Hänsch\n",
      "2006: John C. Mather and George F. Smoot\n",
      "2007: Albert Fert and Peter Grünberg\n",
      "2008: Makoto Kobayashi and Toshihide Maskawa and Yoichiro Nambu\n",
      "2009: Willard S. Boyle and Charles Kuen Kao and George E. Smith\n",
      "2010: Andre Geim and Konstantin Novoselov\n",
      "2011: Saul Perlmutter and Adam G. Riess and Brian P. Schmidt\n",
      "2012: Serge Haroche and David J. Wineland\n",
      "2013: François Englert and Peter W. Higgs\n",
      "2014: Isamu Akasaki and Hiroshi Amano and Shuji Nakamura\n",
      "2015: Takaaki Kajita and Arthur B. McDonald\n",
      "2016: F. Duncan M. Haldane and J. Michael Kosterlitz and David J. Thouless\n",
      "2017: Barry C. Barish and Kip S. Thorne and Rainer Weiss\n",
      "2018: Arthur Ashkin and Gérard Mourou and Donna Strickland\n"
     ]
    }
   ],
   "source": [
    "from operator import itemgetter\n",
    "\n",
    "# Sort by ascending year\n",
    "sort_spec = [(\"year\", 1)]\n",
    "\n",
    "# Construct a cursor over physics prizes\n",
    "cursor = db.prizes.find({\"category\": \"physics\"}, [\"year\", \"laureates.firstname\", \"laureates.surname\"], sort=sort_spec)\n",
    "docs = list(cursor)\n",
    "for doc in sorted(docs, key=itemgetter(\"year\")):\n",
    "    print(\"{year}: {first_laureate_surname}\".format(\n",
    "        year=doc[\"year\"], first_laureate_surname=doc[\"laureates\"][0][\"surname\"]))\n",
    "cursor.rewind() # Rewind cursor to reuse in the next step\n",
    "\n",
    "# Define a function names() to return a list of formatted names\n",
    "def names(doc):\n",
    "    formatted_names = [\"{firstname} {surname}\".format(**laureate)\n",
    "           # sort by surname, but return laureate field            \n",
    "          for laureate in sorted(doc[\"laureates\"], key=itemgetter('surname'))]\n",
    "    return formatted_names\n",
    "\n",
    "lines = [\"{year}: {names}\".format(year=doc[\"year\"], names=\" and \".join(names(doc)))\n",
    "         for doc in cursor]\n",
    "for line in lines: print(line)\n"
   ]
  },
  {
   "cell_type": "markdown",
   "metadata": {},
   "source": [
    "1. Sorting first by reverse chronological order and second by alphabetical order of category, collect and format prize documents to produce one formatted entry per year listing categories missing for that year.\n",
    "\n",
    "2. Use <collection>.find to construct a cursor cursor that yields prize documents only for categories in the list of original categories, sorted first by decreasing year and second by increasing category.\n",
    "    \n",
    " 3. Collect a list not_awarded of entries to be printed, one per line, that display a year and the categories missing for that year. You will collect \"category\" values for each year and set-subtract them from the original categories."
   ]
  },
  {
   "cell_type": "code",
   "execution_count": 67,
   "metadata": {},
   "outputs": [
    {
     "name": "stdout",
     "output_type": "stream",
     "text": [
      "2018: literature\n",
      "1972: peace\n",
      "1967: peace\n",
      "1966: peace\n",
      "1956: peace\n",
      "1955: peace\n",
      "1948: peace\n",
      "1943: literature, peace\n",
      "1939: peace\n",
      "1935: literature\n",
      "1934: physics\n",
      "1933: chemistry\n",
      "1932: peace\n",
      "1931: physics\n",
      "1928: peace\n",
      "1925: medicine\n",
      "1924: chemistry, peace\n",
      "1923: peace\n",
      "1921: medicine\n",
      "1919: chemistry\n",
      "1918: literature, medicine, peace\n",
      "1917: chemistry, medicine\n",
      "1916: chemistry, medicine, peace, physics\n",
      "1915: medicine, peace\n",
      "1914: literature, peace\n"
     ]
    }
   ],
   "source": [
    "import itertools\n",
    "from operator import itemgetter\n",
    "\n",
    "# Save the set of prize categories awarded in 1901\n",
    "original_categories = set(db.prizes.distinct(\"category\", {\"year\": \"1901\"}))\n",
    "\n",
    "# Construct a cursor over original-category prizes\n",
    "cursor = db.prizes.find({\"category\": {\"$in\": list(original_categories)}}, [\"category\", \"year\"],\n",
    "                        sort=[(\"year\", -1), (\"category\", 1)])\n",
    "\n",
    "# Collect entries for missing prize categories\n",
    "not_awarded = []\n",
    "for key, group in itertools.groupby(cursor, key=itemgetter(\"year\")):\n",
    "    year_categories = set(prize['category'] for prize in group)\n",
    "    missing = \", \".join(sorted(original_categories - year_categories))\n",
    "    if missing: not_awarded.append(\"{}: {}\".format(key, missing))\n",
    "\n",
    "for line in not_awarded: print(line)"
   ]
  },
  {
   "cell_type": "markdown",
   "metadata": {},
   "source": [
    "# Indexes in MongoDB\n",
    "\n",
    "Help speed the look up. Index field using the value of those fields. Analogy with indexes of a book. Each collection is a book. Each document as a page, and each field is a type of content.\n",
    "\n",
    "Indexes is useful when:\n",
    "- expected a few documents back\n",
    "- large collections \n",
    "\n",
    "Index covers a query projection\n",
    "`information` ask if an index exist \n",
    "This command find all existing indexes\n",
    "db.laureates.index_information() \n",
    "\n",
    "`explain()` details how a given query will execute\n",
    "db.laureates.find(\n",
    "    {\"firstname\": \"Marie\"}, {\"bornCountry\": 1, \"_id\": 0}).explain()"
   ]
  },
  {
   "cell_type": "markdown",
   "metadata": {},
   "source": [
    "For each prize category, report the most recent year that a single laureate -- rather than several -- received a prize in that category."
   ]
  },
  {
   "cell_type": "code",
   "execution_count": 68,
   "metadata": {},
   "outputs": [
    {
     "name": "stdout",
     "output_type": "stream",
     "text": [
      "chemistry: 2011\n",
      "economics: 2017\n",
      "literature: 2017\n",
      "medicine: 2016\n",
      "peace: 2017\n",
      "physics: 1992\n",
      "\n"
     ]
    }
   ],
   "source": [
    "# Specify an index model for compound sorting\n",
    "index_model = [(\"category\", 1), (\"year\", -1)]\n",
    "db.prizes.create_index(index_model)\n",
    "\n",
    "# Collect the last single-laureate year for each category\n",
    "report = \"\"\n",
    "for category in sorted(db.prizes.distinct(\"category\")):\n",
    "    doc = db.prizes.find_one(\n",
    "        {\"category\": category, \"laureates.share\": \"1\"},\n",
    "        sort=[(\"year\", -1)]\n",
    "    )\n",
    "    report += \"{category}: {year}\\n\".format(**doc)\n",
    "\n",
    "print(report)"
   ]
  },
  {
   "cell_type": "markdown",
   "metadata": {},
   "source": [
    "Find the five countries of birth with the highest counts of  laureates with both their country of birth (\"bornCountry\") and a country of affiliation the same."
   ]
  },
  {
   "cell_type": "code",
   "execution_count": 69,
   "metadata": {},
   "outputs": [
    {
     "name": "stdout",
     "output_type": "stream",
     "text": [
      "[('USA', 241), ('United Kingdom', 56), ('France', 26), ('Germany', 19), ('Japan', 17)]\n"
     ]
    }
   ],
   "source": [
    "from collections import Counter\n",
    "\n",
    "# Ensure an index on country of birth\n",
    "db.laureates.create_index([(\"bornCountry\", 1)])\n",
    "\n",
    "# Collect a count of laureates for each country of birth\n",
    "n_born_and_affiliated = {\n",
    "    country: db.laureates.count_documents({\n",
    "        'bornCountry': country,\n",
    "        \"prizes.affiliations.country\": country\n",
    "    })\n",
    "    for country in db.laureates.distinct(\"bornCountry\")\n",
    "}\n",
    "\n",
    "five_most_common = Counter(n_born_and_affiliated).most_common(5)\n",
    "print(five_most_common)"
   ]
  },
  {
   "cell_type": "markdown",
   "metadata": {},
   "source": [
    "# Limits and Skips with Sorts\n",
    "\n",
    "help search documents with extreme values"
   ]
  },
  {
   "cell_type": "markdown",
   "metadata": {},
   "source": [
    "## Limit the search"
   ]
  },
  {
   "cell_type": "code",
   "execution_count": 71,
   "metadata": {},
   "outputs": [],
   "source": [
    "#verify that all prizes have a 1/3 shares  or none at all\n",
    "for doc in db.prizes.find({}, [\"laureates.share\"]):\n",
    "    share_is_three = [laureate[\"share\"] == \"3\"\n",
    "                      for laureate in doc[\"laureates\"]]\n",
    "    assert all(share_is_three) or not any(share_is_three)"
   ]
  },
  {
   "cell_type": "code",
   "execution_count": 77,
   "metadata": {},
   "outputs": [
    {
     "name": "stdout",
     "output_type": "stream",
     "text": [
      "2017 chemistry\n",
      "2017 medicine\n",
      "2016 chemistry\n",
      "2015 chemistry\n",
      "2014 physics\n",
      "2014 chemistry\n",
      "2013 chemistry\n",
      "2013 medicine\n",
      "2013 economics\n",
      "2011 peace\n"
     ]
    }
   ],
   "source": [
    "# print info on prizes split three ways and limit the output to 3\n",
    "for doc in db.prizes.find({\"laureates.share\": \"3\"}, limit=10):\n",
    "    print(\"{year} {category}\".format(**doc))"
   ]
  },
  {
   "cell_type": "code",
   "execution_count": 78,
   "metadata": {},
   "outputs": [
    {
     "name": "stdout",
     "output_type": "stream",
     "text": [
      "2015 chemistry\n",
      "2014 physics\n",
      "2014 chemistry\n"
     ]
    }
   ],
   "source": [
    "# print info on prizes split three ways \n",
    "# limit the output to 3 and skip the first 3 record\n",
    "for doc in db.prizes.find({\"laureates.share\": \"3\"}, skip=3,limit=3):\n",
    "    print(\"{year} {category}\".format(**doc))"
   ]
  },
  {
   "cell_type": "code",
   "execution_count": 76,
   "metadata": {},
   "outputs": [
    {
     "name": "stdout",
     "output_type": "stream",
     "text": [
      "2015 chemistry\n",
      "2014 physics\n",
      "2014 chemistry\n"
     ]
    }
   ],
   "source": [
    "#another way to limit is to chain the method\n",
    "for doc in db.prizes.find({\"laureates.share\": \"3\"}).limit(3).skip(3):\n",
    "    print(\"{year} {category}\".format(**doc))"
   ]
  },
  {
   "cell_type": "markdown",
   "metadata": {},
   "source": [
    "Limit with sort"
   ]
  },
  {
   "cell_type": "code",
   "execution_count": 80,
   "metadata": {},
   "outputs": [
    {
     "name": "stdout",
     "output_type": "stream",
     "text": [
      "1954 medicine\n",
      "1956 physics\n",
      "1956 medicine\n"
     ]
    }
   ],
   "source": [
    "cursor2 = (db.prizes.find({\"laureates.share\": \"3\"}).skip(3).limit(3)\n",
    "          .sort(\"year\", 1))\n",
    "\n",
    "docs = list(cursor2)\n",
    "for doc in docs:\n",
    "    print(\"{year} {category}\".format(**doc))"
   ]
  },
  {
   "cell_type": "code",
   "execution_count": 81,
   "metadata": {},
   "outputs": [
    {
     "name": "stdout",
     "output_type": "stream",
     "text": [
      "[{'_id': ObjectId('5c9fd8a604ac58346c84e93d'),\n",
      "  'category': 'physics',\n",
      "  'laureates': [{'motivation': '\"in recognition of the extraordinary services '\n",
      "                               'he has rendered by his discovery of '\n",
      "                               'spontaneous radioactivity\"'},\n",
      "                {'motivation': '\"in recognition of the extraordinary services '\n",
      "                               'they have rendered by their joint researches '\n",
      "                               'on the radiation phenomena discovered by '\n",
      "                               'Professor Henri Becquerel\"'},\n",
      "                {'motivation': '\"in recognition of the extraordinary services '\n",
      "                               'they have rendered by their joint researches '\n",
      "                               'on the radiation phenomena discovered by '\n",
      "                               'Professor Henri Becquerel\"'}],\n",
      "  'year': '1903'},\n",
      " {'_id': ObjectId('5c9fd8a604ac58346c84e892'),\n",
      "  'category': 'chemistry',\n",
      "  'laureates': [{'motivation': '\"for his discovery that enzymes can be '\n",
      "                               'crystallized\"'},\n",
      "                {'motivation': '\"for their preparation of enzymes and virus '\n",
      "                               'proteins in a pure form\"'},\n",
      "                {'motivation': '\"for their preparation of enzymes and virus '\n",
      "                               'proteins in a pure form\"'}],\n",
      "  'year': '1946'},\n",
      " {'_id': ObjectId('5c9fd8a604ac58346c84e88e'),\n",
      "  'category': 'medicine',\n",
      "  'laureates': [{'motivation': '\"for their discovery of the course of the '\n",
      "                               'catalytic conversion of glycogen\"'},\n",
      "                {'motivation': '\"for their discovery of the course of the '\n",
      "                               'catalytic conversion of glycogen\"'},\n",
      "                {'motivation': '\"for his discovery of the part played by the '\n",
      "                               'hormone of the anterior pituitary lobe in the '\n",
      "                               'metabolism of sugar\"'}],\n",
      "  'year': '1947'},\n",
      " {'_id': ObjectId('5c9fd8a604ac58346c84e85a'),\n",
      "  'category': 'medicine',\n",
      "  'laureates': [{'motivation': '\"for their discovery that genes act by '\n",
      "                               'regulating definite chemical events\"'},\n",
      "                {'motivation': '\"for their discovery that genes act by '\n",
      "                               'regulating definite chemical events\"'},\n",
      "                {'motivation': '\"for his discoveries concerning genetic '\n",
      "                               'recombination and the organization of the '\n",
      "                               'genetic material of bacteria\"'}],\n",
      "  'year': '1958'},\n",
      " {'_id': ObjectId('5c9fd8a604ac58346c84e83f'),\n",
      "  'category': 'physics',\n",
      "  'laureates': [{'motivation': '\"for his contributions to the theory of the '\n",
      "                               'atomic nucleus and the elementary particles, '\n",
      "                               'particularly through the discovery and '\n",
      "                               'application of fundamental symmetry '\n",
      "                               'principles\"'},\n",
      "                {'motivation': '\"for their discoveries concerning nuclear '\n",
      "                               'shell structure\"'},\n",
      "                {'motivation': '\"for their discoveries concerning nuclear '\n",
      "                               'shell structure\"'}],\n",
      "  'year': '1963'}]\n"
     ]
    }
   ],
   "source": [
    "from pprint import pprint\n",
    "\n",
    "# Fetch prizes with quarter-share laureate(s)\n",
    "filter_ = {\"laureates.share\": \"4\"}\n",
    "\n",
    "# Save the list of field names\n",
    "projection = ['category', 'year', \"laureates.motivation\"]\n",
    "\n",
    "# Save a cursor to yield the first five prizes\n",
    "cursor = db.prizes.find(filter_, projection).sort(\"year\").limit(5)\n",
    "pprint(list(cursor))"
   ]
  },
  {
   "cell_type": "markdown",
   "metadata": {},
   "source": [
    "Want to present these laureates one page at a time, with three laureates per page"
   ]
  },
  {
   "cell_type": "code",
   "execution_count": 82,
   "metadata": {},
   "outputs": [
    {
     "name": "stdout",
     "output_type": "stream",
     "text": [
      "[{'_id': ObjectId('5c9fd8a804ac58346c84e96c'),\n",
      "  'firstname': 'Charles Thomson Rees',\n",
      "  'prizes': [{'affiliations': [{'city': 'Cambridge',\n",
      "                                'country': 'United Kingdom',\n",
      "                                'name': 'University of Cambridge'}],\n",
      "              'category': 'physics',\n",
      "              'motivation': '\"for his method of making the paths of '\n",
      "                            'electrically charged particles visible by '\n",
      "                            'condensation of vapour\"',\n",
      "              'share': '2',\n",
      "              'year': '1927'}],\n",
      "  'surname': 'Wilson'},\n",
      " {'_id': ObjectId('5c9fd8a804ac58346c84e982'),\n",
      "  'firstname': 'Sir John Douglas',\n",
      "  'prizes': [{'affiliations': [{'city': 'Harwell, Berkshire',\n",
      "                                'country': 'United Kingdom',\n",
      "                                'name': 'Atomic Energy Research '\n",
      "                                        'Establishment'}],\n",
      "              'category': 'physics',\n",
      "              'motivation': '\"for their pioneer work on the transmutation of '\n",
      "                            'atomic nuclei by artificially accelerated atomic '\n",
      "                            'particles\"',\n",
      "              'share': '2',\n",
      "              'year': '1951'}],\n",
      "  'surname': 'Cockcroft'},\n",
      " {'_id': ObjectId('5c9fd8a804ac58346c84e983'),\n",
      "  'firstname': 'Ernest Thomas Sinton',\n",
      "  'prizes': [{'affiliations': [{'city': 'Dublin',\n",
      "                                'country': 'Ireland',\n",
      "                                'name': 'Trinity College'}],\n",
      "              'category': 'physics',\n",
      "              'motivation': '\"for their pioneer work on the transmutation of '\n",
      "                            'atomic nuclei by artificially accelerated atomic '\n",
      "                            'particles\"',\n",
      "              'share': '2',\n",
      "              'year': '1951'}],\n",
      "  'surname': 'Walton'}]\n"
     ]
    }
   ],
   "source": [
    "from pprint import pprint\n",
    "\n",
    "# Write a function to retrieve a page of data\n",
    "def get_particle_laureates(page_number=1, page_size=3):\n",
    "    if page_number < 1 or not isinstance(page_number, int):\n",
    "        raise ValueError(\"Pages are natural numbers (starting from 1).\")\n",
    "    particle_laureates = list(\n",
    "        db.laureates.find(\n",
    "            {\"prizes.motivation\": {'$regex': \"particle\"}},\n",
    "            [\"firstname\", \"surname\", \"prizes\"])\n",
    "        .sort([('prizes.year', 1), (\"surname\", 1)])\n",
    "        .skip(page_size * (page_number - 1))\n",
    "        .limit(page_size))\n",
    "    return particle_laureates\n",
    "\n",
    "# Collect and save the first nine pages\n",
    "pages = [get_particle_laureates(page_number=page) for page in range(1,9)]\n",
    "pprint(pages[0])"
   ]
  },
  {
   "cell_type": "markdown",
   "metadata": {},
   "source": [
    "# Aggregation on the server\n",
    "\n",
    "aggegration pipeline looks like this \n",
    "\n",
    "cursor = db.laureates.aggregate([\n",
    "  stage_1,\n",
    "  stage_2,\n",
    "  ...\n",
    "])"
   ]
  },
  {
   "cell_type": "code",
   "execution_count": 83,
   "metadata": {},
   "outputs": [
    {
     "name": "stdout",
     "output_type": "stream",
     "text": [
      "[{'year': '1923'}]\n",
      "[{'year': '1927'}]\n",
      "[{'year': '1936'}]\n"
     ]
    }
   ],
   "source": [
    "cursor = db.laureates.find(\n",
    "  filter={\"bornCountry\": \"USA\"},\n",
    "  projection={\"prizes.year\": 1},\n",
    "  limit=3\n",
    ")\n",
    "\n",
    "for doc in cursor:\n",
    "  print(doc[\"prizes\"])"
   ]
  },
  {
   "cell_type": "code",
   "execution_count": 84,
   "metadata": {},
   "outputs": [
    {
     "name": "stdout",
     "output_type": "stream",
     "text": [
      "[{'year': '1923'}]\n",
      "[{'year': '1927'}]\n",
      "[{'year': '1936'}]\n"
     ]
    }
   ],
   "source": [
    "cursor = db.laureates.aggregate([\n",
    "  {\"$match\": {\"bornCountry\": \"USA\"}},\n",
    "  {\"$project\": {\"prizes.year\": 1}},\n",
    "  {\"$limit\": 3}\n",
    "])\n",
    "for doc in cursor:\n",
    "  print(doc[\"prizes\"])"
   ]
  },
  {
   "cell_type": "code",
   "execution_count": 86,
   "metadata": {},
   "outputs": [
    {
     "data": {
      "text/plain": [
       "[{'prizes': [{'year': '1912'}]},\n",
       " {'prizes': [{'year': '1914'}]},\n",
       " {'prizes': [{'year': '1919'}]}]"
      ]
     },
     "execution_count": 86,
     "metadata": {},
     "output_type": "execute_result"
    }
   ],
   "source": [
    "from collections import OrderedDict\n",
    "\n",
    "list(db.laureates.aggregate([\n",
    "    {\"$match\": {\"bornCountry\": \"USA\"}},\n",
    "    {\"$project\": {\"prizes.year\": 1, \"_id\": 0}},\n",
    "    {\"$sort\": OrderedDict([(\"prizes.year\", 1)])},\n",
    "    {\"$skip\": 1},\n",
    "    {\"$limit\": 3}\n",
    "]))"
   ]
  },
  {
   "cell_type": "markdown",
   "metadata": {},
   "source": [
    "to count"
   ]
  },
  {
   "cell_type": "code",
   "execution_count": 87,
   "metadata": {},
   "outputs": [
    {
     "data": {
      "text/plain": [
       "[{'n_USA-born-laureates': 269}]"
      ]
     },
     "execution_count": 87,
     "metadata": {},
     "output_type": "execute_result"
    }
   ],
   "source": [
    "list(db.laureates.aggregate([\n",
    "    {\"$match\": {\"bornCountry\": \"USA\"}},\n",
    "    {\"$count\": \"n_USA-born-laureates\"}\n",
    "]))"
   ]
  },
  {
   "cell_type": "markdown",
   "metadata": {},
   "source": [
    "Find an equivalent aggregation pipeline with the below cursor command"
   ]
  },
  {
   "cell_type": "code",
   "execution_count": 89,
   "metadata": {},
   "outputs": [
    {
     "name": "stdout",
     "output_type": "stream",
     "text": [
      "Prussia (now Germany): [{'affiliations': [{'country': 'Germany'}]}]\n",
      "the Netherlands: [{'affiliations': [{'country': 'the Netherlands'}]}]\n",
      "the Netherlands: [{'affiliations': [{'country': 'the Netherlands'}]}]\n"
     ]
    }
   ],
   "source": [
    "cursor = (db.laureates.find(\n",
    "    {\"gender\": {\"$ne\": \"org\"}},\n",
    "    [\"bornCountry\", \"prizes.affiliations.country\"]\n",
    ").limit(3))\n",
    "\n",
    "for doc in cursor:\n",
    "    print(\"{bornCountry}: {prizes}\".format(**doc))"
   ]
  },
  {
   "cell_type": "code",
   "execution_count": 90,
   "metadata": {},
   "outputs": [
    {
     "name": "stdout",
     "output_type": "stream",
     "text": [
      "Prussia (now Germany): [{'affiliations': [{'country': 'Germany'}]}]\n",
      "the Netherlands: [{'affiliations': [{'country': 'the Netherlands'}]}]\n",
      "the Netherlands: [{'affiliations': [{'country': 'the Netherlands'}]}]\n"
     ]
    }
   ],
   "source": [
    "# the equivalent pipeline is \n",
    "# Translate cursor to aggregation pipeline\n",
    "pipeline = [\n",
    "    {\"$match\": {\"gender\": {\"$ne\": \"org\"}}},\n",
    "    {\"$project\": {\"bornCountry\": 1, \"prizes.affiliations.country\": 1}},\n",
    "    {\"$limit\": 3}\n",
    "]\n",
    "\n",
    "for doc in db.laureates.aggregate(pipeline):\n",
    "    print(\"{bornCountry}: {prizes}\".format(**doc))\n"
   ]
  },
  {
   "cell_type": "markdown",
   "metadata": {},
   "source": [
    "Construct an aggregation pipeline to collect, in reverse chronological order (i.e., descending year), prize documents for all original categories (that is, $in categories awarded in 1901). Project only the prize year and category (including document _id is fine).\n",
    "\n",
    "The aggregation cursor will be fed to Python's itertools.groupby function to group prizes by year. For each year that at least one of the original prize categories was missing, a line with all missing categories for that year will be printed."
   ]
  },
  {
   "cell_type": "code",
   "execution_count": 91,
   "metadata": {
    "scrolled": true
   },
   "outputs": [
    {
     "name": "stdout",
     "output_type": "stream",
     "text": [
      "2018: literature\n",
      "1972: peace\n",
      "1967: peace\n",
      "1966: peace\n",
      "1956: peace\n",
      "1955: peace\n",
      "1948: peace\n",
      "1943: literature, peace\n",
      "1939: peace\n",
      "1935: literature\n",
      "1934: physics\n",
      "1933: chemistry\n",
      "1932: peace\n",
      "1931: physics\n",
      "1928: peace\n",
      "1925: medicine\n",
      "1924: chemistry, peace\n",
      "1923: peace\n",
      "1921: medicine\n",
      "1919: chemistry\n",
      "1918: literature, medicine, peace\n",
      "1917: chemistry, medicine\n",
      "1916: chemistry, medicine, peace, physics\n",
      "1915: medicine, peace\n",
      "1914: literature, peace\n"
     ]
    }
   ],
   "source": [
    "from collections import OrderedDict\n",
    "from itertools import groupby\n",
    "from operator import itemgetter\n",
    "\n",
    "original_categories = set(db.prizes.distinct(\"category\", {\"year\": \"1901\"}))\n",
    "\n",
    "# Save an pipeline to collect original-category prizes\n",
    "pipeline = [\n",
    "    {\"$match\": {'category': {\"$in\": sorted(original_categories)}}},\n",
    "    {\"$project\": {\"year\": 1, \"category\": 1}},\n",
    "    {\"$sort\": OrderedDict([(\"year\", -1)])}\n",
    "]\n",
    "cursor = db.prizes.aggregate(pipeline)\n",
    "for key, group in groupby(cursor, key=itemgetter(\"year\")):\n",
    "    missing = original_categories - {doc[\"category\"] for doc in group}\n",
    "    if missing:\n",
    "        print(\"{year}: {missing}\".format(year=key, missing=\", \".join(sorted(missing))))"
   ]
  },
  {
   "cell_type": "markdown",
   "metadata": {},
   "source": [
    "Field paths \n",
    "* expression object = {field1:<expression>,...}\n",
    "\n",
    "in the example below, an expression object to a project stage. The object has one key, \"prizes.share\" with expression value 1  "
   ]
  },
  {
   "cell_type": "code",
   "execution_count": 92,
   "metadata": {},
   "outputs": [
    {
     "data": {
      "text/plain": [
       "{'_id': ObjectId('5c9fd8a804ac58346c84e94c'), 'prizes': [{'share': '1'}]}"
      ]
     },
     "execution_count": 92,
     "metadata": {},
     "output_type": "execute_result"
    }
   ],
   "source": [
    "db.laureates.aggregate([\n",
    "    {\"$project\": {\"prizes.share\": 1}}\n",
    "]).next()"
   ]
  },
  {
   "cell_type": "markdown",
   "metadata": {},
   "source": [
    "Here we project the field called n_prizes. The field takes the value of the expression `\"$size\"` maps to $prize\n",
    "* `$prizes` is a field path. It takes the value of the prizes field for each document processed at that stage by the pipeline.\n",
    "*  `\"$size\": \"$prizes\"` is an operator expression. Treats an operator as a function. The expression applies the size operator to one ore more arguments and returns a value. Here it takes `$prizes` as an argument, and assign the size to `$n_prizes`.\n",
    "\n",
    "The operator expression can take a list thus `[\"$prizes\"]` will give the same result.\n",
    "\n",
    "Field in MongoDB is preceed by $ sign \n"
   ]
  },
  {
   "cell_type": "code",
   "execution_count": 93,
   "metadata": {},
   "outputs": [
    {
     "data": {
      "text/plain": [
       "{'_id': ObjectId('5c9fd8a804ac58346c84e94c'), 'n_prizes': 1}"
      ]
     },
     "execution_count": 93,
     "metadata": {},
     "output_type": "execute_result"
    }
   ],
   "source": [
    "db.laureates.aggregate([\n",
    "    {\"$project\": {\"n_prizes\": {\"$size\": \"$prizes\"}}}\n",
    "]).next()"
   ]
  },
  {
   "cell_type": "markdown",
   "metadata": {},
   "source": [
    "Translate distint() collection method to aggegation"
   ]
  },
  {
   "cell_type": "code",
   "execution_count": 97,
   "metadata": {},
   "outputs": [
    {
     "data": {
      "text/plain": [
       "True"
      ]
     },
     "execution_count": 97,
     "metadata": {},
     "output_type": "execute_result"
    }
   ],
   "source": [
    "list_1 = db.laureates.distinct(\"bornCountry\")\n",
    "# each output document will have _id as a distinct value of bornCountry \n",
    "list_2 = [doc[\"_id\"] for doc in db.laureates.aggregate([\n",
    "    {\"$group\": {\"_id\": \"$bornCountry\"}}\n",
    "])]\n",
    "\n",
    "set(list_2) == set(list_1)"
   ]
  },
  {
   "cell_type": "code",
   "execution_count": 98,
   "metadata": {},
   "outputs": [
    {
     "data": {
      "text/plain": [
       "{'Argentina',\n",
       " 'Australia',\n",
       " 'Austria',\n",
       " 'Austria-Hungary (now Austria)',\n",
       " 'Austria-Hungary (now Bosnia and Herzegovina)',\n",
       " 'Austria-Hungary (now Croatia)',\n",
       " 'Austria-Hungary (now Czech Republic)',\n",
       " 'Austria-Hungary (now Hungary)',\n",
       " 'Austria-Hungary (now Poland)',\n",
       " 'Austria-Hungary (now Slovenia)',\n",
       " 'Austria-Hungary (now Ukraine)',\n",
       " 'Austrian Empire (now Austria)',\n",
       " 'Austrian Empire (now Czech Republic)',\n",
       " 'Austrian Empire (now Italy)',\n",
       " 'Bavaria (now Germany)',\n",
       " 'Belgium',\n",
       " 'Bosnia (now Bosnia and Herzegovina)',\n",
       " 'Brazil',\n",
       " 'British India (now Bangladesh)',\n",
       " 'British India (now India)',\n",
       " 'British Mandate of Palestine (now Israel)',\n",
       " 'British Protectorate of Palestine (now Israel)',\n",
       " 'British West Indies (now Saint Lucia)',\n",
       " 'Bulgaria',\n",
       " 'Burma (now Myanmar)',\n",
       " 'Canada',\n",
       " 'Chile',\n",
       " 'China',\n",
       " 'Colombia',\n",
       " 'Costa Rica',\n",
       " 'Crete (now Greece)',\n",
       " 'Cyprus',\n",
       " 'Czechoslovakia (now Czech Republic)',\n",
       " 'Denmark',\n",
       " 'East Friesland (now Germany)',\n",
       " 'East Timor',\n",
       " 'Egypt',\n",
       " 'Faroe Islands (Denmark)',\n",
       " 'Finland',\n",
       " 'France',\n",
       " 'Free City of Danzig (now Poland)',\n",
       " 'French Algeria (now Algeria)',\n",
       " 'German-occupied Poland (now Poland)',\n",
       " 'Germany',\n",
       " 'Germany (now France)',\n",
       " 'Germany (now Poland)',\n",
       " 'Germany (now Russia)',\n",
       " 'Gold Coast (now Ghana)',\n",
       " 'Guadeloupe Island',\n",
       " 'Guatemala',\n",
       " 'Hesse-Kassel (now Germany)',\n",
       " 'Hungary',\n",
       " 'Hungary (now Slovakia)',\n",
       " 'Iceland',\n",
       " 'India',\n",
       " 'India (now Pakistan)',\n",
       " 'Iran',\n",
       " 'Ireland',\n",
       " 'Italy',\n",
       " 'Japan',\n",
       " 'Java, Dutch East Indies (now Indonesia)',\n",
       " 'Kenya',\n",
       " 'Korea (now South Korea)',\n",
       " 'Liberia',\n",
       " 'Lithuania',\n",
       " 'Luxembourg',\n",
       " 'Madagascar',\n",
       " 'Mecklenburg (now Germany)',\n",
       " 'Mexico',\n",
       " 'Morocco',\n",
       " 'New Zealand',\n",
       " 'Nigeria',\n",
       " None,\n",
       " 'Northern Ireland',\n",
       " 'Norway',\n",
       " 'Ottoman Empire (now Republic of Macedonia)',\n",
       " 'Ottoman Empire (now Turkey)',\n",
       " 'Pakistan',\n",
       " 'Persia (now Iran)',\n",
       " 'Peru',\n",
       " 'Poland',\n",
       " 'Poland (now Belarus)',\n",
       " 'Poland (now Lithuania)',\n",
       " 'Poland (now Ukraine)',\n",
       " 'Portugal',\n",
       " 'Prussia (now Germany)',\n",
       " 'Prussia (now Poland)',\n",
       " 'Prussia (now Russia)',\n",
       " 'Romania',\n",
       " 'Russia',\n",
       " 'Russian Empire (now Azerbaijan)',\n",
       " 'Russian Empire (now Belarus)',\n",
       " 'Russian Empire (now Finland)',\n",
       " 'Russian Empire (now Latvia)',\n",
       " 'Russian Empire (now Lithuania)',\n",
       " 'Russian Empire (now Poland)',\n",
       " 'Russian Empire (now Russia)',\n",
       " 'Russian Empire (now Ukraine)',\n",
       " 'Saint Lucia',\n",
       " 'Schleswig (now Germany)',\n",
       " 'Scotland',\n",
       " 'South Africa',\n",
       " 'Southern Rhodesia (now Zimbabwe)',\n",
       " 'Spain',\n",
       " 'Sweden',\n",
       " 'Switzerland',\n",
       " 'Taiwan',\n",
       " \"Tibet (now People's Republic of China)\",\n",
       " 'Turkey',\n",
       " 'Tuscany (now Italy)',\n",
       " 'USA',\n",
       " 'USSR (now Belarus)',\n",
       " 'USSR (now Russia)',\n",
       " 'Ukraine',\n",
       " 'United Kingdom',\n",
       " 'Venezuela',\n",
       " 'Vietnam',\n",
       " 'W&uuml;rttemberg (now Germany)',\n",
       " 'West Germany (now Germany)',\n",
       " 'Yemen',\n",
       " 'the Netherlands'}"
      ]
     },
     "execution_count": 98,
     "metadata": {},
     "output_type": "execute_result"
    }
   ],
   "source": [
    "set(list_2)"
   ]
  },
  {
   "cell_type": "markdown",
   "metadata": {},
   "source": [
    "How many prizes have been awarded in total? "
   ]
  },
  {
   "cell_type": "code",
   "execution_count": 99,
   "metadata": {},
   "outputs": [
    {
     "data": {
      "text/plain": [
       "[{'_id': None, 'n_prizes_total': 941}]"
      ]
     },
     "execution_count": 99,
     "metadata": {},
     "output_type": "execute_result"
    }
   ],
   "source": [
    "list(db.laureates.aggregate([\n",
    "    {\"$project\": {\"n_prizes\": {\"$size\": \"$prizes\"}}},\n",
    "    {\"$group\": {\"_id\": None, \"n_prizes_total\": {\"$sum\": \"$n_prizes\"}}}\n",
    "]))"
   ]
  },
  {
   "cell_type": "markdown",
   "metadata": {},
   "source": [
    "How many prizes were awarded (at least partly) to organizations?"
   ]
  },
  {
   "cell_type": "code",
   "execution_count": 100,
   "metadata": {},
   "outputs": [
    {
     "name": "stdout",
     "output_type": "stream",
     "text": [
      "[{'_id': None, 'n_prizes_total': 27}]\n"
     ]
    }
   ],
   "source": [
    "# Count prizes awarded (at least partly) to organizations as a sum over sizes of \"prizes\" arrays.\n",
    "pipeline = [\n",
    "    {\"$match\": {\"gender\": \"org\"}},\n",
    "    {\"$project\": {\"n_prizes\": {\"$size\": \"$prizes\"}}},\n",
    "    {\"$group\": {\"_id\": None, \"n_prizes_total\": {\"$sum\": \"$n_prizes\"}}}\n",
    "]\n",
    "\n",
    "print(list(db.laureates.aggregate(pipeline)))"
   ]
  },
  {
   "cell_type": "markdown",
   "metadata": {},
   "source": [
    "Implement an aggregation pipeline that:\n",
    "\n",
    "Filters for original prize categories (i.e. sans economics),\n",
    "Projects category and year,\n",
    "Groups distinct prize categories awarded by year,\n",
    "Projects prize categories not awarded by year,\n",
    "Filters for years with missing prize categories, and\n",
    "Returns a cursor of documents in reverse chronological order, one per year, each with a list of missing prize categories for that year."
   ]
  },
  {
   "cell_type": "code",
   "execution_count": 101,
   "metadata": {},
   "outputs": [
    {
     "name": "stdout",
     "output_type": "stream",
     "text": [
      "2018: literature\n",
      "1972: peace\n",
      "1967: peace\n",
      "1966: peace\n",
      "1956: peace\n",
      "1955: peace\n",
      "1948: peace\n",
      "1943: literature, peace\n",
      "1939: peace\n",
      "1935: literature\n",
      "1934: physics\n",
      "1933: chemistry\n",
      "1932: peace\n",
      "1931: physics\n",
      "1928: peace\n",
      "1925: medicine\n",
      "1924: chemistry, peace\n",
      "1923: peace\n",
      "1921: medicine\n",
      "1919: chemistry\n",
      "1918: literature, medicine, peace\n",
      "1917: chemistry, medicine\n",
      "1916: chemistry, medicine, peace, physics\n",
      "1915: medicine, peace\n",
      "1914: literature, peace\n"
     ]
    }
   ],
   "source": [
    "from collections import OrderedDict\n",
    "\n",
    "original_categories = sorted(set(db.prizes.distinct(\"category\", {\"year\": \"1901\"})))\n",
    "pipeline = [\n",
    "    {\"$match\": {\"category\": {\"$in\": original_categories}}},\n",
    "    {\"$project\": {\"category\": 1, \"year\": 1}},\n",
    "    \n",
    "    # Collect the set of category values for each prize year.\n",
    "    {\"$group\": {\"_id\": \"$year\", \"categories\": {\"$addToSet\": \"$category\"}}},\n",
    "    \n",
    "    # Project categories *not* awarded (i.e., that are missing this year).\n",
    "    {\"$project\": {\"missing\": {\"$setDifference\": [original_categories, \"$categories\"]}}},\n",
    "    \n",
    "    # Only include years with at least one missing category\n",
    "    {\"$match\": {\"missing.0\": {\"$exists\": True}}},\n",
    "    \n",
    "    # Sort in reverse chronological order. Note that \"_id\" is a distinct year at this stage.\n",
    "    {\"$sort\": OrderedDict([(\"_id\", -1)])},\n",
    "]\n",
    "for doc in db.prizes.aggregate(pipeline):\n",
    "    print(\"{year}: {missing}\".format(year=doc[\"_id\"],missing=\", \".join(sorted(doc[\"missing\"]))))"
   ]
  },
  {
   "cell_type": "markdown",
   "metadata": {},
   "source": [
    "Using $unwind to zoom into array fields"
   ]
  },
  {
   "cell_type": "markdown",
   "metadata": {},
   "source": [
    "Want the number of laureates for each prize."
   ]
  },
  {
   "cell_type": "code",
   "execution_count": 102,
   "metadata": {},
   "outputs": [
    {
     "data": {
      "text/plain": [
       "[{'_id': 'medicine', 'n_laureates': 216},\n",
       " {'_id': 'physics', 'n_laureates': 210},\n",
       " {'_id': 'chemistry', 'n_laureates': 181},\n",
       " {'_id': 'peace', 'n_laureates': 133},\n",
       " {'_id': 'literature', 'n_laureates': 114},\n",
       " {'_id': 'economics', 'n_laureates': 81}]"
      ]
     },
     "execution_count": 102,
     "metadata": {},
     "output_type": "execute_result"
    }
   ],
   "source": [
    "list(db.prizes.aggregate([\n",
    "    # project a field using $size \n",
    "    {\"$project\": {\"n_laureates\": {\"$size\": \"$laureates\"},\n",
    "                  \"category\": 1}},\n",
    "    # group by category producing count of laureate per category \n",
    "    # producing a count of laureates per catergory\n",
    "    # reset the field n_laureates to be the sume of n_laureates per category\n",
    "    {\"$group\": {\"_id\": \"$category\", \"n_laureates\": {\"$sum\": \"$n_laureates\"}}},\n",
    "    # sort by descending count\n",
    "    {\"$sort\": {\"n_laureates\": -1}},\n",
    "]))"
   ]
  },
  {
   "cell_type": "markdown",
   "metadata": {},
   "source": [
    "$unwind output one document per array document then recompress the stage\n",
    "\n",
    "These two pipeline produce the same result"
   ]
  },
  {
   "cell_type": "code",
   "execution_count": 103,
   "metadata": {},
   "outputs": [
    {
     "data": {
      "text/plain": [
       "[{'year': '2018',\n",
       "  'category': 'physics',\n",
       "  'laureates': {'surname': 'Ashkin', 'share': '2'}},\n",
       " {'year': '2018',\n",
       "  'category': 'physics',\n",
       "  'laureates': {'surname': 'Mourou', 'share': '4'}},\n",
       " {'year': '2018',\n",
       "  'category': 'physics',\n",
       "  'laureates': {'surname': 'Strickland', 'share': '4'}}]"
      ]
     },
     "execution_count": 103,
     "metadata": {},
     "output_type": "execute_result"
    }
   ],
   "source": [
    "list(db.prizes.aggregate([\n",
    "    {\"$unwind\": \"$laureates\"},\n",
    "    {\"$project\": {\n",
    "        \"_id\": 0, \"year\": 1, \"category\": 1,\n",
    "        \"laureates.surname\": 1, \"laureates.share\": 1}},\n",
    "    {\"$limit\": 3}\n",
    "]))"
   ]
  },
  {
   "cell_type": "markdown",
   "metadata": {},
   "source": [
    "Want to track only the laureates id for each prize "
   ]
  },
  {
   "cell_type": "code",
   "execution_count": 104,
   "metadata": {},
   "outputs": [
    {
     "data": {
      "text/plain": [
       "[{'_id': 'literature:1901', 'laureate_ids': ['569']},\n",
       " {'_id': 'medicine:1901', 'laureate_ids': ['293']},\n",
       " {'_id': 'chemistry:1901', 'laureate_ids': ['160']},\n",
       " {'_id': 'physics:1901', 'laureate_ids': ['1']},\n",
       " {'_id': 'peace:1902', 'laureate_ids': ['465', '464']}]"
      ]
     },
     "execution_count": 104,
     "metadata": {},
     "output_type": "execute_result"
    }
   ],
   "source": [
    "list(db.prizes.aggregate([\n",
    "    {\"$unwind\": \"$laureates\"},\n",
    "    {\"$project\": {\"year\": 1, \"category\": 1, \"laureates.id\": 1}},\n",
    "    # year and category together identify a prize, so group by\n",
    "    # a concat of those value\n",
    "    {\"$group\": {\"_id\": {\"$concat\": [\"$category\", \":\", \"$year\"]},\n",
    "                \"laureate_ids\": {\"$addToSet\": \"$laureates.id\"}}},\n",
    "    {\"$limit\": 5}\n",
    "]))"
   ]
  },
  {
   "cell_type": "markdown",
   "metadata": {},
   "source": [
    "`$lookup` pull from another collection via left outer join. THis command is often used with `$unwind`.\n",
    "\n",
    "The code below collect country of birth for economics laureates."
   ]
  },
  {
   "cell_type": "code",
   "execution_count": 105,
   "metadata": {},
   "outputs": [
    {
     "data": {
      "text/plain": [
       "[{'_id': None,\n",
       "  'bornCountries': ['Russian Empire (now Belarus)',\n",
       "   'the Netherlands',\n",
       "   'Russian Empire (now Russia)',\n",
       "   'Sweden',\n",
       "   'Germany (now Poland)',\n",
       "   'India',\n",
       "   'Norway',\n",
       "   'British West Indies (now Saint Lucia)',\n",
       "   'Italy',\n",
       "   'Germany',\n",
       "   'Russia',\n",
       "   'Cyprus',\n",
       "   'Canada',\n",
       "   'Austria',\n",
       "   'Scotland',\n",
       "   'British Mandate of Palestine (now Israel)',\n",
       "   'Finland',\n",
       "   'Hungary',\n",
       "   'France',\n",
       "   'USA',\n",
       "   'United Kingdom']}]"
      ]
     },
     "execution_count": 105,
     "metadata": {},
     "output_type": "execute_result"
    }
   ],
   "source": [
    "list(db.prizes.aggregate([\n",
    "    {\"$match\": {\"category\": \"economics\"}},\n",
    "    # unwind the laureates array each pipeline document now has a single laureates.id\n",
    "    {\"$unwind\": \"$laureates\"},\n",
    "    # query the lureat collection for documents with the same id value\n",
    "    {\"$lookup\": {\"from\": \"laureates\", \"foreignField\": \"id\",\n",
    "                # put those documents into laureate_bios\n",
    "                 \"localField\": \"laureates.id\", \"as\": \"laureate_bios\"}},\n",
    "     \n",
    "    {\"$unwind\": \"$laureate_bios\"},\n",
    "    # collect distinct laureat bornCountry values\n",
    "    {\"$group\": {\"_id\": None,\n",
    "                \"bornCountries\": {\"$addToSet\": \"$laureate_bios.bornCountry\"}\n",
    "    }},\n",
    "]))"
   ]
  },
  {
   "cell_type": "code",
   "execution_count": 107,
   "metadata": {},
   "outputs": [
    {
     "data": {
      "text/plain": [
       "{'Austria',\n",
       " 'British Mandate of Palestine (now Israel)',\n",
       " 'British West Indies (now Saint Lucia)',\n",
       " 'Canada',\n",
       " 'Cyprus',\n",
       " 'Finland',\n",
       " 'France',\n",
       " 'Germany',\n",
       " 'Germany (now Poland)',\n",
       " 'Hungary',\n",
       " 'India',\n",
       " 'Italy',\n",
       " 'Norway',\n",
       " 'Russia',\n",
       " 'Russian Empire (now Belarus)',\n",
       " 'Russian Empire (now Russia)',\n",
       " 'Scotland',\n",
       " 'Sweden',\n",
       " 'USA',\n",
       " 'United Kingdom',\n",
       " 'the Netherlands'}"
      ]
     },
     "execution_count": 107,
     "metadata": {},
     "output_type": "execute_result"
    }
   ],
   "source": [
    "#alternate code\n",
    "\n",
    "bornCountries = db.laureates.distinct(\n",
    "    \"bornCountry\", {\"prizes.category\": \"economics\"})\n",
    "set(bornCountries)"
   ]
  },
  {
   "cell_type": "markdown",
   "metadata": {},
   "source": [
    "Build an aggregation pipeline to get the count of laureates who either did or did not win a prize with an affiliation country that is a substring of their country of birth -- for example, the prize affiliation country \"Germany\" should match the country of birth \"Prussia (now Germany)\"."
   ]
  },
  {
   "cell_type": "code",
   "execution_count": 108,
   "metadata": {},
   "outputs": [
    {
     "name": "stdout",
     "output_type": "stream",
     "text": [
      "{'_id': True, 'count': 477}\n",
      "{'_id': False, 'count': 261}\n"
     ]
    }
   ],
   "source": [
    "key_ac = \"prizes.affiliations.country\"\n",
    "key_bc = \"bornCountry\"\n",
    "pipeline = [\n",
    "    {\"$project\": {key_bc: 1, key_ac: 1}},\n",
    "\n",
    "    # Ensure a single prize affiliation country per pipeline document\n",
    "    {\"$unwind\": \"$prizes\"},\n",
    "    {\"$unwind\": \"$prizes.affiliations\"},\n",
    "\n",
    "    # Ensure values in the list of distinct values (so not empty)\n",
    "    {\"$match\": {key_ac: {\"$in\": db.laureates.distinct(key_ac)}}},\n",
    "    {\"$project\": {\"affilCountrySameAsBorn\": {\n",
    "        \"$gte\": [{\"$indexOfBytes\": [\"$\"+key_ac, \"$\"+key_bc]}, 0]}}},\n",
    "\n",
    "    # Count by \"$affilCountrySameAsBorn\" value (True or False)\n",
    "    {\"$group\": {\"_id\": \"$affilCountrySameAsBorn\",\n",
    "                \"count\": {\"$sum\": 1}}},\n",
    "]\n",
    "for doc in db.laureates.aggregate(pipeline): print(doc)"
   ]
  },
  {
   "cell_type": "markdown",
   "metadata": {},
   "source": [
    "build an aggregation pipeline for the prizes collection to collect these numbers, using a $lookup stage to obtain laureate countries of birth."
   ]
  },
  {
   "cell_type": "code",
   "execution_count": 109,
   "metadata": {},
   "outputs": [
    {
     "name": "stdout",
     "output_type": "stream",
     "text": [
      "{'_id': 'literature', 'nBornCountries': 55}\n",
      "{'_id': 'peace', 'nBornCountries': 50}\n",
      "{'_id': 'chemistry', 'nBornCountries': 48}\n",
      "{'_id': 'medicine', 'nBornCountries': 44}\n",
      "{'_id': 'physics', 'nBornCountries': 44}\n",
      "{'_id': 'economics', 'nBornCountries': 21}\n"
     ]
    }
   ],
   "source": [
    "pipeline = [\n",
    "    # Unwind the laureates array\n",
    "    {\"$unwind\": \"$laureates\"},\n",
    "    {\"$lookup\": {\n",
    "        \"from\": \"laureates\", \"foreignField\": \"id\",\n",
    "        \"localField\": \"laureates.id\", \"as\": \"laureate_bios\"}},\n",
    "\n",
    "    # Unwind the new laureate_bios array\n",
    "    {\"$unwind\": \"$laureate_bios\"},\n",
    "    {\"$project\": {\"category\": 1,\n",
    "                  \"bornCountry\": \"$laureate_bios.bornCountry\"}},\n",
    "\n",
    "    # Collect bornCountry values associated with each prize category\n",
    "    {\"$group\": {\"_id\": \"$category\",\n",
    "                \"bornCountries\": {\"$addToSet\": \"$bornCountry\"}}},\n",
    "\n",
    "    # Project out the size of each category's (set of) bornCountries\n",
    "    {\"$project\": {\"category\": 1,\n",
    "                  \"nBornCountries\": {\"$size\": \"$bornCountries\"}}},\n",
    "    {\"$sort\": {\"nBornCountries\": -1}},\n",
    "]\n",
    "for doc in db.prizes.aggregate(pipeline): print(doc)"
   ]
  },
  {
   "cell_type": "markdown",
   "metadata": {},
   "source": [
    "`$addFields` commands "
   ]
  },
  {
   "cell_type": "markdown",
   "metadata": {},
   "source": [
    "Want to know the number of year a laureates was alive. One way to do it is to project the died and born field, but this will not work because some laureates does not have the died and born fields. Because some laureates are still alive.\n",
    "\n",
    "To fix this use add field stage to provide new array fields."
   ]
  },
  {
   "cell_type": "code",
   "execution_count": null,
   "metadata": {},
   "outputs": [],
   "source": [
    "# this code does not work \n",
    "docs = list(db.laureates.aggregate([\n",
    "    {\"$project\": {\"died\": {\"$dateFromString\": {\"dateString\": \"$died\"}},\n",
    "                  \"born\": {\"$dateFromString\": {\"dateString\": \"$born\"}}}}\n",
    "]))"
   ]
  },
  {
   "cell_type": "code",
   "execution_count": 111,
   "metadata": {},
   "outputs": [
    {
     "name": "stdout",
     "output_type": "stream",
     "text": [
      "{'died': datetime.datetime(1923, 2, 10, 0, 0), 'born': datetime.datetime(1845, 3, 27, 0, 0)}\n"
     ]
    }
   ],
   "source": [
    "docs = list(db.laureates.aggregate([\n",
    "    {\"$match\": {\"died\": {\"$gt\": \"1700\"}, \"born\": {\"$gt\": \"1700\"}}},\n",
    "    {\"$addFields\": {\"bornArray\": {\"$split\": [\"$born\", \"-\"]},\n",
    "                    \"diedArray\": {\"$split\": [\"$died\", \"-\"]}}},\n",
    "    # if the value is missing add the value \n",
    "     {\"$addFields\": {\"born\": {\"$cond\": [\n",
    "        {\"$in\": [\"00\", \"$bornArray\"]},\n",
    "        {\"$concat\": [{\"$arrayElemAt\": [\"$bornArray\", 0]}, \"-01-01\"]},\n",
    "        \"$born\"\n",
    "    ]}}},\n",
    "    \n",
    "  {\"$project\": {\"died\": {\"$dateFromString\": {\"dateString\": \"$died\"}},\n",
    "                  \"born\": {\"$dateFromString\": {\"dateString\": \"$born\"}},\n",
    "                  \"_id\": 0}}\n",
    "]))\n",
    "print(docs[0])\n",
    "   "
   ]
  },
  {
   "cell_type": "markdown",
   "metadata": {},
   "source": [
    "Compute the number of year between the died and born dates. `$bucket` groups values into buckets defined by a sequence of boundaries."
   ]
  },
  {
   "cell_type": "code",
   "execution_count": 113,
   "metadata": {},
   "outputs": [
    {
     "name": "stdout",
     "output_type": "stream",
     "text": [
      "{'_id': 30, 'count': 1}\n",
      "{'_id': 40, 'count': 6}\n",
      "{'_id': 50, 'count': 21}\n",
      "{'_id': 60, 'count': 87}\n",
      "{'_id': 70, 'count': 154}\n",
      "{'_id': 80, 'count': 221}\n",
      "{'_id': 90, 'count': 115}\n",
      "{'_id': 100, 'count': 2}\n"
     ]
    }
   ],
   "source": [
    "docs = list(db.laureates.aggregate([\n",
    "        {\"$match\": {\"died\": {\"$gt\": \"1700\"}, \"born\": {\"$gt\": \"1700\"}}},\n",
    "    {\"$addFields\": {\"bornArray\": {\"$split\": [\"$born\", \"-\"]},\n",
    "                    \"diedArray\": {\"$split\": [\"$died\", \"-\"]}}},\n",
    "    # if the value is missing add the value \n",
    "     {\"$addFields\": {\"born\": {\"$cond\": [\n",
    "        {\"$in\": [\"00\", \"$bornArray\"]},\n",
    "        {\"$concat\": [{\"$arrayElemAt\": [\"$bornArray\", 0]}, \"-01-01\"]},\n",
    "        \"$born\"\n",
    "    ]}}},\n",
    "    \n",
    "    {\"$project\": {\"died\": {\"$dateFromString\": {\"dateString\": \"$died\"}},\n",
    "                  \"born\": {\"$dateFromString\": {\"dateString\": \"$born\"}}}},\n",
    "    {\"$project\": {\"years\": {\"$floor\": {\"$divide\": [\n",
    "        {\"$subtract\": [\"$died\", \"$born\"]},\n",
    "        31557600000 # 1000 * 60 * 60 * 24 * 365.25\n",
    "    ]}}}},\n",
    "    \n",
    "     {\"$bucket\": {\"groupBy\": \"$years\",\n",
    "                 \"boundaries\": list(range(30, 120, 10))}}\n",
    "]))\n",
    "\n",
    "for doc in docs: print(doc)"
   ]
  },
  {
   "cell_type": "markdown",
   "metadata": {},
   "source": [
    "How many prizes were awarded to people who had no affiliation in their country of birth at the time of the award?"
   ]
  },
  {
   "cell_type": "code",
   "execution_count": 114,
   "metadata": {},
   "outputs": [
    {
     "name": "stdout",
     "output_type": "stream",
     "text": [
      "[{'awardedElsewhere': 478}]\n"
     ]
    }
   ],
   "source": [
    "pipeline = [\n",
    "    # Limit results to people; project needed fields; unwind prizes\n",
    "    {\"$match\": {\"gender\": {\"$ne\": \"org\"}}},\n",
    "    {\"$project\": {\"bornCountry\": 1, \"prizes.affiliations.country\": 1}},\n",
    "    {\"$unwind\": \"$prizes\"},\n",
    "  \n",
    "    # Count prizes with no country-of-birth affiliation\n",
    "    {\"$addFields\": {\"bornCountryInAffiliations\": {\"$in\": [\"$bornCountry\", \"$prizes.affiliations.country\"]}}},\n",
    "    {\"$match\": {\"bornCountryInAffiliations\": False}},\n",
    "    {\"$count\": \"awardedElsewhere\"},\n",
    "]\n",
    "\n",
    "print(list(db.laureates.aggregate(pipeline)))"
   ]
  },
  {
   "cell_type": "markdown",
   "metadata": {},
   "source": [
    "filter out \"unaffiliated\" people \n",
    "\n",
    "hundreds of prizes were awarded to people without recorded affiliations; sure, their \"bornCountry\" is technically not the \"country\" of any of their affiliations, but there are no \"country\" values to compare against.\n",
    "\n",
    "This is achieve by addition more filter "
   ]
  },
  {
   "cell_type": "code",
   "execution_count": 116,
   "metadata": {},
   "outputs": [
    {
     "name": "stdout",
     "output_type": "stream",
     "text": [
      "[{'awardedElsewhere': 252}]\n"
     ]
    }
   ],
   "source": [
    "pipeline = [\n",
    "    {\"$match\": {\"gender\": {\"$ne\": \"org\"}}},\n",
    "    {\"$project\": {\"bornCountry\": 1, \"prizes.affiliations.country\": 1}},\n",
    "    {\"$unwind\": \"$prizes\"},\n",
    "    {\"$addFields\": {\"bornCountryInAffiliations\": {\"$in\": [\"$bornCountry\", \"$prizes.affiliations.country\"]}}},\n",
    "    {\"$match\": {\"bornCountryInAffiliations\": False}},\n",
    "    {\"$count\": \"awardedElsewhere\"},\n",
    "]\n",
    "\n",
    "# Construct the additional filter stage\n",
    "added_stage = {\"$match\": {'prizes.affiliations.country': {\"$in\": db.laureates.distinct('prizes.affiliations.country')}}}\n",
    "\n",
    "# Insert this stage into the pipeline\n",
    "pipeline.insert(3, added_stage)\n",
    "print(list(db.laureates.aggregate(pipeline)))"
   ]
  },
  {
   "cell_type": "code",
   "execution_count": null,
   "metadata": {},
   "outputs": [],
   "source": []
  }
 ],
 "metadata": {
  "kernelspec": {
   "display_name": "Python 3",
   "language": "python",
   "name": "python3"
  },
  "language_info": {
   "codemirror_mode": {
    "name": "ipython",
    "version": 3
   },
   "file_extension": ".py",
   "mimetype": "text/x-python",
   "name": "python",
   "nbconvert_exporter": "python",
   "pygments_lexer": "ipython3",
   "version": "3.6.8"
  }
 },
 "nbformat": 4,
 "nbformat_minor": 2
}
