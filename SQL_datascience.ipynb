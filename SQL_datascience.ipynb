{
 "cells": [
  {
   "cell_type": "markdown",
   "metadata": {},
   "source": [
    "# SQL for Data Science\n",
    "\n",
    "This notebook contains a bunch of SQL exercises from various classes I took. \n",
    "I will start by setting up SQL database using sqlite. Then I will add pollution data in the notebook, and practice query data from the database.  \n",
    "\n",
    "Topics:\n",
    "\n",
    "    * How to setup an SQLite server and populate tables\n",
    "    * Insert, delete colums from the tables\n",
    "    * Query the table and output as data frame\n",
    "    * Aggregation\n",
    "    * Create index\n",
    "    * Join"
   ]
  },
  {
   "cell_type": "code",
   "execution_count": 1,
   "metadata": {},
   "outputs": [],
   "source": [
    "#import package \n",
    "%matplotlib inline\n",
    "\n",
    "import numpy as np\n",
    "import scipy as sp\n",
    "import matplotlib as mpl\n",
    "import matplotlib.cm as cm\n",
    "import matplotlib.pyplot as plt\n",
    "import pandas as pd\n",
    "import time\n",
    "\n",
    "from sqlite3 import dbapi2 as sq3\n",
    "import os"
   ]
  },
  {
   "cell_type": "code",
   "execution_count": 2,
   "metadata": {},
   "outputs": [],
   "source": [
    "# initialize database in another drive \n",
    "db = sq3.connect(os.path.join(\"E:/sql/\", \"pm25.db\"))"
   ]
  },
  {
   "cell_type": "code",
   "execution_count": 3,
   "metadata": {},
   "outputs": [
    {
     "data": {
      "text/plain": [
       "[('pm25',), ('region',), ('fire',), ('weather',)]"
      ]
     },
     "execution_count": 3,
     "metadata": {},
     "output_type": "execute_result"
    }
   ],
   "source": [
    "# list all tables in the database\n",
    "c = db.cursor().execute(\"SELECT name FROM sqlite_master WHERE type='table';\")\n",
    "c.fetchall()"
   ]
  },
  {
   "cell_type": "markdown",
   "metadata": {},
   "source": [
    "# Setup SQLite"
   ]
  },
  {
   "cell_type": "code",
   "execution_count": 16,
   "metadata": {},
   "outputs": [],
   "source": [
    "# use pandas to read in the data \n",
    "#load pm2.5 pollution data and province data \n",
    "dfpm25_all = pd.read_csv('C:/Users/Benny/Documents/Fern/BKK-AQI/data/model/pm25_all.csv')\n",
    "dfregion = pd.read_csv('C:/Users/Benny/Documents/Fern/BKK-AQI/data/model/region_info.csv',sep=';')"
   ]
  },
  {
   "cell_type": "code",
   "execution_count": 38,
   "metadata": {},
   "outputs": [],
   "source": [
    "dfpm25_all = dfpm25_all.rename({'PM2.5':'PM25'},axis=1).reset_index()"
   ]
  },
  {
   "cell_type": "code",
   "execution_count": 39,
   "metadata": {},
   "outputs": [
    {
     "data": {
      "text/html": [
       "<div>\n",
       "<style scoped>\n",
       "    .dataframe tbody tr th:only-of-type {\n",
       "        vertical-align: middle;\n",
       "    }\n",
       "\n",
       "    .dataframe tbody tr th {\n",
       "        vertical-align: top;\n",
       "    }\n",
       "\n",
       "    .dataframe thead th {\n",
       "        text-align: right;\n",
       "    }\n",
       "</style>\n",
       "<table border=\"1\" class=\"dataframe\">\n",
       "  <thead>\n",
       "    <tr style=\"text-align: right;\">\n",
       "      <th></th>\n",
       "      <th>index</th>\n",
       "      <th>PM25</th>\n",
       "      <th>Time</th>\n",
       "      <th>city</th>\n",
       "    </tr>\n",
       "  </thead>\n",
       "  <tbody>\n",
       "    <tr>\n",
       "      <th>0</th>\n",
       "      <td>0</td>\n",
       "      <td>62.9</td>\n",
       "      <td>2016-03-03 15:00:00</td>\n",
       "      <td>Bangkok</td>\n",
       "    </tr>\n",
       "    <tr>\n",
       "      <th>1</th>\n",
       "      <td>1</td>\n",
       "      <td>62.9</td>\n",
       "      <td>2016-03-03 16:00:00</td>\n",
       "      <td>Bangkok</td>\n",
       "    </tr>\n",
       "    <tr>\n",
       "      <th>2</th>\n",
       "      <td>2</td>\n",
       "      <td>55.5</td>\n",
       "      <td>2016-03-03 17:00:00</td>\n",
       "      <td>Bangkok</td>\n",
       "    </tr>\n",
       "    <tr>\n",
       "      <th>3</th>\n",
       "      <td>3</td>\n",
       "      <td>55.5</td>\n",
       "      <td>2016-03-03 18:00:00</td>\n",
       "      <td>Bangkok</td>\n",
       "    </tr>\n",
       "    <tr>\n",
       "      <th>4</th>\n",
       "      <td>4</td>\n",
       "      <td>47.9</td>\n",
       "      <td>2016-03-03 19:00:00</td>\n",
       "      <td>Bangkok</td>\n",
       "    </tr>\n",
       "  </tbody>\n",
       "</table>\n",
       "</div>"
      ],
      "text/plain": [
       "   index  PM25                 Time     city\n",
       "0      0  62.9  2016-03-03 15:00:00  Bangkok\n",
       "1      1  62.9  2016-03-03 16:00:00  Bangkok\n",
       "2      2  55.5  2016-03-03 17:00:00  Bangkok\n",
       "3      3  55.5  2016-03-03 18:00:00  Bangkok\n",
       "4      4  47.9  2016-03-03 19:00:00  Bangkok"
      ]
     },
     "execution_count": 39,
     "metadata": {},
     "output_type": "execute_result"
    }
   ],
   "source": [
    "dfpm25_all.head()"
   ]
  },
  {
   "cell_type": "code",
   "execution_count": 18,
   "metadata": {},
   "outputs": [
    {
     "data": {
      "text/html": [
       "<div>\n",
       "<style scoped>\n",
       "    .dataframe tbody tr th:only-of-type {\n",
       "        vertical-align: middle;\n",
       "    }\n",
       "\n",
       "    .dataframe tbody tr th {\n",
       "        vertical-align: top;\n",
       "    }\n",
       "\n",
       "    .dataframe thead th {\n",
       "        text-align: right;\n",
       "    }\n",
       "</style>\n",
       "<table border=\"1\" class=\"dataframe\">\n",
       "  <thead>\n",
       "    <tr style=\"text-align: right;\">\n",
       "      <th></th>\n",
       "      <th>City</th>\n",
       "      <th>Region</th>\n",
       "      <th>Population</th>\n",
       "      <th>Latitude</th>\n",
       "      <th>Longitude</th>\n",
       "      <th>x_mer</th>\n",
       "      <th>y_mer</th>\n",
       "      <th>dis2BKK</th>\n",
       "    </tr>\n",
       "  </thead>\n",
       "  <tbody>\n",
       "    <tr>\n",
       "      <th>0</th>\n",
       "      <td>Bangkok</td>\n",
       "      <td>Bangkok</td>\n",
       "      <td>5104476</td>\n",
       "      <td>13.7540</td>\n",
       "      <td>100.5014</td>\n",
       "      <td>1.118776e+07</td>\n",
       "      <td>1.544968e+06</td>\n",
       "      <td>0.000000</td>\n",
       "    </tr>\n",
       "    <tr>\n",
       "      <th>1</th>\n",
       "      <td>Bang Kruai</td>\n",
       "      <td>Nonthaburi</td>\n",
       "      <td>78305</td>\n",
       "      <td>13.8050</td>\n",
       "      <td>100.4728</td>\n",
       "      <td>1.118458e+07</td>\n",
       "      <td>1.550779e+06</td>\n",
       "      <td>6625.673838</td>\n",
       "    </tr>\n",
       "    <tr>\n",
       "      <th>2</th>\n",
       "      <td>Ban Lam Luk Ka</td>\n",
       "      <td>Pathum Thani</td>\n",
       "      <td>60700</td>\n",
       "      <td>13.9774</td>\n",
       "      <td>100.7778</td>\n",
       "      <td>1.121853e+07</td>\n",
       "      <td>1.570430e+06</td>\n",
       "      <td>39938.064467</td>\n",
       "    </tr>\n",
       "    <tr>\n",
       "      <th>3</th>\n",
       "      <td>Ban Mai</td>\n",
       "      <td>Songkhla</td>\n",
       "      <td>86899</td>\n",
       "      <td>7.2041</td>\n",
       "      <td>100.5451</td>\n",
       "      <td>1.119263e+07</td>\n",
       "      <td>8.076416e+05</td>\n",
       "      <td>737342.351919</td>\n",
       "    </tr>\n",
       "    <tr>\n",
       "      <th>4</th>\n",
       "      <td>Ban Pong</td>\n",
       "      <td>Ratchaburi</td>\n",
       "      <td>57559</td>\n",
       "      <td>13.8163</td>\n",
       "      <td>99.8774</td>\n",
       "      <td>1.111830e+07</td>\n",
       "      <td>1.552066e+06</td>\n",
       "      <td>69825.094995</td>\n",
       "    </tr>\n",
       "  </tbody>\n",
       "</table>\n",
       "</div>"
      ],
      "text/plain": [
       "             City        Region  Population  Latitude  Longitude  \\\n",
       "0         Bangkok       Bangkok     5104476   13.7540   100.5014   \n",
       "1      Bang Kruai    Nonthaburi       78305   13.8050   100.4728   \n",
       "2  Ban Lam Luk Ka  Pathum Thani       60700   13.9774   100.7778   \n",
       "3         Ban Mai      Songkhla       86899    7.2041   100.5451   \n",
       "4        Ban Pong    Ratchaburi       57559   13.8163    99.8774   \n",
       "\n",
       "          x_mer         y_mer        dis2BKK  \n",
       "0  1.118776e+07  1.544968e+06       0.000000  \n",
       "1  1.118458e+07  1.550779e+06    6625.673838  \n",
       "2  1.121853e+07  1.570430e+06   39938.064467  \n",
       "3  1.119263e+07  8.076416e+05  737342.351919  \n",
       "4  1.111830e+07  1.552066e+06   69825.094995  "
      ]
     },
     "execution_count": 18,
     "metadata": {},
     "output_type": "execute_result"
    }
   ],
   "source": [
    "dfregion.head()"
   ]
  },
  {
   "cell_type": "markdown",
   "metadata": {
    "heading_collapsed": true
   },
   "source": [
    "## Inifitalize the Database and Populate Data"
   ]
  },
  {
   "cell_type": "code",
   "execution_count": 2,
   "metadata": {
    "hidden": true
   },
   "outputs": [],
   "source": [
    "from sqlite3 import dbapi2 as sq3\n",
    "import os"
   ]
  },
  {
   "cell_type": "code",
   "execution_count": 40,
   "metadata": {
    "hidden": true
   },
   "outputs": [],
   "source": [
    "# create schema\n",
    "schema =\"\"\"\n",
    "DROP TABLE IF EXISTS \"pm25\";\n",
    "CREATE TABLE \"pm25\" (\n",
    "    \"index\" INT PRIMARY KEY NOT NULL,\n",
    "    \"Time\" VARCHAR,\n",
    "    \"PM25\" FLOAT,\n",
    "    \"city\" VARCHAR\n",
    ");\n",
    "\"\"\""
   ]
  },
  {
   "cell_type": "code",
   "execution_count": 6,
   "metadata": {
    "hidden": true
   },
   "outputs": [],
   "source": [
    "# initialize database in another drive \n",
    "db = sq3.connect(os.path.join(\"E:/sql/\", \"pm25.db\"))"
   ]
  },
  {
   "cell_type": "code",
   "execution_count": 41,
   "metadata": {
    "hidden": true
   },
   "outputs": [],
   "source": [
    "#execute schema to generate a table \n",
    "db.cursor().executescript(schema)\n",
    "db.commit()"
   ]
  },
  {
   "cell_type": "markdown",
   "metadata": {
    "hidden": true
   },
   "source": [
    "populate pm2.5 pollution data using pandas"
   ]
  },
  {
   "cell_type": "code",
   "execution_count": 42,
   "metadata": {
    "hidden": true
   },
   "outputs": [],
   "source": [
    "dfpm25_all.to_sql(\"pm25\", db, if_exists=\"append\", index=False)"
   ]
  },
  {
   "cell_type": "markdown",
   "metadata": {
    "hidden": true
   },
   "source": [
    "populate region data using pandas"
   ]
  },
  {
   "cell_type": "code",
   "execution_count": 43,
   "metadata": {
    "hidden": true
   },
   "outputs": [
    {
     "name": "stdout",
     "output_type": "stream",
     "text": [
      "<class 'pandas.core.frame.DataFrame'>\n",
      "RangeIndex: 56 entries, 0 to 55\n",
      "Data columns (total 8 columns):\n",
      "City          56 non-null object\n",
      "Region        56 non-null object\n",
      "Population    56 non-null int64\n",
      "Latitude      56 non-null float64\n",
      "Longitude     56 non-null float64\n",
      "x_mer         56 non-null float64\n",
      "y_mer         56 non-null float64\n",
      "dis2BKK       56 non-null float64\n",
      "dtypes: float64(5), int64(1), object(2)\n",
      "memory usage: 3.6+ KB\n"
     ]
    }
   ],
   "source": [
    "region.info()"
   ]
  },
  {
   "cell_type": "code",
   "execution_count": 48,
   "metadata": {
    "hidden": true
   },
   "outputs": [],
   "source": [
    "# create schema\n",
    "schema =\"\"\"\n",
    "DROP TABLE IF EXISTS \"region\";\n",
    "CREATE TABLE \"region\" (\n",
    "    \"City\" VARCHAR PRIMARY KEY NOT NULL,\n",
    "    \"Region\" VARCHAR,\n",
    "    \"Population\" INT,\n",
    "    \"Latitude\" FLOAT,\n",
    "    \"Longitude\" FLOAT,\n",
    "    \"x_mer\" FLOAT,\n",
    "    \"y_mer\" FLOAT,\n",
    "    \"dis2BKK\" FLOAT\n",
    ");\n",
    "\"\"\""
   ]
  },
  {
   "cell_type": "code",
   "execution_count": 49,
   "metadata": {
    "hidden": true
   },
   "outputs": [],
   "source": [
    "#execute schema to generate a table \n",
    "db.cursor().executescript(schema)\n",
    "db.commit()"
   ]
  },
  {
   "cell_type": "code",
   "execution_count": 50,
   "metadata": {
    "hidden": true
   },
   "outputs": [],
   "source": [
    "#populate schema \n",
    "region.to_sql(\"region\", db, if_exists=\"append\", index=False)"
   ]
  },
  {
   "cell_type": "markdown",
   "metadata": {
    "hidden": true
   },
   "source": [
    "To make things more interesting, I try to bulk import the csv files. The fires are fire map information from 2016 - 2019. The total files are too large to load with pandas. "
   ]
  },
  {
   "cell_type": "code",
   "execution_count": 84,
   "metadata": {
    "hidden": true
   },
   "outputs": [],
   "source": [
    "# drop previous fire table\n",
    "db.cursor().executescript(\"DROP TABLE IF EXISTS fire\")\n",
    "db.commit()"
   ]
  },
  {
   "cell_type": "code",
   "execution_count": 85,
   "metadata": {
    "hidden": true
   },
   "outputs": [],
   "source": [
    "# create schema\n",
    "schema =\"\"\"\n",
    "DROP TABLE IF EXISTS \"fire\";\n",
    "CREATE TABLE \"fire\" (\n",
    "    \"latitude\" FLOAT,\n",
    "    \"longitude\" FLOAT,\n",
    "    \"brightness\" FLOAT,\n",
    "    \"acq_date\" VARCHAR,\n",
    "    \"acq_time\" INT,\n",
    "    \"satellite\" VARCHAR,\n",
    "    \"instrument\" VARCHAR,\n",
    "    \"confidence\" INT,\n",
    "    \"bright\" FLOAT,\n",
    "    \"power\" FLOAT,\n",
    "    \"daynight\" FLOAT\n",
    ");\n",
    "\"\"\""
   ]
  },
  {
   "cell_type": "code",
   "execution_count": 86,
   "metadata": {
    "hidden": true
   },
   "outputs": [
    {
     "data": {
      "text/plain": [
       "<sqlite3.Cursor at 0x1be8e15d500>"
      ]
     },
     "execution_count": 86,
     "metadata": {},
     "output_type": "execute_result"
    }
   ],
   "source": [
    "#execute schema to generate a table \n",
    "db.cursor().executescript(schema)"
   ]
  },
  {
   "cell_type": "code",
   "execution_count": 23,
   "metadata": {
    "hidden": true
   },
   "outputs": [],
   "source": [
    "import csv\n",
    "from glob import glob"
   ]
  },
  {
   "cell_type": "code",
   "execution_count": 87,
   "metadata": {
    "hidden": true
   },
   "outputs": [],
   "source": [
    "files = glob('E:/Users/Fern/BKK-AQI/data/fire_map_world/*csv')"
   ]
  },
  {
   "cell_type": "code",
   "execution_count": 76,
   "metadata": {
    "hidden": true
   },
   "outputs": [
    {
     "name": "stdout",
     "output_type": "stream",
     "text": [
      "E:/Users/Fern/BKK-AQI/data/fire_map_world\\fire_archive_V1_46791.csv\n",
      "latitude,longitude,brightness,scan,track,acq_date,acq_time,satellite,instrument,confidence,version,bright_t31,frp,daynight,type\n",
      "\n"
     ]
    }
   ],
   "source": [
    "# check the top of the file\n",
    "with open(files[3]) as file:\n",
    "    print(files[3])\n",
    "    line = file.readline()\n",
    "    for line_no, line in enumerate(lines):\n",
    "        if line_no == 0:\n",
    "            print(line)\n",
    "            break"
   ]
  },
  {
   "cell_type": "code",
   "execution_count": 94,
   "metadata": {
    "hidden": true
   },
   "outputs": [
    {
     "name": "stdout",
     "output_type": "stream",
     "text": [
      "E:/Users/Fern/BKK-AQI/data/fire_map_world\\fire_archive_M6_46790.csv\n",
      "10\n",
      "Index(['latitude', 'longitude', 'brightness', 'acq_date', 'acq_time',\n",
      "       'satellite', 'instrument', 'confidence', 'power', 'daynight'],\n",
      "      dtype='object')\n",
      "E:/Users/Fern/BKK-AQI/data/fire_map_world\\fire_archive_M6_46792.csv\n",
      "10\n",
      "Index(['latitude', 'longitude', 'brightness', 'acq_date', 'acq_time',\n",
      "       'satellite', 'instrument', 'confidence', 'power', 'daynight'],\n",
      "      dtype='object')\n",
      "E:/Users/Fern/BKK-AQI/data/fire_map_world\\fire_archive_M6_46794.csv\n",
      "10\n",
      "Index(['latitude', 'longitude', 'brightness', 'acq_date', 'acq_time',\n",
      "       'satellite', 'instrument', 'confidence', 'power', 'daynight'],\n",
      "      dtype='object')\n",
      "E:/Users/Fern/BKK-AQI/data/fire_map_world\\fire_archive_V1_46791.csv\n",
      "10\n",
      "Index(['latitude', 'longitude', 'brightness', 'acq_date', 'acq_time',\n",
      "       'satellite', 'instrument', 'confidence', 'power', 'daynight'],\n",
      "      dtype='object')\n",
      "E:/Users/Fern/BKK-AQI/data/fire_map_world\\fire_archive_V1_46793.csv\n",
      "10\n",
      "Index(['latitude', 'longitude', 'brightness', 'acq_date', 'acq_time',\n",
      "       'satellite', 'instrument', 'confidence', 'power', 'daynight'],\n",
      "      dtype='object')\n",
      "E:/Users/Fern/BKK-AQI/data/fire_map_world\\fire_archive_V1_46795.csv\n",
      "10\n",
      "Index(['latitude', 'longitude', 'brightness', 'acq_date', 'acq_time',\n",
      "       'satellite', 'instrument', 'confidence', 'power', 'daynight'],\n",
      "      dtype='object')\n",
      "E:/Users/Fern/BKK-AQI/data/fire_map_world\\fire_nrt_M6_46788.csv\n",
      "10\n",
      "Index(['latitude', 'longitude', 'brightness', 'acq_date', 'acq_time',\n",
      "       'satellite', 'instrument', 'confidence', 'power', 'daynight'],\n",
      "      dtype='object')\n",
      "E:/Users/Fern/BKK-AQI/data/fire_map_world\\fire_nrt_V1_46789.csv\n",
      "10\n",
      "Index(['latitude', 'longitude', 'brightness', 'acq_date', 'acq_time',\n",
      "       'satellite', 'instrument', 'confidence', 'power', 'daynight'],\n",
      "      dtype='object')\n"
     ]
    }
   ],
   "source": [
    "for file in files:\n",
    "    print(file)\n",
    "    df = pd.read_csv(file,usecols=[0,1,2,5,6,7,8,9,12,13],skiprows=1,header=None)\n",
    "    print(len(df.columns))\n",
    "    #rename columns \n",
    "    df.columns = ['latitude', 'longitude','brightness',\n",
    "                  'acq_date','acq_time','satellite' ,'instrument',\n",
    "                  'confidence','power','daynight']\n",
    "    print(df.columns)\n",
    "    df.to_sql('fire',db, if_exists='append',index=False)"
   ]
  },
  {
   "cell_type": "code",
   "execution_count": 93,
   "metadata": {
    "hidden": true
   },
   "outputs": [
    {
     "data": {
      "text/html": [
       "<div>\n",
       "<style scoped>\n",
       "    .dataframe tbody tr th:only-of-type {\n",
       "        vertical-align: middle;\n",
       "    }\n",
       "\n",
       "    .dataframe tbody tr th {\n",
       "        vertical-align: top;\n",
       "    }\n",
       "\n",
       "    .dataframe thead th {\n",
       "        text-align: right;\n",
       "    }\n",
       "</style>\n",
       "<table border=\"1\" class=\"dataframe\">\n",
       "  <thead>\n",
       "    <tr style=\"text-align: right;\">\n",
       "      <th></th>\n",
       "      <th>0</th>\n",
       "      <th>1</th>\n",
       "      <th>2</th>\n",
       "      <th>5</th>\n",
       "      <th>6</th>\n",
       "      <th>7</th>\n",
       "      <th>8</th>\n",
       "      <th>9</th>\n",
       "      <th>12</th>\n",
       "      <th>13</th>\n",
       "    </tr>\n",
       "  </thead>\n",
       "  <tbody>\n",
       "    <tr>\n",
       "      <th>0</th>\n",
       "      <td>-18.2242</td>\n",
       "      <td>144.9556</td>\n",
       "      <td>327.1</td>\n",
       "      <td>2018-01-01</td>\n",
       "      <td>15</td>\n",
       "      <td>Terra</td>\n",
       "      <td>MODIS</td>\n",
       "      <td>45</td>\n",
       "      <td>20.0</td>\n",
       "      <td>D</td>\n",
       "    </tr>\n",
       "    <tr>\n",
       "      <th>1</th>\n",
       "      <td>-18.0564</td>\n",
       "      <td>144.6842</td>\n",
       "      <td>327.2</td>\n",
       "      <td>2018-01-01</td>\n",
       "      <td>15</td>\n",
       "      <td>Terra</td>\n",
       "      <td>MODIS</td>\n",
       "      <td>55</td>\n",
       "      <td>32.2</td>\n",
       "      <td>D</td>\n",
       "    </tr>\n",
       "    <tr>\n",
       "      <th>2</th>\n",
       "      <td>-18.0529</td>\n",
       "      <td>144.6651</td>\n",
       "      <td>340.4</td>\n",
       "      <td>2018-01-01</td>\n",
       "      <td>15</td>\n",
       "      <td>Terra</td>\n",
       "      <td>MODIS</td>\n",
       "      <td>88</td>\n",
       "      <td>83.9</td>\n",
       "      <td>D</td>\n",
       "    </tr>\n",
       "    <tr>\n",
       "      <th>3</th>\n",
       "      <td>-18.0558</td>\n",
       "      <td>144.6914</td>\n",
       "      <td>324.4</td>\n",
       "      <td>2018-01-01</td>\n",
       "      <td>15</td>\n",
       "      <td>Terra</td>\n",
       "      <td>MODIS</td>\n",
       "      <td>42</td>\n",
       "      <td>22.8</td>\n",
       "      <td>D</td>\n",
       "    </tr>\n",
       "    <tr>\n",
       "      <th>4</th>\n",
       "      <td>-18.0524</td>\n",
       "      <td>144.6723</td>\n",
       "      <td>343.9</td>\n",
       "      <td>2018-01-01</td>\n",
       "      <td>15</td>\n",
       "      <td>Terra</td>\n",
       "      <td>MODIS</td>\n",
       "      <td>90</td>\n",
       "      <td>102.1</td>\n",
       "      <td>D</td>\n",
       "    </tr>\n",
       "  </tbody>\n",
       "</table>\n",
       "</div>"
      ],
      "text/plain": [
       "        0         1      2           5   6      7      8   9      12 13\n",
       "0 -18.2242  144.9556  327.1  2018-01-01  15  Terra  MODIS  45   20.0  D\n",
       "1 -18.0564  144.6842  327.2  2018-01-01  15  Terra  MODIS  55   32.2  D\n",
       "2 -18.0529  144.6651  340.4  2018-01-01  15  Terra  MODIS  88   83.9  D\n",
       "3 -18.0558  144.6914  324.4  2018-01-01  15  Terra  MODIS  42   22.8  D\n",
       "4 -18.0524  144.6723  343.9  2018-01-01  15  Terra  MODIS  90  102.1  D"
      ]
     },
     "execution_count": 93,
     "metadata": {},
     "output_type": "execute_result"
    }
   ],
   "source": [
    "df.head()"
   ]
  },
  {
   "cell_type": "markdown",
   "metadata": {
    "hidden": true
   },
   "source": [
    "Do the same thing with weather data"
   ]
  },
  {
   "cell_type": "code",
   "execution_count": 21,
   "metadata": {
    "hidden": true
   },
   "outputs": [
    {
     "data": {
      "text/plain": [
       "<sqlite3.Cursor at 0x246cfcefc00>"
      ]
     },
     "execution_count": 21,
     "metadata": {},
     "output_type": "execute_result"
    }
   ],
   "source": [
    "# create schema for adding traffic index\n",
    "schema =\"\"\"\n",
    "DROP TABLE IF EXISTS \"weather\";\n",
    "CREATE TABLE \"weather\" (\n",
    "    \"Time\" VARCHAR,\n",
    "    \"Temperature(F)\" INT,\n",
    "    \"Dew Point(F)\" INT,\n",
    "    \"Humidity(%)\" INT,\n",
    "    \"Wind\" VARCHAR,\n",
    "    \"Wind Speed(mph)\" INT,\n",
    "    \"Wind Gust(mph)\" INT,\n",
    "    \"Pressure(in)\" FLOAT,\n",
    "    \"Precip.(in)\" FLOAT,\n",
    "    \"Precip Accum(in)\" FLOAT,\n",
    "    \"Condition\" VARCHAR,\n",
    "    \"date\" VARCHAR PRIMARY KEY NOT NULL\n",
    "    \n",
    ");\"\"\"\n",
    "\n",
    "#execute schema to generate a table \n",
    "db.cursor().executescript(schema)"
   ]
  },
  {
   "cell_type": "code",
   "execution_count": 28,
   "metadata": {
    "hidden": true
   },
   "outputs": [],
   "source": [
    "files = glob('C:/Users/Benny/Documents/Fern/BKK-AQI/data/weather/*csv')"
   ]
  },
  {
   "cell_type": "code",
   "execution_count": 29,
   "metadata": {
    "hidden": true,
    "scrolled": false
   },
   "outputs": [
    {
     "name": "stdout",
     "output_type": "stream",
     "text": [
      "C:/Users/Benny/Documents/Fern/BKK-AQI/data/weather\\weather_2016.csv\n",
      "12\n",
      "Index(['Time', 'Temperature(F)', 'Dew Point(F)', 'Humidity(%)', 'Wind',\n",
      "       'Wind Speed(mph)', 'Wind Gust(mph)', 'Pressure(in)', 'Precip.(in)',\n",
      "       'Precip Accum(in)', 'Condition', 'date'],\n",
      "      dtype='object')\n",
      "C:/Users/Benny/Documents/Fern/BKK-AQI/data/weather\\weather_2016v1.csv\n",
      "12\n",
      "Index(['Time', 'Temperature(F)', 'Dew Point(F)', 'Humidity(%)', 'Wind',\n",
      "       'Wind Speed(mph)', 'Wind Gust(mph)', 'Pressure(in)', 'Precip.(in)',\n",
      "       'Precip Accum(in)', 'Condition', 'date'],\n",
      "      dtype='object')\n",
      "C:/Users/Benny/Documents/Fern/BKK-AQI/data/weather\\weather_2016v2.csv\n",
      "12\n",
      "Index(['Time', 'Temperature(F)', 'Dew Point(F)', 'Humidity(%)', 'Wind',\n",
      "       'Wind Speed(mph)', 'Wind Gust(mph)', 'Pressure(in)', 'Precip.(in)',\n",
      "       'Precip Accum(in)', 'Condition', 'date'],\n",
      "      dtype='object')\n",
      "C:/Users/Benny/Documents/Fern/BKK-AQI/data/weather\\weather_2017.csv\n",
      "12\n",
      "Index(['Time', 'Temperature(F)', 'Dew Point(F)', 'Humidity(%)', 'Wind',\n",
      "       'Wind Speed(mph)', 'Wind Gust(mph)', 'Pressure(in)', 'Precip.(in)',\n",
      "       'Precip Accum(in)', 'Condition', 'date'],\n",
      "      dtype='object')\n",
      "C:/Users/Benny/Documents/Fern/BKK-AQI/data/weather\\weather_2017v2.csv\n",
      "12\n",
      "Index(['Time', 'Temperature(F)', 'Dew Point(F)', 'Humidity(%)', 'Wind',\n",
      "       'Wind Speed(mph)', 'Wind Gust(mph)', 'Pressure(in)', 'Precip.(in)',\n",
      "       'Precip Accum(in)', 'Condition', 'date'],\n",
      "      dtype='object')\n",
      "C:/Users/Benny/Documents/Fern/BKK-AQI/data/weather\\weather_2017v3.csv\n",
      "12\n",
      "Index(['Time', 'Temperature(F)', 'Dew Point(F)', 'Humidity(%)', 'Wind',\n",
      "       'Wind Speed(mph)', 'Wind Gust(mph)', 'Pressure(in)', 'Precip.(in)',\n",
      "       'Precip Accum(in)', 'Condition', 'date'],\n",
      "      dtype='object')\n",
      "C:/Users/Benny/Documents/Fern/BKK-AQI/data/weather\\weather_2019.csv\n",
      "12\n",
      "Index(['Time', 'Temperature(F)', 'Dew Point(F)', 'Humidity(%)', 'Wind',\n",
      "       'Wind Speed(mph)', 'Wind Gust(mph)', 'Pressure(in)', 'Precip.(in)',\n",
      "       'Precip Accum(in)', 'Condition', 'date'],\n",
      "      dtype='object')\n",
      "C:/Users/Benny/Documents/Fern/BKK-AQI/data/weather\\weather_2019v5.csv\n",
      "12\n",
      "Index(['Time', 'Temperature(F)', 'Dew Point(F)', 'Humidity(%)', 'Wind',\n",
      "       'Wind Speed(mph)', 'Wind Gust(mph)', 'Pressure(in)', 'Precip.(in)',\n",
      "       'Precip Accum(in)', 'Condition', 'date'],\n",
      "      dtype='object')\n"
     ]
    }
   ],
   "source": [
    "for file in files:\n",
    "    print(file)\n",
    "    df = pd.read_csv(file).drop('Unnamed: 0',axis=1)\n",
    "    print(len(df.columns))\n",
    "    print(df.columns)\n",
    "    df.to_sql('weather',db, if_exists='append',index=False)"
   ]
  },
  {
   "cell_type": "code",
   "execution_count": 31,
   "metadata": {
    "hidden": true
   },
   "outputs": [
    {
     "data": {
      "text/plain": [
       "('12:00 AM',\n",
       " 77,\n",
       " 66,\n",
       " 69,\n",
       " 'NE',\n",
       " 3,\n",
       " 0,\n",
       " 30.0,\n",
       " 0.0,\n",
       " 0.0,\n",
       " 'Fair',\n",
       " '2016-01-01 00:00:00')"
      ]
     },
     "execution_count": 31,
     "metadata": {},
     "output_type": "execute_result"
    }
   ],
   "source": [
    "# create schema for adding traffic index\n",
    "sel =\"\"\"\n",
    "SELECT * from weather\"\"\"\n",
    "\n",
    "#execute schema to generate a table \n",
    "c = db.cursor().execute(sel)\n",
    "c.fetchone()"
   ]
  },
  {
   "cell_type": "markdown",
   "metadata": {
    "heading_collapsed": true
   },
   "source": [
    "## Drop a column\n",
    "SQLite does not support drop a column command. If I want to drop the sattellite and instrument column in the fire table, I must create a temp table and copy the row down one by one. Then drop the temp table."
   ]
  },
  {
   "cell_type": "code",
   "execution_count": 147,
   "metadata": {
    "code_folding": [],
    "hidden": true
   },
   "outputs": [],
   "source": [
    "# rename the fire table to temp\n",
    "alt = '''ALTER TABLE 'fire' RENAME TO 'temp_fire';'''"
   ]
  },
  {
   "cell_type": "code",
   "execution_count": 149,
   "metadata": {
    "hidden": true
   },
   "outputs": [
    {
     "data": {
      "text/plain": [
       "[('pm25',), ('region',), ('temp_fire',), ('fire',)]"
      ]
     },
     "execution_count": 149,
     "metadata": {},
     "output_type": "execute_result"
    }
   ],
   "source": [
    "# make sure the temp_fire table exist\n",
    "c = db.cursor().execute(\"SELECT name FROM sqlite_master WHERE type='table';\")\n",
    "c.fetchall()"
   ]
  },
  {
   "cell_type": "code",
   "execution_count": 152,
   "metadata": {
    "hidden": true
   },
   "outputs": [
    {
     "data": {
      "text/plain": [
       "<sqlite3.Cursor at 0x1befc1a0180>"
      ]
     },
     "execution_count": 152,
     "metadata": {},
     "output_type": "execute_result"
    }
   ],
   "source": [
    "# create another fire table\n",
    "alt =  \"\"\" \n",
    "DROP TABLE IF EXISTS \"fire\";\n",
    "CREATE TABLE \"fire\" (\n",
    "    \"latitude\" FLOAT,\n",
    "    \"longitude\" FLOAT,\n",
    "    \"brightness\" FLOAT,\n",
    "    \"acq_date\" VARCHAR,\n",
    "    \"acq_time\" INT,\n",
    "    \"confidence\" INT,\n",
    "    \"bright\" FLOAT,\n",
    "    \"power\" FLOAT,\n",
    "    \"daynight\" FLOAT\n",
    ");\n",
    "\"\"\"\n",
    "\n",
    "db.cursor().executescript(alt)"
   ]
  },
  {
   "cell_type": "code",
   "execution_count": 153,
   "metadata": {
    "hidden": true
   },
   "outputs": [],
   "source": [
    "db.commit()"
   ]
  },
  {
   "cell_type": "code",
   "execution_count": 154,
   "metadata": {
    "hidden": true
   },
   "outputs": [
    {
     "data": {
      "text/plain": [
       "<sqlite3.Cursor at 0x1befc1a01f0>"
      ]
     },
     "execution_count": 154,
     "metadata": {},
     "output_type": "execute_result"
    }
   ],
   "source": [
    "# copy some column from temp_fire to fire\n",
    "alt = \"\"\"  \n",
    "INSERT INTO fire \n",
    "SELECT\n",
    "latitude, \n",
    "    longitude ,\n",
    "    brightness ,\n",
    "    acq_date ,\n",
    "    acq_time ,\n",
    "    confidence ,\n",
    "    bright ,\n",
    "    power ,\n",
    "    daynight \n",
    "FROM\n",
    " temp_fire; \"\"\"\n",
    "\n",
    "\n",
    "db.cursor().executescript(alt)"
   ]
  },
  {
   "cell_type": "code",
   "execution_count": 155,
   "metadata": {
    "hidden": true
   },
   "outputs": [],
   "source": [
    "# drop temp_fire table\n",
    "db.cursor().executescript(\"DROP TABLE IF EXISTS temp_fire\")\n",
    "db.commit()"
   ]
  },
  {
   "cell_type": "markdown",
   "metadata": {
    "heading_collapsed": true
   },
   "source": [
    "## Add a column into a table \n",
    "\n",
    "After dropping a column from the fire table, I want to add another column named 'instrument' with the value equal to \"VIIRS\" if the confident is 'n', else use \"MODIS\"."
   ]
  },
  {
   "cell_type": "code",
   "execution_count": 198,
   "metadata": {
    "hidden": true
   },
   "outputs": [
    {
     "data": {
      "text/plain": [
       "<sqlite3.Cursor at 0x1c366f0e8f0>"
      ]
     },
     "execution_count": 198,
     "metadata": {},
     "output_type": "execute_result"
    }
   ],
   "source": [
    "alt= \" ALTER TABLE fire ADD COLUMN instrument;\"\n",
    "db.cursor().executescript(alt)"
   ]
  },
  {
   "cell_type": "code",
   "execution_count": 4,
   "metadata": {
    "hidden": true
   },
   "outputs": [
    {
     "data": {
      "text/plain": [
       "(-18.2242, 144.9556, 327.1, '2018-01-01', 15, 45, None, 20.0, 'D', None)"
      ]
     },
     "execution_count": 4,
     "metadata": {},
     "output_type": "execute_result"
    }
   ],
   "source": [
    "sel = \" SELECT * FROM fire\"\n",
    "c = db.cursor().execute(sel)\n",
    "c.fetchone()"
   ]
  },
  {
   "cell_type": "code",
   "execution_count": 5,
   "metadata": {
    "hidden": true
   },
   "outputs": [
    {
     "data": {
      "text/plain": [
       "(('latitude', None, None, None, None, None, None),\n",
       " ('longitude', None, None, None, None, None, None),\n",
       " ('brightness', None, None, None, None, None, None),\n",
       " ('acq_date', None, None, None, None, None, None),\n",
       " ('acq_time', None, None, None, None, None, None),\n",
       " ('confidence', None, None, None, None, None, None),\n",
       " ('bright', None, None, None, None, None, None),\n",
       " ('power', None, None, None, None, None, None),\n",
       " ('daynight', None, None, None, None, None, None),\n",
       " ('instrument', None, None, None, None, None, None))"
      ]
     },
     "execution_count": 5,
     "metadata": {},
     "output_type": "execute_result"
    }
   ],
   "source": [
    "c.description"
   ]
  },
  {
   "cell_type": "code",
   "execution_count": null,
   "metadata": {
    "hidden": true
   },
   "outputs": [],
   "source": [
    "# populate the 'instrument' column using the 'confidence' column\n",
    "alt2 = \"\"\"\n",
    "UPDATE fire \n",
    "SET instrument = CASE \n",
    "                WHEN confidence = 'n' THEN 'VIIRS' \n",
    "                                      ELSE 'MODIS'  \n",
    "                 END;\n",
    "\"\"\"\n",
    "db.cursor().executescript(alt2)"
   ]
  },
  {
   "cell_type": "code",
   "execution_count": null,
   "metadata": {
    "hidden": true
   },
   "outputs": [],
   "source": [
    "sel = \" SELECT * FROM fire\"\n",
    "c = db.cursor().execute(sel)\n",
    "c.fetchmany(5)"
   ]
  },
  {
   "cell_type": "markdown",
   "metadata": {
    "hidden": true
   },
   "source": [
    "In the region column, I want to add another column named 'close2BKK'. If the province is less than 100 km from bkk (in the dis3bkk column). The province is close to bkk, assign 'yes'. Else assigned 'no'"
   ]
  },
  {
   "cell_type": "code",
   "execution_count": 3,
   "metadata": {
    "hidden": true
   },
   "outputs": [
    {
     "data": {
      "text/plain": [
       "<sqlite3.Cursor at 0x1e4866c15e0>"
      ]
     },
     "execution_count": 3,
     "metadata": {},
     "output_type": "execute_result"
    }
   ],
   "source": [
    "alt= \" ALTER TABLE region ADD COLUMN close2BKK;\"\n",
    "db.cursor().executescript(alt)"
   ]
  },
  {
   "cell_type": "code",
   "execution_count": 4,
   "metadata": {
    "hidden": true
   },
   "outputs": [
    {
     "data": {
      "text/plain": [
       "('Bangkok',\n",
       " 'Bangkok',\n",
       " 5104476,\n",
       " 13.754000000000001,\n",
       " 100.5014,\n",
       " 11187764.6720111,\n",
       " 1544967.92056433,\n",
       " 0.0,\n",
       " None)"
      ]
     },
     "execution_count": 4,
     "metadata": {},
     "output_type": "execute_result"
    }
   ],
   "source": [
    "sel = \" SELECT * FROM region\"\n",
    "c = db.cursor().execute(sel)\n",
    "c.fetchone()"
   ]
  },
  {
   "cell_type": "code",
   "execution_count": 5,
   "metadata": {
    "hidden": true
   },
   "outputs": [
    {
     "data": {
      "text/plain": [
       "(('City', None, None, None, None, None, None),\n",
       " ('Region', None, None, None, None, None, None),\n",
       " ('Population', None, None, None, None, None, None),\n",
       " ('Latitude', None, None, None, None, None, None),\n",
       " ('Longitude', None, None, None, None, None, None),\n",
       " ('x_mer', None, None, None, None, None, None),\n",
       " ('y_mer', None, None, None, None, None, None),\n",
       " ('dis2BKK', None, None, None, None, None, None),\n",
       " ('close2BKK', None, None, None, None, None, None))"
      ]
     },
     "execution_count": 5,
     "metadata": {},
     "output_type": "execute_result"
    }
   ],
   "source": [
    "c.description"
   ]
  },
  {
   "cell_type": "code",
   "execution_count": 40,
   "metadata": {
    "hidden": true
   },
   "outputs": [
    {
     "data": {
      "text/plain": [
       "<sqlite3.Cursor at 0x1e4879ec340>"
      ]
     },
     "execution_count": 40,
     "metadata": {},
     "output_type": "execute_result"
    }
   ],
   "source": [
    "# populate the 'close2BKK' column with the case condition\n",
    "alt2 = \"\"\"\n",
    "UPDATE region \n",
    "SET close2BKK = CASE \n",
    "                WHEN cast(dis2BKK as Integer) < 100000 THEN 'yes' \n",
    "                                      ELSE 'no'  \n",
    "                 END;\n",
    "\"\"\"\n",
    "db.cursor().executescript(alt2)"
   ]
  },
  {
   "cell_type": "code",
   "execution_count": 41,
   "metadata": {
    "hidden": true
   },
   "outputs": [
    {
     "data": {
      "text/plain": [
       "[('Ban Mai',\n",
       "  'Songkhla',\n",
       "  86899,\n",
       "  7.2041,\n",
       "  100.5451,\n",
       "  11192629.333758801,\n",
       "  807641.616273147,\n",
       "  737342.351919116,\n",
       "  'no'),\n",
       " ('Ban Talat Yai',\n",
       "  'Phuket',\n",
       "  52192,\n",
       "  7.8848,\n",
       "  98.4001,\n",
       "  10953849.0260072,\n",
       "  883590.3230631059,\n",
       "  701524.665227042,\n",
       "  'no'),\n",
       " ('Chaiyaphum',\n",
       "  'Chaiyaphum',\n",
       "  58350,\n",
       "  15.8105,\n",
       "  102.0288,\n",
       "  11357794.0622488,\n",
       "  1780352.94979303,\n",
       "  290372.35668982,\n",
       "  'no'),\n",
       " ('Chanthaburi',\n",
       "  'Chanthaburi',\n",
       "  99819,\n",
       "  12.6096,\n",
       "  102.1045,\n",
       "  11366220.9477018,\n",
       "  1414911.41573794,\n",
       "  220819.692919477,\n",
       "  'no'),\n",
       " ('Chiang Mai',\n",
       "  'Chiang Mai',\n",
       "  200952,\n",
       "  18.7904,\n",
       "  98.9847,\n",
       "  11018926.400324902,\n",
       "  2125870.66719383,\n",
       "  604941.619520165,\n",
       "  'no')]"
      ]
     },
     "execution_count": 41,
     "metadata": {},
     "output_type": "execute_result"
    }
   ],
   "source": [
    "sel = \" SELECT * FROM region WHERE close2BKK ='no' \"\n",
    "c = db.cursor().execute(sel)\n",
    "c.fetchmany(5)"
   ]
  },
  {
   "cell_type": "code",
   "execution_count": 43,
   "metadata": {
    "hidden": true
   },
   "outputs": [],
   "source": [
    "db.commit()"
   ]
  },
  {
   "cell_type": "code",
   "execution_count": 156,
   "metadata": {
    "hidden": true
   },
   "outputs": [
    {
     "data": {
      "text/plain": [
       "[('pm25',), ('region',), ('fire',)]"
      ]
     },
     "execution_count": 156,
     "metadata": {},
     "output_type": "execute_result"
    }
   ],
   "source": [
    "# check tables in the database\n",
    "c = db.cursor().execute(\"SELECT name FROM sqlite_master WHERE type='table';\")\n",
    "c.fetchall()"
   ]
  },
  {
   "cell_type": "markdown",
   "metadata": {
    "hidden": true
   },
   "source": [
    "now we have three tables:\n",
    "pm25 table contains pm25, time and city\n",
    "region table contains city, region, locations\n",
    "fire table contains location and time of the fire \n",
    "\n",
    "# Inspect Tables and Filter\n",
    "\n",
    "WHERE key words allow you to filter based on both text and numeric values in a table. There are a few different comparison operators you can use:\n",
    "\n",
    "- = equal\n",
    "- <> not equal\n",
    "- < less than\n",
    "- '>' greater than\n",
    "- <= less than or equal to\n",
    "- '>=' greater than or equal to\n",
    "\n",
    "You can also use AND and OR to combine the logic operation.\n"
   ]
  },
  {
   "cell_type": "code",
   "execution_count": 95,
   "metadata": {
    "hidden": true
   },
   "outputs": [],
   "source": [
    "sel = \"\"\"\n",
    "SELECT * from pm25\n",
    "WHERE city == \"Bangkok\"\n",
    "\"\"\"\n",
    "\n",
    "c=db.cursor().execute(sel)"
   ]
  },
  {
   "cell_type": "code",
   "execution_count": 96,
   "metadata": {
    "hidden": true
   },
   "outputs": [
    {
     "data": {
      "text/plain": [
       "[(0, '2016-03-03 15:00:00', 62.9, 'Bangkok'),\n",
       " (1, '2016-03-03 16:00:00', 62.9, 'Bangkok'),\n",
       " (2, '2016-03-03 17:00:00', 55.5, 'Bangkok'),\n",
       " (3, '2016-03-03 18:00:00', 55.5, 'Bangkok'),\n",
       " (4, '2016-03-03 19:00:00', 47.9, 'Bangkok')]"
      ]
     },
     "execution_count": 96,
     "metadata": {},
     "output_type": "execute_result"
    }
   ],
   "source": [
    "c.fetchmany(5)"
   ]
  },
  {
   "cell_type": "code",
   "execution_count": 7,
   "metadata": {
    "hidden": true
   },
   "outputs": [
    {
     "data": {
      "text/plain": [
       "[('Bangkok', 'Bangkok'), ('Bang Kruai', 'Nonthaburi')]"
      ]
     },
     "execution_count": 7,
     "metadata": {},
     "output_type": "execute_result"
    }
   ],
   "source": [
    "sel = \"\"\"\n",
    "SELECT City, Region from region\n",
    "where dis2BKK < 10000\n",
    "\"\"\"\n",
    "\n",
    "c = db.cursor().execute(sel)\n",
    "c.fetchmany(5)"
   ]
  },
  {
   "cell_type": "code",
   "execution_count": 108,
   "metadata": {
    "hidden": true
   },
   "outputs": [
    {
     "data": {
      "text/plain": [
       "(('City', None, None, None, None, None, None),\n",
       " ('Region', None, None, None, None, None, None),\n",
       " ('Population', None, None, None, None, None, None),\n",
       " ('Latitude', None, None, None, None, None, None),\n",
       " ('Longitude', None, None, None, None, None, None),\n",
       " ('x_mer', None, None, None, None, None, None),\n",
       " ('y_mer', None, None, None, None, None, None),\n",
       " ('dis2BKK', None, None, None, None, None, None))"
      ]
     },
     "execution_count": 108,
     "metadata": {},
     "output_type": "execute_result"
    }
   ],
   "source": [
    "# obtain column names \n",
    "c.description"
   ]
  },
  {
   "cell_type": "code",
   "execution_count": 10,
   "metadata": {
    "hidden": true
   },
   "outputs": [
    {
     "data": {
      "text/plain": [
       "[(0, '2016-03-03 15:00:00', 62.9, 'Bangkok'),\n",
       " (1, '2016-03-03 16:00:00', 62.9, 'Bangkok'),\n",
       " (2, '2016-03-03 17:00:00', 55.5, 'Bangkok'),\n",
       " (3, '2016-03-03 18:00:00', 55.5, 'Bangkok'),\n",
       " (4, '2016-03-03 19:00:00', 47.9, 'Bangkok')]"
      ]
     },
     "execution_count": 10,
     "metadata": {},
     "output_type": "execute_result"
    }
   ],
   "source": [
    "sel = \"\"\"\n",
    "SELECT * from pm25\n",
    "WHERE city = \"Bangkok\"\n",
    "AND PM25 > 35.5\n",
    "\"\"\"\n",
    "\n",
    "c=db.cursor().execute(sel)\n",
    "c.fetchmany(5)"
   ]
  },
  {
   "cell_type": "code",
   "execution_count": 11,
   "metadata": {
    "hidden": true
   },
   "outputs": [
    {
     "data": {
      "text/plain": [
       "(('index', None, None, None, None, None, None),\n",
       " ('Time', None, None, None, None, None, None),\n",
       " ('PM25', None, None, None, None, None, None),\n",
       " ('city', None, None, None, None, None, None))"
      ]
     },
     "execution_count": 11,
     "metadata": {},
     "output_type": "execute_result"
    }
   ],
   "source": [
    "c.description"
   ]
  },
  {
   "cell_type": "markdown",
   "metadata": {
    "hidden": true
   },
   "source": [
    "I want to test if I can query data between 2016 - 2017. To do that I need a separate table for year, then use BETWEEN to query the time between two years. "
   ]
  },
  {
   "cell_type": "code",
   "execution_count": 12,
   "metadata": {
    "hidden": true
   },
   "outputs": [
    {
     "data": {
      "text/plain": [
       "<sqlite3.Cursor at 0x246cd092a40>"
      ]
     },
     "execution_count": 12,
     "metadata": {},
     "output_type": "execute_result"
    }
   ],
   "source": [
    "alt= \" ALTER TABLE pm25 ADD COLUMN year INTEGER;\"\n",
    "db.cursor().executescript(alt)"
   ]
  },
  {
   "cell_type": "code",
   "execution_count": 14,
   "metadata": {
    "hidden": true
   },
   "outputs": [
    {
     "data": {
      "text/plain": [
       "(('index', None, None, None, None, None, None),\n",
       " ('Time', None, None, None, None, None, None),\n",
       " ('PM25', None, None, None, None, None, None),\n",
       " ('city', None, None, None, None, None, None),\n",
       " ('year', None, None, None, None, None, None))"
      ]
     },
     "execution_count": 14,
     "metadata": {},
     "output_type": "execute_result"
    }
   ],
   "source": [
    "sel = \" SELECT * FROM pm25\"\n",
    "c = db.cursor().execute(sel)\n",
    "c.description"
   ]
  },
  {
   "cell_type": "code",
   "execution_count": 17,
   "metadata": {
    "hidden": true
   },
   "outputs": [
    {
     "data": {
      "text/plain": [
       "<sqlite3.Cursor at 0x246cfcefc70>"
      ]
     },
     "execution_count": 17,
     "metadata": {},
     "output_type": "execute_result"
    }
   ],
   "source": [
    "# populate the 'year' column with the year \n",
    "alt2 = \"\"\"\n",
    "UPDATE pm25 \n",
    "SET year = substr(Time,0,5)\n",
    "\"\"\"\n",
    "db.cursor().executescript(alt2)"
   ]
  },
  {
   "cell_type": "code",
   "execution_count": 18,
   "metadata": {
    "hidden": true
   },
   "outputs": [
    {
     "data": {
      "text/plain": [
       "(0, '2016-03-03 15:00:00', 62.9, 'Bangkok', 2016)"
      ]
     },
     "execution_count": 18,
     "metadata": {},
     "output_type": "execute_result"
    }
   ],
   "source": [
    "sel = \" SELECT * FROM pm25\"\n",
    "c = db.cursor().execute(sel)\n",
    "c.fetchone()"
   ]
  },
  {
   "cell_type": "code",
   "execution_count": 20,
   "metadata": {
    "hidden": true
   },
   "outputs": [
    {
     "data": {
      "text/plain": [
       "[(0, '2016-03-03 15:00:00', 62.9, 'Bangkok', 2016),\n",
       " (1, '2016-03-03 16:00:00', 62.9, 'Bangkok', 2016),\n",
       " (2, '2016-03-03 17:00:00', 55.5, 'Bangkok', 2016),\n",
       " (3, '2016-03-03 18:00:00', 55.5, 'Bangkok', 2016),\n",
       " (4, '2016-03-03 19:00:00', 47.9, 'Bangkok', 2016)]"
      ]
     },
     "execution_count": 20,
     "metadata": {},
     "output_type": "execute_result"
    }
   ],
   "source": [
    "sel = \"\"\"\n",
    "SELECT * from pm25\n",
    "WHERE city = \"Bangkok\"\n",
    "AND PM25 > 35.5\n",
    "AND year\n",
    "BETWEEN 2016 AND 2017\n",
    "\"\"\"\n",
    "\n",
    "c=db.cursor().execute(sel)\n",
    "c.fetchmany(5)"
   ]
  },
  {
   "cell_type": "markdown",
   "metadata": {},
   "source": [
    "# Delete data\n",
    "\n",
    "delete 'Ubon Ratchathani' region from the region table  \n"
   ]
  },
  {
   "cell_type": "code",
   "execution_count": 14,
   "metadata": {},
   "outputs": [
    {
     "data": {
      "text/plain": [
       "[('Ubon Ratchathani',\n",
       "  ' Ubon Ratchathani',\n",
       "  122533,\n",
       "  15.2384,\n",
       "  104.8487,\n",
       "  11671703.894336699,\n",
       "  1714640.38699777,\n",
       "  512821.52526070294,\n",
       "  'no')]"
      ]
     },
     "execution_count": 14,
     "metadata": {},
     "output_type": "execute_result"
    }
   ],
   "source": [
    "sel = \"\"\"\n",
    "SELECT * from region\n",
    "WHERE region LIKE \"%Ubon%\"\n",
    "\"\"\"\n",
    "c=db.cursor().execute(sel)\n",
    "c.fetchall()"
   ]
  },
  {
   "cell_type": "code",
   "execution_count": 15,
   "metadata": {},
   "outputs": [
    {
     "data": {
      "text/plain": [
       "<sqlite3.Cursor at 0x1e4879c3260>"
      ]
     },
     "execution_count": 15,
     "metadata": {},
     "output_type": "execute_result"
    }
   ],
   "source": [
    "drow=\"DELETE FROM region WHERE region LIKE '%Ubon%' \"\n",
    "db.cursor().execute(drow)"
   ]
  },
  {
   "cell_type": "code",
   "execution_count": 16,
   "metadata": {},
   "outputs": [
    {
     "data": {
      "text/plain": [
       "[]"
      ]
     },
     "execution_count": 16,
     "metadata": {},
     "output_type": "execute_result"
    }
   ],
   "source": [
    "# Ubon region is gone\n",
    "sel = \"\"\"\n",
    "SELECT * from region\n",
    "WHERE region LIKE \"%Ubon%\"\n",
    "\"\"\"\n",
    "c=db.cursor().execute(sel)\n",
    "c.fetchall()"
   ]
  },
  {
   "cell_type": "markdown",
   "metadata": {},
   "source": [
    "## Turn the query result into a dataframe"
   ]
  },
  {
   "cell_type": "code",
   "execution_count": 165,
   "metadata": {},
   "outputs": [],
   "source": [
    "sel = \"\"\"\n",
    "SELECT *  from fire\n",
    "where confidence > 80\n",
    "\"\"\"\n",
    "\n",
    "c = db.cursor().execute(sel)\n",
    "qresults = c.fetchmany(5)"
   ]
  },
  {
   "cell_type": "code",
   "execution_count": 167,
   "metadata": {},
   "outputs": [
    {
     "data": {
      "text/plain": [
       "[(-18.0529, 144.6651, 340.4, '2018-01-01', 15, 88, None, 83.9, 'D'),\n",
       " (-18.0524, 144.6723, 343.9, '2018-01-01', 15, 90, None, 102.1, 'D'),\n",
       " (-18.0489, 144.653, 336.1, '2018-01-01', 15, 84, None, 62.6, 'D'),\n",
       " (-15.7994, 143.8199, 331.1, '2018-01-01', 15, 81, None, 79.0, 'D'),\n",
       " (-15.809000000000001, 143.8241, 332.5, '2018-01-01', 15, 83, None, 84.2, 'D')]"
      ]
     },
     "execution_count": 167,
     "metadata": {},
     "output_type": "execute_result"
    }
   ],
   "source": [
    "qresults"
   ]
  },
  {
   "cell_type": "code",
   "execution_count": 162,
   "metadata": {},
   "outputs": [
    {
     "data": {
      "text/plain": [
       "(('latitude', None, None, None, None, None, None),\n",
       " ('longitude', None, None, None, None, None, None),\n",
       " ('brightness', None, None, None, None, None, None),\n",
       " ('acq_date', None, None, None, None, None, None),\n",
       " ('acq_time', None, None, None, None, None, None),\n",
       " ('confidence', None, None, None, None, None, None),\n",
       " ('bright', None, None, None, None, None, None),\n",
       " ('power', None, None, None, None, None, None),\n",
       " ('daynight', None, None, None, None, None, None))"
      ]
     },
     "execution_count": 162,
     "metadata": {},
     "output_type": "execute_result"
    }
   ],
   "source": [
    "c.description"
   ]
  },
  {
   "cell_type": "code",
   "execution_count": 163,
   "metadata": {},
   "outputs": [],
   "source": [
    "cols = [e[0] for e in c.description]"
   ]
  },
  {
   "cell_type": "code",
   "execution_count": 164,
   "metadata": {},
   "outputs": [
    {
     "data": {
      "text/plain": [
       "['latitude',\n",
       " 'longitude',\n",
       " 'brightness',\n",
       " 'acq_date',\n",
       " 'acq_time',\n",
       " 'confidence',\n",
       " 'bright',\n",
       " 'power',\n",
       " 'daynight']"
      ]
     },
     "execution_count": 164,
     "metadata": {},
     "output_type": "execute_result"
    }
   ],
   "source": [
    "cols"
   ]
  },
  {
   "cell_type": "code",
   "execution_count": 180,
   "metadata": {},
   "outputs": [
    {
     "data": {
      "text/html": [
       "<div>\n",
       "<style scoped>\n",
       "    .dataframe tbody tr th:only-of-type {\n",
       "        vertical-align: middle;\n",
       "    }\n",
       "\n",
       "    .dataframe tbody tr th {\n",
       "        vertical-align: top;\n",
       "    }\n",
       "\n",
       "    .dataframe thead th {\n",
       "        text-align: right;\n",
       "    }\n",
       "</style>\n",
       "<table border=\"1\" class=\"dataframe\">\n",
       "  <thead>\n",
       "    <tr style=\"text-align: right;\">\n",
       "      <th></th>\n",
       "      <th>latitude</th>\n",
       "      <th>longitude</th>\n",
       "      <th>brightness</th>\n",
       "      <th>acq_date</th>\n",
       "      <th>acq_time</th>\n",
       "      <th>confidence</th>\n",
       "      <th>bright</th>\n",
       "      <th>power</th>\n",
       "      <th>daynight</th>\n",
       "    </tr>\n",
       "  </thead>\n",
       "  <tbody>\n",
       "    <tr>\n",
       "      <th>0</th>\n",
       "      <td>-18.0529</td>\n",
       "      <td>144.6651</td>\n",
       "      <td>340.4</td>\n",
       "      <td>2018-01-01</td>\n",
       "      <td>15</td>\n",
       "      <td>88</td>\n",
       "      <td>None</td>\n",
       "      <td>83.9</td>\n",
       "      <td>D</td>\n",
       "    </tr>\n",
       "    <tr>\n",
       "      <th>1</th>\n",
       "      <td>-18.0524</td>\n",
       "      <td>144.6723</td>\n",
       "      <td>343.9</td>\n",
       "      <td>2018-01-01</td>\n",
       "      <td>15</td>\n",
       "      <td>90</td>\n",
       "      <td>None</td>\n",
       "      <td>102.1</td>\n",
       "      <td>D</td>\n",
       "    </tr>\n",
       "    <tr>\n",
       "      <th>2</th>\n",
       "      <td>-18.0489</td>\n",
       "      <td>144.6530</td>\n",
       "      <td>336.1</td>\n",
       "      <td>2018-01-01</td>\n",
       "      <td>15</td>\n",
       "      <td>84</td>\n",
       "      <td>None</td>\n",
       "      <td>62.6</td>\n",
       "      <td>D</td>\n",
       "    </tr>\n",
       "    <tr>\n",
       "      <th>3</th>\n",
       "      <td>-15.7994</td>\n",
       "      <td>143.8199</td>\n",
       "      <td>331.1</td>\n",
       "      <td>2018-01-01</td>\n",
       "      <td>15</td>\n",
       "      <td>81</td>\n",
       "      <td>None</td>\n",
       "      <td>79.0</td>\n",
       "      <td>D</td>\n",
       "    </tr>\n",
       "    <tr>\n",
       "      <th>4</th>\n",
       "      <td>-15.8090</td>\n",
       "      <td>143.8241</td>\n",
       "      <td>332.5</td>\n",
       "      <td>2018-01-01</td>\n",
       "      <td>15</td>\n",
       "      <td>83</td>\n",
       "      <td>None</td>\n",
       "      <td>84.2</td>\n",
       "      <td>D</td>\n",
       "    </tr>\n",
       "  </tbody>\n",
       "</table>\n",
       "</div>"
      ],
      "text/plain": [
       "   latitude  longitude  brightness    acq_date  acq_time  confidence bright  \\\n",
       "0  -18.0529   144.6651       340.4  2018-01-01        15          88   None   \n",
       "1  -18.0524   144.6723       343.9  2018-01-01        15          90   None   \n",
       "2  -18.0489   144.6530       336.1  2018-01-01        15          84   None   \n",
       "3  -15.7994   143.8199       331.1  2018-01-01        15          81   None   \n",
       "4  -15.8090   143.8241       332.5  2018-01-01        15          83   None   \n",
       "\n",
       "   power daynight  \n",
       "0   83.9        D  \n",
       "1  102.1        D  \n",
       "2   62.6        D  \n",
       "3   79.0        D  \n",
       "4   84.2        D  "
      ]
     },
     "execution_count": 180,
     "metadata": {},
     "output_type": "execute_result"
    }
   ],
   "source": [
    "df = pd.DataFrame(qresults,columns=cols)\n",
    "df.head()"
   ]
  },
  {
   "cell_type": "markdown",
   "metadata": {},
   "source": [
    "Turn query result into a dataframe (concise version)."
   ]
  },
  {
   "cell_type": "code",
   "execution_count": 181,
   "metadata": {},
   "outputs": [],
   "source": [
    "sel = \"\"\"\n",
    "SELECT * from pm25\n",
    "WHERE city == \"Bangkok\"\n",
    "\"\"\"\n",
    "c = db.cursor().execute(sel)\n",
    "qresults = c.fetchall()\n",
    "df = pd.DataFrame(qresults,columns= [e[0] for e in c.description])"
   ]
  },
  {
   "cell_type": "code",
   "execution_count": 182,
   "metadata": {},
   "outputs": [
    {
     "data": {
      "text/html": [
       "<div>\n",
       "<style scoped>\n",
       "    .dataframe tbody tr th:only-of-type {\n",
       "        vertical-align: middle;\n",
       "    }\n",
       "\n",
       "    .dataframe tbody tr th {\n",
       "        vertical-align: top;\n",
       "    }\n",
       "\n",
       "    .dataframe thead th {\n",
       "        text-align: right;\n",
       "    }\n",
       "</style>\n",
       "<table border=\"1\" class=\"dataframe\">\n",
       "  <thead>\n",
       "    <tr style=\"text-align: right;\">\n",
       "      <th></th>\n",
       "      <th>index</th>\n",
       "      <th>Time</th>\n",
       "      <th>PM25</th>\n",
       "      <th>city</th>\n",
       "    </tr>\n",
       "  </thead>\n",
       "  <tbody>\n",
       "    <tr>\n",
       "      <th>0</th>\n",
       "      <td>0</td>\n",
       "      <td>2016-03-03 15:00:00</td>\n",
       "      <td>62.9</td>\n",
       "      <td>Bangkok</td>\n",
       "    </tr>\n",
       "    <tr>\n",
       "      <th>1</th>\n",
       "      <td>1</td>\n",
       "      <td>2016-03-03 16:00:00</td>\n",
       "      <td>62.9</td>\n",
       "      <td>Bangkok</td>\n",
       "    </tr>\n",
       "    <tr>\n",
       "      <th>2</th>\n",
       "      <td>2</td>\n",
       "      <td>2016-03-03 17:00:00</td>\n",
       "      <td>55.5</td>\n",
       "      <td>Bangkok</td>\n",
       "    </tr>\n",
       "    <tr>\n",
       "      <th>3</th>\n",
       "      <td>3</td>\n",
       "      <td>2016-03-03 18:00:00</td>\n",
       "      <td>55.5</td>\n",
       "      <td>Bangkok</td>\n",
       "    </tr>\n",
       "    <tr>\n",
       "      <th>4</th>\n",
       "      <td>4</td>\n",
       "      <td>2016-03-03 19:00:00</td>\n",
       "      <td>47.9</td>\n",
       "      <td>Bangkok</td>\n",
       "    </tr>\n",
       "  </tbody>\n",
       "</table>\n",
       "</div>"
      ],
      "text/plain": [
       "   index                 Time  PM25     city\n",
       "0      0  2016-03-03 15:00:00  62.9  Bangkok\n",
       "1      1  2016-03-03 16:00:00  62.9  Bangkok\n",
       "2      2  2016-03-03 17:00:00  55.5  Bangkok\n",
       "3      3  2016-03-03 18:00:00  55.5  Bangkok\n",
       "4      4  2016-03-03 19:00:00  47.9  Bangkok"
      ]
     },
     "execution_count": 182,
     "metadata": {},
     "output_type": "execute_result"
    }
   ],
   "source": [
    "df.head()"
   ]
  },
  {
   "cell_type": "markdown",
   "metadata": {},
   "source": [
    "# Query results"
   ]
  },
  {
   "cell_type": "markdown",
   "metadata": {},
   "source": [
    "- using WHERE, AND, OR \n",
    "- using IS NOT NULL and IS NULL\n",
    "- LIKE and NOT LIKE"
   ]
  },
  {
   "cell_type": "code",
   "execution_count": 4,
   "metadata": {},
   "outputs": [
    {
     "data": {
      "text/html": [
       "<div>\n",
       "<style scoped>\n",
       "    .dataframe tbody tr th:only-of-type {\n",
       "        vertical-align: middle;\n",
       "    }\n",
       "\n",
       "    .dataframe tbody tr th {\n",
       "        vertical-align: top;\n",
       "    }\n",
       "\n",
       "    .dataframe thead th {\n",
       "        text-align: right;\n",
       "    }\n",
       "</style>\n",
       "<table border=\"1\" class=\"dataframe\">\n",
       "  <thead>\n",
       "    <tr style=\"text-align: right;\">\n",
       "      <th></th>\n",
       "      <th>Time</th>\n",
       "      <th>Temperature(F)</th>\n",
       "      <th>Dew Point(F)</th>\n",
       "      <th>Humidity(%)</th>\n",
       "      <th>Wind</th>\n",
       "      <th>Wind Speed(mph)</th>\n",
       "      <th>Wind Gust(mph)</th>\n",
       "      <th>Pressure(in)</th>\n",
       "      <th>Precip.(in)</th>\n",
       "      <th>Precip Accum(in)</th>\n",
       "      <th>Condition</th>\n",
       "      <th>date</th>\n",
       "    </tr>\n",
       "  </thead>\n",
       "  <tbody>\n",
       "    <tr>\n",
       "      <th>0</th>\n",
       "      <td>2:00 PM</td>\n",
       "      <td>90</td>\n",
       "      <td>75</td>\n",
       "      <td>62</td>\n",
       "      <td>None</td>\n",
       "      <td>0</td>\n",
       "      <td>0</td>\n",
       "      <td>29.8</td>\n",
       "      <td>0.0</td>\n",
       "      <td>0.0</td>\n",
       "      <td>Fair</td>\n",
       "      <td>2016-03-18 14:00:00</td>\n",
       "    </tr>\n",
       "    <tr>\n",
       "      <th>1</th>\n",
       "      <td>2:05 PM</td>\n",
       "      <td>90</td>\n",
       "      <td>75</td>\n",
       "      <td>62</td>\n",
       "      <td>None</td>\n",
       "      <td>0</td>\n",
       "      <td>0</td>\n",
       "      <td>29.8</td>\n",
       "      <td>0.0</td>\n",
       "      <td>0.0</td>\n",
       "      <td>Fair</td>\n",
       "      <td>2016-03-18 14:05:00</td>\n",
       "    </tr>\n",
       "    <tr>\n",
       "      <th>2</th>\n",
       "      <td>6:30 PM</td>\n",
       "      <td>0</td>\n",
       "      <td>0</td>\n",
       "      <td>0</td>\n",
       "      <td>None</td>\n",
       "      <td>0</td>\n",
       "      <td>0</td>\n",
       "      <td>0.0</td>\n",
       "      <td>0.0</td>\n",
       "      <td>0.0</td>\n",
       "      <td>Fair</td>\n",
       "      <td>2016-05-06 18:30:00</td>\n",
       "    </tr>\n",
       "  </tbody>\n",
       "</table>\n",
       "</div>"
      ],
      "text/plain": [
       "      Time  Temperature(F)  Dew Point(F)  Humidity(%)  Wind  Wind Speed(mph)  \\\n",
       "0  2:00 PM              90            75           62  None                0   \n",
       "1  2:05 PM              90            75           62  None                0   \n",
       "2  6:30 PM               0             0            0  None                0   \n",
       "\n",
       "   Wind Gust(mph)  Pressure(in)  Precip.(in)  Precip Accum(in) Condition  \\\n",
       "0               0          29.8          0.0               0.0      Fair   \n",
       "1               0          29.8          0.0               0.0      Fair   \n",
       "2               0           0.0          0.0               0.0      Fair   \n",
       "\n",
       "                  date  \n",
       "0  2016-03-18 14:00:00  \n",
       "1  2016-03-18 14:05:00  \n",
       "2  2016-05-06 18:30:00  "
      ]
     },
     "execution_count": 4,
     "metadata": {},
     "output_type": "execute_result"
    }
   ],
   "source": [
    "sel = \"\"\"\n",
    "SELECT * from weather\n",
    "WHERE wind IS NULL\n",
    "\"\"\"\n",
    "c = db.cursor().execute(sel)\n",
    "qresults = c.fetchall()\n",
    "df = pd.DataFrame(qresults,columns= [e[0] for e in c.description])\n",
    "df.head(3)"
   ]
  },
  {
   "cell_type": "code",
   "execution_count": 5,
   "metadata": {},
   "outputs": [
    {
     "data": {
      "text/html": [
       "<div>\n",
       "<style scoped>\n",
       "    .dataframe tbody tr th:only-of-type {\n",
       "        vertical-align: middle;\n",
       "    }\n",
       "\n",
       "    .dataframe tbody tr th {\n",
       "        vertical-align: top;\n",
       "    }\n",
       "\n",
       "    .dataframe thead th {\n",
       "        text-align: right;\n",
       "    }\n",
       "</style>\n",
       "<table border=\"1\" class=\"dataframe\">\n",
       "  <thead>\n",
       "    <tr style=\"text-align: right;\">\n",
       "      <th></th>\n",
       "      <th>count(*)</th>\n",
       "    </tr>\n",
       "  </thead>\n",
       "  <tbody>\n",
       "    <tr>\n",
       "      <th>0</th>\n",
       "      <td>56181</td>\n",
       "    </tr>\n",
       "  </tbody>\n",
       "</table>\n",
       "</div>"
      ],
      "text/plain": [
       "   count(*)\n",
       "0     56181"
      ]
     },
     "execution_count": 5,
     "metadata": {},
     "output_type": "execute_result"
    }
   ],
   "source": [
    "sel = \"\"\"\n",
    "SELECT count(*) from weather\n",
    "WHERE wind IS NOT NULL\n",
    "\"\"\"\n",
    "c = db.cursor().execute(sel)\n",
    "qresults = c.fetchall()\n",
    "df = pd.DataFrame(qresults,columns= [e[0] for e in c.description])\n",
    "df.head(3)"
   ]
  },
  {
   "cell_type": "markdown",
   "metadata": {},
   "source": [
    "LIKE and NOT LIKE is used to search for pattern.\n",
    "\n",
    "The % wildcard will match zero, one, or many characters in text. For example, the following query matches companies like 'Data', 'DataC' 'DataCamp', 'DataMind', and so on: \n",
    "\n",
    "SELECT name\n",
    "FROM companies\n",
    "WHERE name LIKE 'Data%';\n",
    "\n",
    "The _ wildcard will match a single character. For example, the following query matches companies like 'DataCamp', 'DataComp', and so on:\n",
    "\n",
    "SELECT name\n",
    "FROM companies\n",
    "WHERE name LIKE 'DataC_mp';"
   ]
  },
  {
   "cell_type": "code",
   "execution_count": 6,
   "metadata": {},
   "outputs": [
    {
     "data": {
      "text/html": [
       "<div>\n",
       "<style scoped>\n",
       "    .dataframe tbody tr th:only-of-type {\n",
       "        vertical-align: middle;\n",
       "    }\n",
       "\n",
       "    .dataframe tbody tr th {\n",
       "        vertical-align: top;\n",
       "    }\n",
       "\n",
       "    .dataframe thead th {\n",
       "        text-align: right;\n",
       "    }\n",
       "</style>\n",
       "<table border=\"1\" class=\"dataframe\">\n",
       "  <thead>\n",
       "    <tr style=\"text-align: right;\">\n",
       "      <th></th>\n",
       "      <th>Time</th>\n",
       "      <th>Temperature(F)</th>\n",
       "      <th>Dew Point(F)</th>\n",
       "      <th>Humidity(%)</th>\n",
       "      <th>Wind</th>\n",
       "      <th>Wind Speed(mph)</th>\n",
       "      <th>Wind Gust(mph)</th>\n",
       "      <th>Pressure(in)</th>\n",
       "      <th>Precip.(in)</th>\n",
       "      <th>Precip Accum(in)</th>\n",
       "      <th>Condition</th>\n",
       "      <th>date</th>\n",
       "    </tr>\n",
       "  </thead>\n",
       "  <tbody>\n",
       "    <tr>\n",
       "      <th>0</th>\n",
       "      <td>12:00 AM</td>\n",
       "      <td>77</td>\n",
       "      <td>66</td>\n",
       "      <td>69</td>\n",
       "      <td>NE</td>\n",
       "      <td>3</td>\n",
       "      <td>0</td>\n",
       "      <td>30.0</td>\n",
       "      <td>0.0</td>\n",
       "      <td>0.0</td>\n",
       "      <td>Fair</td>\n",
       "      <td>2016-01-01 00:00:00</td>\n",
       "    </tr>\n",
       "    <tr>\n",
       "      <th>1</th>\n",
       "      <td>12:30 AM</td>\n",
       "      <td>77</td>\n",
       "      <td>64</td>\n",
       "      <td>65</td>\n",
       "      <td>NNE</td>\n",
       "      <td>5</td>\n",
       "      <td>0</td>\n",
       "      <td>30.0</td>\n",
       "      <td>0.0</td>\n",
       "      <td>0.0</td>\n",
       "      <td>Fair</td>\n",
       "      <td>2016-01-01 00:30:00</td>\n",
       "    </tr>\n",
       "    <tr>\n",
       "      <th>2</th>\n",
       "      <td>1:30 AM</td>\n",
       "      <td>75</td>\n",
       "      <td>64</td>\n",
       "      <td>69</td>\n",
       "      <td>NE</td>\n",
       "      <td>5</td>\n",
       "      <td>0</td>\n",
       "      <td>30.0</td>\n",
       "      <td>0.0</td>\n",
       "      <td>0.0</td>\n",
       "      <td>Fair</td>\n",
       "      <td>2016-01-01 01:30:00</td>\n",
       "    </tr>\n",
       "  </tbody>\n",
       "</table>\n",
       "</div>"
      ],
      "text/plain": [
       "       Time  Temperature(F)  Dew Point(F)  Humidity(%) Wind  Wind Speed(mph)  \\\n",
       "0  12:00 AM              77            66           69   NE                3   \n",
       "1  12:30 AM              77            64           65  NNE                5   \n",
       "2   1:30 AM              75            64           69   NE                5   \n",
       "\n",
       "   Wind Gust(mph)  Pressure(in)  Precip.(in)  Precip Accum(in) Condition  \\\n",
       "0               0          30.0          0.0               0.0      Fair   \n",
       "1               0          30.0          0.0               0.0      Fair   \n",
       "2               0          30.0          0.0               0.0      Fair   \n",
       "\n",
       "                  date  \n",
       "0  2016-01-01 00:00:00  \n",
       "1  2016-01-01 00:30:00  \n",
       "2  2016-01-01 01:30:00  "
      ]
     },
     "execution_count": 6,
     "metadata": {},
     "output_type": "execute_result"
    }
   ],
   "source": [
    "# find the day when the wind blow north\n",
    "sel = \"\"\"\n",
    "SELECT * from weather\n",
    "WHERE wind LIKE 'N%'\n",
    "\"\"\"\n",
    "c = db.cursor().execute(sel)\n",
    "qresults = c.fetchall()\n",
    "df = pd.DataFrame(qresults,columns= [e[0] for e in c.description])\n",
    "df.head(3)"
   ]
  },
  {
   "cell_type": "code",
   "execution_count": 7,
   "metadata": {},
   "outputs": [
    {
     "data": {
      "text/html": [
       "<div>\n",
       "<style scoped>\n",
       "    .dataframe tbody tr th:only-of-type {\n",
       "        vertical-align: middle;\n",
       "    }\n",
       "\n",
       "    .dataframe tbody tr th {\n",
       "        vertical-align: top;\n",
       "    }\n",
       "\n",
       "    .dataframe thead th {\n",
       "        text-align: right;\n",
       "    }\n",
       "</style>\n",
       "<table border=\"1\" class=\"dataframe\">\n",
       "  <thead>\n",
       "    <tr style=\"text-align: right;\">\n",
       "      <th></th>\n",
       "      <th>COUNT(*)</th>\n",
       "    </tr>\n",
       "  </thead>\n",
       "  <tbody>\n",
       "    <tr>\n",
       "      <th>0</th>\n",
       "      <td>44849</td>\n",
       "    </tr>\n",
       "  </tbody>\n",
       "</table>\n",
       "</div>"
      ],
      "text/plain": [
       "   COUNT(*)\n",
       "0     44849"
      ]
     },
     "execution_count": 7,
     "metadata": {},
     "output_type": "execute_result"
    }
   ],
   "source": [
    "# cound the day when the wind does not blow north\n",
    "sel = \"\"\"\n",
    "SELECT COUNT(*) from weather\n",
    "WHERE wind NOT LIKE 'N%'\n",
    "\"\"\"\n",
    "c = db.cursor().execute(sel)\n",
    "qresults = c.fetchall()\n",
    "df = pd.DataFrame(qresults,columns= [e[0] for e in c.description])\n",
    "df.head(3)"
   ]
  },
  {
   "cell_type": "markdown",
   "metadata": {},
   "source": [
    "# Aggegation \n",
    "\n",
    "After aggregation, there will be additional columns to display; therefore need to add another columns in pandas.\n",
    "\n",
    "Aggregation commands: MAX, COUNT, SUM, AVG"
   ]
  },
  {
   "cell_type": "markdown",
   "metadata": {},
   "source": [
    "Find the province with the maximum pollution level"
   ]
  },
  {
   "cell_type": "markdown",
   "metadata": {},
   "source": [
    "In addition to using aggregate functions, you can perform basic arithmetic with symbols like +, -, *, and /.\n",
    "\n",
    "So, for example, this gives a result of 12:\n",
    "\n",
    "SELECT (4 * 3)"
   ]
  },
  {
   "cell_type": "code",
   "execution_count": 194,
   "metadata": {},
   "outputs": [
    {
     "data": {
      "text/html": [
       "<div>\n",
       "<style scoped>\n",
       "    .dataframe tbody tr th:only-of-type {\n",
       "        vertical-align: middle;\n",
       "    }\n",
       "\n",
       "    .dataframe tbody tr th {\n",
       "        vertical-align: top;\n",
       "    }\n",
       "\n",
       "    .dataframe thead th {\n",
       "        text-align: right;\n",
       "    }\n",
       "</style>\n",
       "<table border=\"1\" class=\"dataframe\">\n",
       "  <thead>\n",
       "    <tr style=\"text-align: right;\">\n",
       "      <th></th>\n",
       "      <th>index</th>\n",
       "      <th>Time</th>\n",
       "      <th>PM25</th>\n",
       "      <th>city</th>\n",
       "      <th>maxpm</th>\n",
       "    </tr>\n",
       "  </thead>\n",
       "  <tbody>\n",
       "    <tr>\n",
       "      <th>0</th>\n",
       "      <td>421096</td>\n",
       "      <td>2017-11-15 10:00:00</td>\n",
       "      <td>787.9</td>\n",
       "      <td>Khon Kaen</td>\n",
       "      <td>787.9</td>\n",
       "    </tr>\n",
       "  </tbody>\n",
       "</table>\n",
       "</div>"
      ],
      "text/plain": [
       "    index                 Time   PM25       city  maxpm\n",
       "0  421096  2017-11-15 10:00:00  787.9  Khon Kaen  787.9"
      ]
     },
     "execution_count": 194,
     "metadata": {},
     "output_type": "execute_result"
    }
   ],
   "source": [
    "# find the province with the maximum pollution level\n",
    "sel = \"\"\"\n",
    "SELECT *, MAX(pm25) AS maxpm\n",
    "from pm25\n",
    "\"\"\"\n",
    "c = db.cursor().execute(sel)\n",
    "qresults = c.fetchall()\n",
    "df = pd.DataFrame(qresults,columns=[e[0] for e in c.description])\n",
    "df.head()"
   ]
  },
  {
   "cell_type": "markdown",
   "metadata": {},
   "source": [
    "In the region table, count the number of city in a region using GROUP BY, and only show 3 rows using LIMIT."
   ]
  },
  {
   "cell_type": "code",
   "execution_count": 17,
   "metadata": {
    "scrolled": true
   },
   "outputs": [
    {
     "data": {
      "text/html": [
       "<div>\n",
       "<style scoped>\n",
       "    .dataframe tbody tr th:only-of-type {\n",
       "        vertical-align: middle;\n",
       "    }\n",
       "\n",
       "    .dataframe tbody tr th {\n",
       "        vertical-align: top;\n",
       "    }\n",
       "\n",
       "    .dataframe thead th {\n",
       "        text-align: right;\n",
       "    }\n",
       "</style>\n",
       "<table border=\"1\" class=\"dataframe\">\n",
       "  <thead>\n",
       "    <tr style=\"text-align: right;\">\n",
       "      <th></th>\n",
       "      <th>num_city</th>\n",
       "      <th>region</th>\n",
       "    </tr>\n",
       "  </thead>\n",
       "  <tbody>\n",
       "    <tr>\n",
       "      <th>0</th>\n",
       "      <td>1</td>\n",
       "      <td>Udon Thani</td>\n",
       "    </tr>\n",
       "    <tr>\n",
       "      <th>1</th>\n",
       "      <td>1</td>\n",
       "      <td>Bangkok</td>\n",
       "    </tr>\n",
       "    <tr>\n",
       "      <th>2</th>\n",
       "      <td>1</td>\n",
       "      <td>Chaiyaphum</td>\n",
       "    </tr>\n",
       "  </tbody>\n",
       "</table>\n",
       "</div>"
      ],
      "text/plain": [
       "   num_city       region\n",
       "0         1   Udon Thani\n",
       "1         1      Bangkok\n",
       "2         1   Chaiyaphum"
      ]
     },
     "execution_count": 17,
     "metadata": {},
     "output_type": "execute_result"
    }
   ],
   "source": [
    "sel = \"\"\"\n",
    "SELECT COUNT(CITY) AS count, region\n",
    "from region\n",
    "GROUP BY region\n",
    "LIMIT 3\n",
    "\"\"\"\n",
    "c = db.cursor().execute(sel)\n",
    "qresults = c.fetchall()\n",
    "df = pd.DataFrame(qresults,columns=['num_city','region'])\n",
    "df.head()"
   ]
  },
  {
   "cell_type": "markdown",
   "metadata": {},
   "source": [
    "# AS for aliasing\n",
    "\n",
    "Turn the temperature to degree C as Temperature(C)"
   ]
  },
  {
   "cell_type": "code",
   "execution_count": 10,
   "metadata": {},
   "outputs": [
    {
     "data": {
      "text/html": [
       "<div>\n",
       "<style scoped>\n",
       "    .dataframe tbody tr th:only-of-type {\n",
       "        vertical-align: middle;\n",
       "    }\n",
       "\n",
       "    .dataframe tbody tr th {\n",
       "        vertical-align: top;\n",
       "    }\n",
       "\n",
       "    .dataframe thead th {\n",
       "        text-align: right;\n",
       "    }\n",
       "</style>\n",
       "<table border=\"1\" class=\"dataframe\">\n",
       "  <thead>\n",
       "    <tr style=\"text-align: right;\">\n",
       "      <th></th>\n",
       "      <th>Time</th>\n",
       "      <th>Temperature(F)</th>\n",
       "      <th>Dew Point(F)</th>\n",
       "      <th>Humidity(%)</th>\n",
       "      <th>Wind</th>\n",
       "      <th>Wind Speed(mph)</th>\n",
       "      <th>Wind Gust(mph)</th>\n",
       "      <th>Pressure(in)</th>\n",
       "      <th>Precip.(in)</th>\n",
       "      <th>Precip Accum(in)</th>\n",
       "      <th>Condition</th>\n",
       "      <th>date</th>\n",
       "    </tr>\n",
       "  </thead>\n",
       "  <tbody>\n",
       "    <tr>\n",
       "      <th>0</th>\n",
       "      <td>12:00 AM</td>\n",
       "      <td>77</td>\n",
       "      <td>66</td>\n",
       "      <td>69</td>\n",
       "      <td>NE</td>\n",
       "      <td>3</td>\n",
       "      <td>0</td>\n",
       "      <td>30.0</td>\n",
       "      <td>0.0</td>\n",
       "      <td>0.0</td>\n",
       "      <td>Fair</td>\n",
       "      <td>2016-01-01 00:00:00</td>\n",
       "    </tr>\n",
       "    <tr>\n",
       "      <th>1</th>\n",
       "      <td>12:30 AM</td>\n",
       "      <td>77</td>\n",
       "      <td>64</td>\n",
       "      <td>65</td>\n",
       "      <td>NNE</td>\n",
       "      <td>5</td>\n",
       "      <td>0</td>\n",
       "      <td>30.0</td>\n",
       "      <td>0.0</td>\n",
       "      <td>0.0</td>\n",
       "      <td>Fair</td>\n",
       "      <td>2016-01-01 00:30:00</td>\n",
       "    </tr>\n",
       "    <tr>\n",
       "      <th>2</th>\n",
       "      <td>1:00 AM</td>\n",
       "      <td>77</td>\n",
       "      <td>66</td>\n",
       "      <td>69</td>\n",
       "      <td>E</td>\n",
       "      <td>5</td>\n",
       "      <td>0</td>\n",
       "      <td>30.0</td>\n",
       "      <td>0.0</td>\n",
       "      <td>0.0</td>\n",
       "      <td>Fair</td>\n",
       "      <td>2016-01-01 01:00:00</td>\n",
       "    </tr>\n",
       "  </tbody>\n",
       "</table>\n",
       "</div>"
      ],
      "text/plain": [
       "       Time  Temperature(F)  Dew Point(F)  Humidity(%) Wind  Wind Speed(mph)  \\\n",
       "0  12:00 AM              77            66           69   NE                3   \n",
       "1  12:30 AM              77            64           65  NNE                5   \n",
       "2   1:00 AM              77            66           69    E                5   \n",
       "\n",
       "   Wind Gust(mph)  Pressure(in)  Precip.(in)  Precip Accum(in) Condition  \\\n",
       "0               0          30.0          0.0               0.0      Fair   \n",
       "1               0          30.0          0.0               0.0      Fair   \n",
       "2               0          30.0          0.0               0.0      Fair   \n",
       "\n",
       "                  date  \n",
       "0  2016-01-01 00:00:00  \n",
       "1  2016-01-01 00:30:00  \n",
       "2  2016-01-01 01:00:00  "
      ]
     },
     "execution_count": 10,
     "metadata": {},
     "output_type": "execute_result"
    }
   ],
   "source": [
    "sel = \"\"\"\n",
    "SELECT  *\n",
    "from weather\n",
    "LIMIT 3\n",
    "\"\"\"\n",
    "c = db.cursor().execute(sel)\n",
    "qresults = c.fetchall()\n",
    "df = pd.DataFrame(qresults, columns=[e[0] for e in c.description])\n",
    "df.head()"
   ]
  },
  {
   "cell_type": "code",
   "execution_count": 24,
   "metadata": {},
   "outputs": [
    {
     "data": {
      "text/html": [
       "<div>\n",
       "<style scoped>\n",
       "    .dataframe tbody tr th:only-of-type {\n",
       "        vertical-align: middle;\n",
       "    }\n",
       "\n",
       "    .dataframe tbody tr th {\n",
       "        vertical-align: top;\n",
       "    }\n",
       "\n",
       "    .dataframe thead th {\n",
       "        text-align: right;\n",
       "    }\n",
       "</style>\n",
       "<table border=\"1\" class=\"dataframe\">\n",
       "  <thead>\n",
       "    <tr style=\"text-align: right;\">\n",
       "      <th></th>\n",
       "      <th>Temperature(C)</th>\n",
       "    </tr>\n",
       "  </thead>\n",
       "  <tbody>\n",
       "    <tr>\n",
       "      <th>0</th>\n",
       "      <td>24.57</td>\n",
       "    </tr>\n",
       "    <tr>\n",
       "      <th>1</th>\n",
       "      <td>24.57</td>\n",
       "    </tr>\n",
       "    <tr>\n",
       "      <th>2</th>\n",
       "      <td>24.57</td>\n",
       "    </tr>\n",
       "  </tbody>\n",
       "</table>\n",
       "</div>"
      ],
      "text/plain": [
       "   Temperature(C)\n",
       "0           24.57\n",
       "1           24.57\n",
       "2           24.57"
      ]
     },
     "execution_count": 24,
     "metadata": {},
     "output_type": "execute_result"
    }
   ],
   "source": [
    "sel = \"\"\"\n",
    "SELECT  ((\"Temperature(F)\"*0.55) - 17.78) AS \"Temperature(C)\"\n",
    "from weather\n",
    "LIMIT 3\n",
    "\"\"\"\n",
    "c = db.cursor().execute(sel)\n",
    "qresults = c.fetchall()\n",
    "df = pd.DataFrame(qresults, columns=[e[0] for e in c.description])\n",
    "df.head()"
   ]
  },
  {
   "cell_type": "markdown",
   "metadata": {},
   "source": [
    "# ORDER BY \n",
    "\n",
    "ORDER BY is used to sort the result. \n",
    "The default will sort in ascending order\n",
    "\n",
    "SELECT title\n",
    "FROM films\n",
    "ORDER BY release_year DESC;"
   ]
  },
  {
   "cell_type": "code",
   "execution_count": 29,
   "metadata": {},
   "outputs": [
    {
     "data": {
      "text/html": [
       "<div>\n",
       "<style scoped>\n",
       "    .dataframe tbody tr th:only-of-type {\n",
       "        vertical-align: middle;\n",
       "    }\n",
       "\n",
       "    .dataframe tbody tr th {\n",
       "        vertical-align: top;\n",
       "    }\n",
       "\n",
       "    .dataframe thead th {\n",
       "        text-align: right;\n",
       "    }\n",
       "</style>\n",
       "<table border=\"1\" class=\"dataframe\">\n",
       "  <thead>\n",
       "    <tr style=\"text-align: right;\">\n",
       "      <th></th>\n",
       "      <th>City</th>\n",
       "      <th>Region</th>\n",
       "      <th>Population</th>\n",
       "      <th>Latitude</th>\n",
       "      <th>Longitude</th>\n",
       "      <th>x_mer</th>\n",
       "      <th>y_mer</th>\n",
       "      <th>dis2BKK</th>\n",
       "      <th>close2BKK</th>\n",
       "    </tr>\n",
       "  </thead>\n",
       "  <tbody>\n",
       "    <tr>\n",
       "      <th>0</th>\n",
       "      <td>Ban Lam Luk Ka</td>\n",
       "      <td>Pathum Thani</td>\n",
       "      <td>60700</td>\n",
       "      <td>13.9774</td>\n",
       "      <td>100.7778</td>\n",
       "      <td>1.121853e+07</td>\n",
       "      <td>1.570430e+06</td>\n",
       "      <td>39938.064467</td>\n",
       "      <td>yes</td>\n",
       "    </tr>\n",
       "    <tr>\n",
       "      <th>1</th>\n",
       "      <td>Ban Mai</td>\n",
       "      <td>Songkhla</td>\n",
       "      <td>86899</td>\n",
       "      <td>7.2041</td>\n",
       "      <td>100.5451</td>\n",
       "      <td>1.119263e+07</td>\n",
       "      <td>8.076416e+05</td>\n",
       "      <td>737342.351919</td>\n",
       "      <td>no</td>\n",
       "    </tr>\n",
       "    <tr>\n",
       "      <th>2</th>\n",
       "      <td>Ban Pong</td>\n",
       "      <td>Ratchaburi</td>\n",
       "      <td>57559</td>\n",
       "      <td>13.8163</td>\n",
       "      <td>99.8774</td>\n",
       "      <td>1.111830e+07</td>\n",
       "      <td>1.552066e+06</td>\n",
       "      <td>69825.094995</td>\n",
       "      <td>yes</td>\n",
       "    </tr>\n",
       "  </tbody>\n",
       "</table>\n",
       "</div>"
      ],
      "text/plain": [
       "             City        Region  Population  Latitude  Longitude  \\\n",
       "0  Ban Lam Luk Ka  Pathum Thani       60700   13.9774   100.7778   \n",
       "1         Ban Mai      Songkhla       86899    7.2041   100.5451   \n",
       "2        Ban Pong    Ratchaburi       57559   13.8163    99.8774   \n",
       "\n",
       "          x_mer         y_mer        dis2BKK close2BKK  \n",
       "0  1.121853e+07  1.570430e+06   39938.064467       yes  \n",
       "1  1.119263e+07  8.076416e+05  737342.351919        no  \n",
       "2  1.111830e+07  1.552066e+06   69825.094995       yes  "
      ]
     },
     "execution_count": 29,
     "metadata": {},
     "output_type": "execute_result"
    }
   ],
   "source": [
    "sel = \"\"\"\n",
    "SELECT  * \n",
    "from Region\n",
    "ORDER BY City\n",
    "LIMIT 3\n",
    "\"\"\"\n",
    "c = db.cursor().execute(sel)\n",
    "qresults = c.fetchall()\n",
    "df = pd.DataFrame(qresults, columns=[e[0] for e in c.description])\n",
    "df.head()"
   ]
  },
  {
   "cell_type": "code",
   "execution_count": 31,
   "metadata": {},
   "outputs": [
    {
     "data": {
      "text/html": [
       "<div>\n",
       "<style scoped>\n",
       "    .dataframe tbody tr th:only-of-type {\n",
       "        vertical-align: middle;\n",
       "    }\n",
       "\n",
       "    .dataframe tbody tr th {\n",
       "        vertical-align: top;\n",
       "    }\n",
       "\n",
       "    .dataframe thead th {\n",
       "        text-align: right;\n",
       "    }\n",
       "</style>\n",
       "<table border=\"1\" class=\"dataframe\">\n",
       "  <thead>\n",
       "    <tr style=\"text-align: right;\">\n",
       "      <th></th>\n",
       "      <th>City</th>\n",
       "      <th>Region</th>\n",
       "      <th>Population</th>\n",
       "      <th>Latitude</th>\n",
       "      <th>Longitude</th>\n",
       "      <th>x_mer</th>\n",
       "      <th>y_mer</th>\n",
       "      <th>dis2BKK</th>\n",
       "      <th>close2BKK</th>\n",
       "    </tr>\n",
       "  </thead>\n",
       "  <tbody>\n",
       "    <tr>\n",
       "      <th>0</th>\n",
       "      <td>Yala</td>\n",
       "      <td>Yala</td>\n",
       "      <td>93558</td>\n",
       "      <td>6.5400</td>\n",
       "      <td>101.2813</td>\n",
       "      <td>1.127458e+07</td>\n",
       "      <td>733657.663071</td>\n",
       "      <td>815942.223042</td>\n",
       "      <td>no</td>\n",
       "    </tr>\n",
       "    <tr>\n",
       "      <th>1</th>\n",
       "      <td>Hat Yai</td>\n",
       "      <td>Songkhla</td>\n",
       "      <td>191696</td>\n",
       "      <td>7.0084</td>\n",
       "      <td>100.4767</td>\n",
       "      <td>1.118502e+07</td>\n",
       "      <td>785828.605703</td>\n",
       "      <td>759144.294334</td>\n",
       "      <td>no</td>\n",
       "    </tr>\n",
       "    <tr>\n",
       "      <th>2</th>\n",
       "      <td>Songkhla</td>\n",
       "      <td>Songkhla</td>\n",
       "      <td>84264</td>\n",
       "      <td>7.1988</td>\n",
       "      <td>100.5951</td>\n",
       "      <td>1.119820e+07</td>\n",
       "      <td>807050.744514</td>\n",
       "      <td>737990.892141</td>\n",
       "      <td>no</td>\n",
       "    </tr>\n",
       "  </tbody>\n",
       "</table>\n",
       "</div>"
      ],
      "text/plain": [
       "       City    Region  Population  Latitude  Longitude         x_mer  \\\n",
       "0      Yala      Yala       93558    6.5400   101.2813  1.127458e+07   \n",
       "1   Hat Yai  Songkhla      191696    7.0084   100.4767  1.118502e+07   \n",
       "2  Songkhla  Songkhla       84264    7.1988   100.5951  1.119820e+07   \n",
       "\n",
       "           y_mer        dis2BKK close2BKK  \n",
       "0  733657.663071  815942.223042        no  \n",
       "1  785828.605703  759144.294334        no  \n",
       "2  807050.744514  737990.892141        no  "
      ]
     },
     "execution_count": 31,
     "metadata": {},
     "output_type": "execute_result"
    }
   ],
   "source": [
    "sel = \"\"\"\n",
    "SELECT  * \n",
    "from Region\n",
    "ORDER BY dis2BKK DESC\n",
    "LIMIT 3\n",
    "\"\"\"\n",
    "c = db.cursor().execute(sel)\n",
    "qresults = c.fetchall()\n",
    "df = pd.DataFrame(qresults, columns=[e[0] for e in c.description])\n",
    "df.head()"
   ]
  },
  {
   "cell_type": "code",
   "execution_count": 33,
   "metadata": {},
   "outputs": [
    {
     "data": {
      "text/html": [
       "<div>\n",
       "<style scoped>\n",
       "    .dataframe tbody tr th:only-of-type {\n",
       "        vertical-align: middle;\n",
       "    }\n",
       "\n",
       "    .dataframe tbody tr th {\n",
       "        vertical-align: top;\n",
       "    }\n",
       "\n",
       "    .dataframe thead th {\n",
       "        text-align: right;\n",
       "    }\n",
       "</style>\n",
       "<table border=\"1\" class=\"dataframe\">\n",
       "  <thead>\n",
       "    <tr style=\"text-align: right;\">\n",
       "      <th></th>\n",
       "      <th>City</th>\n",
       "      <th>Region</th>\n",
       "      <th>Population</th>\n",
       "      <th>Latitude</th>\n",
       "      <th>Longitude</th>\n",
       "      <th>x_mer</th>\n",
       "      <th>y_mer</th>\n",
       "      <th>dis2BKK</th>\n",
       "      <th>close2BKK</th>\n",
       "    </tr>\n",
       "  </thead>\n",
       "  <tbody>\n",
       "    <tr>\n",
       "      <th>0</th>\n",
       "      <td>Suphan Buri</td>\n",
       "      <td>Suphan Buri</td>\n",
       "      <td>53399</td>\n",
       "      <td>14.4742</td>\n",
       "      <td>100.1222</td>\n",
       "      <td>1.114555e+07</td>\n",
       "      <td>1.627145e+06</td>\n",
       "      <td>92384.816519</td>\n",
       "      <td>yes</td>\n",
       "    </tr>\n",
       "    <tr>\n",
       "      <th>1</th>\n",
       "      <td>Tha Maka</td>\n",
       "      <td>Kanchanaburi</td>\n",
       "      <td>52907</td>\n",
       "      <td>13.9000</td>\n",
       "      <td>99.7667</td>\n",
       "      <td>1.110598e+07</td>\n",
       "      <td>1.561606e+06</td>\n",
       "      <td>83461.586248</td>\n",
       "      <td>yes</td>\n",
       "    </tr>\n",
       "    <tr>\n",
       "      <th>2</th>\n",
       "      <td>Si Racha</td>\n",
       "      <td>Chon Buri</td>\n",
       "      <td>178916</td>\n",
       "      <td>13.1737</td>\n",
       "      <td>100.9311</td>\n",
       "      <td>1.123560e+07</td>\n",
       "      <td>1.478942e+06</td>\n",
       "      <td>81532.548964</td>\n",
       "      <td>yes</td>\n",
       "    </tr>\n",
       "  </tbody>\n",
       "</table>\n",
       "</div>"
      ],
      "text/plain": [
       "          City        Region  Population  Latitude  Longitude         x_mer  \\\n",
       "0  Suphan Buri   Suphan Buri       53399   14.4742   100.1222  1.114555e+07   \n",
       "1     Tha Maka  Kanchanaburi       52907   13.9000    99.7667  1.110598e+07   \n",
       "2     Si Racha     Chon Buri      178916   13.1737   100.9311  1.123560e+07   \n",
       "\n",
       "          y_mer       dis2BKK close2BKK  \n",
       "0  1.627145e+06  92384.816519       yes  \n",
       "1  1.561606e+06  83461.586248       yes  \n",
       "2  1.478942e+06  81532.548964       yes  "
      ]
     },
     "execution_count": 33,
     "metadata": {},
     "output_type": "execute_result"
    }
   ],
   "source": [
    "sel = \"\"\"\n",
    "SELECT  * \n",
    "from Region\n",
    "WHERE close2BKK = \"yes\"\n",
    "ORDER BY dis2BKK DESC\n",
    "LIMIT 3\n",
    "\"\"\"\n",
    "c = db.cursor().execute(sel)\n",
    "qresults = c.fetchall()\n",
    "df = pd.DataFrame(qresults, columns=[e[0] for e in c.description])\n",
    "df.head()"
   ]
  },
  {
   "cell_type": "markdown",
   "metadata": {},
   "source": [
    "# GROUP BY \n",
    "\n",
    "SELECT sex, count(*)\n",
    "\n",
    "FROM employees\n",
    "\n",
    "GROUP BY sex;\n",
    "\n",
    "Note that GROUP BY always goes after the FROM clause!\n",
    "\n",
    "To filter based on aggregation, use HAVING.  "
   ]
  },
  {
   "cell_type": "code",
   "execution_count": 38,
   "metadata": {},
   "outputs": [
    {
     "data": {
      "text/html": [
       "<div>\n",
       "<style scoped>\n",
       "    .dataframe tbody tr th:only-of-type {\n",
       "        vertical-align: middle;\n",
       "    }\n",
       "\n",
       "    .dataframe tbody tr th {\n",
       "        vertical-align: top;\n",
       "    }\n",
       "\n",
       "    .dataframe thead th {\n",
       "        text-align: right;\n",
       "    }\n",
       "</style>\n",
       "<table border=\"1\" class=\"dataframe\">\n",
       "  <thead>\n",
       "    <tr style=\"text-align: right;\">\n",
       "      <th></th>\n",
       "      <th>close2BKK</th>\n",
       "      <th>COUNT(*)</th>\n",
       "    </tr>\n",
       "  </thead>\n",
       "  <tbody>\n",
       "    <tr>\n",
       "      <th>0</th>\n",
       "      <td>no</td>\n",
       "      <td>37</td>\n",
       "    </tr>\n",
       "    <tr>\n",
       "      <th>1</th>\n",
       "      <td>yes</td>\n",
       "      <td>18</td>\n",
       "    </tr>\n",
       "  </tbody>\n",
       "</table>\n",
       "</div>"
      ],
      "text/plain": [
       "  close2BKK  COUNT(*)\n",
       "0        no        37\n",
       "1       yes        18"
      ]
     },
     "execution_count": 38,
     "metadata": {},
     "output_type": "execute_result"
    }
   ],
   "source": [
    "# count the number of provinces group by weather it is closed to BKK \n",
    "\n",
    "sel = \"\"\"\n",
    "SELECT  close2BKK, COUNT(*) \n",
    "from Region\n",
    "GROUP BY close2BKK \n",
    "LIMIT 3\n",
    "\"\"\"\n",
    "c = db.cursor().execute(sel)\n",
    "qresults = c.fetchall()\n",
    "df = pd.DataFrame(qresults, columns=[e[0] for e in c.description])\n",
    "df.head()"
   ]
  },
  {
   "cell_type": "code",
   "execution_count": 40,
   "metadata": {},
   "outputs": [
    {
     "data": {
      "text/html": [
       "<div>\n",
       "<style scoped>\n",
       "    .dataframe tbody tr th:only-of-type {\n",
       "        vertical-align: middle;\n",
       "    }\n",
       "\n",
       "    .dataframe tbody tr th {\n",
       "        vertical-align: top;\n",
       "    }\n",
       "\n",
       "    .dataframe thead th {\n",
       "        text-align: right;\n",
       "    }\n",
       "</style>\n",
       "<table border=\"1\" class=\"dataframe\">\n",
       "  <thead>\n",
       "    <tr style=\"text-align: right;\">\n",
       "      <th></th>\n",
       "      <th>Wind</th>\n",
       "      <th>Temperature(F)</th>\n",
       "      <th>COUNT(*)</th>\n",
       "    </tr>\n",
       "  </thead>\n",
       "  <tbody>\n",
       "    <tr>\n",
       "      <th>0</th>\n",
       "      <td>ENE</td>\n",
       "      <td>75</td>\n",
       "      <td>2220</td>\n",
       "    </tr>\n",
       "    <tr>\n",
       "      <th>1</th>\n",
       "      <td>CALM</td>\n",
       "      <td>77</td>\n",
       "      <td>4472</td>\n",
       "    </tr>\n",
       "    <tr>\n",
       "      <th>2</th>\n",
       "      <td>E</td>\n",
       "      <td>77</td>\n",
       "      <td>3309</td>\n",
       "    </tr>\n",
       "    <tr>\n",
       "      <th>3</th>\n",
       "      <td>NE</td>\n",
       "      <td>77</td>\n",
       "      <td>1836</td>\n",
       "    </tr>\n",
       "    <tr>\n",
       "      <th>4</th>\n",
       "      <td>NNE</td>\n",
       "      <td>77</td>\n",
       "      <td>2477</td>\n",
       "    </tr>\n",
       "  </tbody>\n",
       "</table>\n",
       "</div>"
      ],
      "text/plain": [
       "   Wind  Temperature(F)  COUNT(*)\n",
       "0   ENE              75      2220\n",
       "1  CALM              77      4472\n",
       "2     E              77      3309\n",
       "3    NE              77      1836\n",
       "4   NNE              77      2477"
      ]
     },
     "execution_count": 40,
     "metadata": {},
     "output_type": "execute_result"
    }
   ],
   "source": [
    "# count the number of provinces group by weather it is closed to BKK \n",
    "\n",
    "sel = \"\"\"\n",
    "SELECT  wind, \"Temperature(F)\", COUNT(*) \n",
    "from weather\n",
    "GROUP BY wind \n",
    "ORDER BY \"Temperature(F)\"\n",
    "\"\"\"\n",
    "c = db.cursor().execute(sel)\n",
    "qresults = c.fetchall()\n",
    "df = pd.DataFrame(qresults, columns=[e[0] for e in c.description])\n",
    "df.head()"
   ]
  },
  {
   "cell_type": "code",
   "execution_count": 44,
   "metadata": {},
   "outputs": [
    {
     "data": {
      "text/html": [
       "<div>\n",
       "<style scoped>\n",
       "    .dataframe tbody tr th:only-of-type {\n",
       "        vertical-align: middle;\n",
       "    }\n",
       "\n",
       "    .dataframe tbody tr th {\n",
       "        vertical-align: top;\n",
       "    }\n",
       "\n",
       "    .dataframe thead th {\n",
       "        text-align: right;\n",
       "    }\n",
       "</style>\n",
       "<table border=\"1\" class=\"dataframe\">\n",
       "  <thead>\n",
       "    <tr style=\"text-align: right;\">\n",
       "      <th></th>\n",
       "      <th>Wind</th>\n",
       "      <th>Temperature(F)</th>\n",
       "      <th>count</th>\n",
       "    </tr>\n",
       "  </thead>\n",
       "  <tbody>\n",
       "    <tr>\n",
       "      <th>0</th>\n",
       "      <td>ENE</td>\n",
       "      <td>75</td>\n",
       "      <td>2220</td>\n",
       "    </tr>\n",
       "    <tr>\n",
       "      <th>1</th>\n",
       "      <td>SW</td>\n",
       "      <td>82</td>\n",
       "      <td>2412</td>\n",
       "    </tr>\n",
       "    <tr>\n",
       "      <th>2</th>\n",
       "      <td>NNW</td>\n",
       "      <td>82</td>\n",
       "      <td>2439</td>\n",
       "    </tr>\n",
       "    <tr>\n",
       "      <th>3</th>\n",
       "      <td>NNE</td>\n",
       "      <td>77</td>\n",
       "      <td>2477</td>\n",
       "    </tr>\n",
       "    <tr>\n",
       "      <th>4</th>\n",
       "      <td>SSE</td>\n",
       "      <td>88</td>\n",
       "      <td>2495</td>\n",
       "    </tr>\n",
       "  </tbody>\n",
       "</table>\n",
       "</div>"
      ],
      "text/plain": [
       "  Wind  Temperature(F)  count\n",
       "0  ENE              75   2220\n",
       "1   SW              82   2412\n",
       "2  NNW              82   2439\n",
       "3  NNE              77   2477\n",
       "4  SSE              88   2495"
      ]
     },
     "execution_count": 44,
     "metadata": {},
     "output_type": "execute_result"
    }
   ],
   "source": [
    "# count the number of provinces group by weather it is closed to BKK \n",
    "\n",
    "sel = \"\"\"\n",
    "SELECT  wind, \"Temperature(F)\", COUNT(*) AS count\n",
    "from weather\n",
    "GROUP BY wind \n",
    "HAVING count > 2000\n",
    "ORDER BY count\n",
    "\"\"\"\n",
    "c = db.cursor().execute(sel)\n",
    "qresults = c.fetchall()\n",
    "df = pd.DataFrame(qresults, columns=[e[0] for e in c.description])\n",
    "df.head()"
   ]
  },
  {
   "cell_type": "markdown",
   "metadata": {},
   "source": [
    "# Create Index \n",
    "\n",
    "index helps speed the look up. All databases has it. "
   ]
  },
  {
   "cell_type": "code",
   "execution_count": 18,
   "metadata": {},
   "outputs": [],
   "source": [
    "crind=\"CREATE UNIQUE INDEX region_idx ON region(city,region);\"\n",
    "db.cursor().execute(crind)\n",
    "db.commit()"
   ]
  },
  {
   "cell_type": "code",
   "execution_count": 21,
   "metadata": {},
   "outputs": [
    {
     "data": {
      "text/plain": [
       "[(0, 'region_idx', 1, 'c', 0), (1, 'sqlite_autoindex_region_1', 1, 'pk', 0)]"
      ]
     },
     "execution_count": 21,
     "metadata": {},
     "output_type": "execute_result"
    }
   ],
   "source": [
    "sel = \"\"\"\n",
    "PRAGMA INDEX_LIST('region');\n",
    "\"\"\"\n",
    "c = db.cursor().execute(sel)\n",
    "c.fetchall()"
   ]
  },
  {
   "cell_type": "markdown",
   "metadata": {},
   "source": [
    "# Joins"
   ]
  },
  {
   "cell_type": "markdown",
   "metadata": {},
   "source": [
    "a simple subset"
   ]
  },
  {
   "cell_type": "code",
   "execution_count": 48,
   "metadata": {},
   "outputs": [
    {
     "data": {
      "text/plain": [
       "[('Bangkok',\n",
       "  'Bangkok',\n",
       "  5104476,\n",
       "  13.754000000000001,\n",
       "  100.5014,\n",
       "  11187764.6720111,\n",
       "  1544967.92056433,\n",
       "  0.0,\n",
       "  'yes')]"
      ]
     },
     "execution_count": 48,
     "metadata": {},
     "output_type": "execute_result"
    }
   ],
   "source": [
    "sel = \"\"\"\n",
    "SELECT * \n",
    "FROM region\n",
    "WHERE region.close2BKK = 'yes'\n",
    "\"\"\"\n",
    "c = db.cursor().execute(sel)\n",
    "c.fetchmany(1)"
   ]
  },
  {
   "cell_type": "markdown",
   "metadata": {},
   "source": [
    "### Implicit join"
   ]
  },
  {
   "cell_type": "code",
   "execution_count": 50,
   "metadata": {},
   "outputs": [
    {
     "data": {
      "text/html": [
       "<div>\n",
       "<style scoped>\n",
       "    .dataframe tbody tr th:only-of-type {\n",
       "        vertical-align: middle;\n",
       "    }\n",
       "\n",
       "    .dataframe tbody tr th {\n",
       "        vertical-align: top;\n",
       "    }\n",
       "\n",
       "    .dataframe thead th {\n",
       "        text-align: right;\n",
       "    }\n",
       "</style>\n",
       "<table border=\"1\" class=\"dataframe\">\n",
       "  <thead>\n",
       "    <tr style=\"text-align: right;\">\n",
       "      <th></th>\n",
       "      <th>0</th>\n",
       "      <th>1</th>\n",
       "      <th>2</th>\n",
       "      <th>3</th>\n",
       "      <th>4</th>\n",
       "      <th>5</th>\n",
       "      <th>6</th>\n",
       "      <th>7</th>\n",
       "      <th>8</th>\n",
       "      <th>9</th>\n",
       "      <th>10</th>\n",
       "      <th>11</th>\n",
       "      <th>12</th>\n",
       "    </tr>\n",
       "  </thead>\n",
       "  <tbody>\n",
       "    <tr>\n",
       "      <th>0</th>\n",
       "      <td>0</td>\n",
       "      <td>2016-03-03 15:00:00</td>\n",
       "      <td>62.9</td>\n",
       "      <td>Bangkok</td>\n",
       "      <td>Bangkok</td>\n",
       "      <td>Bangkok</td>\n",
       "      <td>5104476</td>\n",
       "      <td>13.754</td>\n",
       "      <td>100.5014</td>\n",
       "      <td>1.118776e+07</td>\n",
       "      <td>1.544968e+06</td>\n",
       "      <td>0.0</td>\n",
       "      <td>yes</td>\n",
       "    </tr>\n",
       "    <tr>\n",
       "      <th>1</th>\n",
       "      <td>1</td>\n",
       "      <td>2016-03-03 16:00:00</td>\n",
       "      <td>62.9</td>\n",
       "      <td>Bangkok</td>\n",
       "      <td>Bangkok</td>\n",
       "      <td>Bangkok</td>\n",
       "      <td>5104476</td>\n",
       "      <td>13.754</td>\n",
       "      <td>100.5014</td>\n",
       "      <td>1.118776e+07</td>\n",
       "      <td>1.544968e+06</td>\n",
       "      <td>0.0</td>\n",
       "      <td>yes</td>\n",
       "    </tr>\n",
       "    <tr>\n",
       "      <th>2</th>\n",
       "      <td>2</td>\n",
       "      <td>2016-03-03 17:00:00</td>\n",
       "      <td>55.5</td>\n",
       "      <td>Bangkok</td>\n",
       "      <td>Bangkok</td>\n",
       "      <td>Bangkok</td>\n",
       "      <td>5104476</td>\n",
       "      <td>13.754</td>\n",
       "      <td>100.5014</td>\n",
       "      <td>1.118776e+07</td>\n",
       "      <td>1.544968e+06</td>\n",
       "      <td>0.0</td>\n",
       "      <td>yes</td>\n",
       "    </tr>\n",
       "    <tr>\n",
       "      <th>3</th>\n",
       "      <td>3</td>\n",
       "      <td>2016-03-03 18:00:00</td>\n",
       "      <td>55.5</td>\n",
       "      <td>Bangkok</td>\n",
       "      <td>Bangkok</td>\n",
       "      <td>Bangkok</td>\n",
       "      <td>5104476</td>\n",
       "      <td>13.754</td>\n",
       "      <td>100.5014</td>\n",
       "      <td>1.118776e+07</td>\n",
       "      <td>1.544968e+06</td>\n",
       "      <td>0.0</td>\n",
       "      <td>yes</td>\n",
       "    </tr>\n",
       "    <tr>\n",
       "      <th>4</th>\n",
       "      <td>4</td>\n",
       "      <td>2016-03-03 19:00:00</td>\n",
       "      <td>47.9</td>\n",
       "      <td>Bangkok</td>\n",
       "      <td>Bangkok</td>\n",
       "      <td>Bangkok</td>\n",
       "      <td>5104476</td>\n",
       "      <td>13.754</td>\n",
       "      <td>100.5014</td>\n",
       "      <td>1.118776e+07</td>\n",
       "      <td>1.544968e+06</td>\n",
       "      <td>0.0</td>\n",
       "      <td>yes</td>\n",
       "    </tr>\n",
       "  </tbody>\n",
       "</table>\n",
       "</div>"
      ],
      "text/plain": [
       "   0                    1     2        3        4        5        6       7   \\\n",
       "0   0  2016-03-03 15:00:00  62.9  Bangkok  Bangkok  Bangkok  5104476  13.754   \n",
       "1   1  2016-03-03 16:00:00  62.9  Bangkok  Bangkok  Bangkok  5104476  13.754   \n",
       "2   2  2016-03-03 17:00:00  55.5  Bangkok  Bangkok  Bangkok  5104476  13.754   \n",
       "3   3  2016-03-03 18:00:00  55.5  Bangkok  Bangkok  Bangkok  5104476  13.754   \n",
       "4   4  2016-03-03 19:00:00  47.9  Bangkok  Bangkok  Bangkok  5104476  13.754   \n",
       "\n",
       "         8             9             10   11   12  \n",
       "0  100.5014  1.118776e+07  1.544968e+06  0.0  yes  \n",
       "1  100.5014  1.118776e+07  1.544968e+06  0.0  yes  \n",
       "2  100.5014  1.118776e+07  1.544968e+06  0.0  yes  \n",
       "3  100.5014  1.118776e+07  1.544968e+06  0.0  yes  \n",
       "4  100.5014  1.118776e+07  1.544968e+06  0.0  yes  "
      ]
     },
     "execution_count": 50,
     "metadata": {},
     "output_type": "execute_result"
    }
   ],
   "source": [
    "sel = \"\"\"\n",
    "SELECT * \n",
    "FROM pm25, region\n",
    "WHERE pm25.city = region.City\n",
    "AND region.close2BKK = 'yes'\n",
    "\"\"\"\n",
    "c = db.cursor().execute(sel)\n",
    "pd.DataFrame(c.fetchall()).head()"
   ]
  },
  {
   "cell_type": "markdown",
   "metadata": {},
   "source": [
    "### Explicit INNER JOIN"
   ]
  },
  {
   "cell_type": "code",
   "execution_count": 51,
   "metadata": {},
   "outputs": [
    {
     "data": {
      "text/html": [
       "<div>\n",
       "<style scoped>\n",
       "    .dataframe tbody tr th:only-of-type {\n",
       "        vertical-align: middle;\n",
       "    }\n",
       "\n",
       "    .dataframe tbody tr th {\n",
       "        vertical-align: top;\n",
       "    }\n",
       "\n",
       "    .dataframe thead th {\n",
       "        text-align: right;\n",
       "    }\n",
       "</style>\n",
       "<table border=\"1\" class=\"dataframe\">\n",
       "  <thead>\n",
       "    <tr style=\"text-align: right;\">\n",
       "      <th></th>\n",
       "      <th>0</th>\n",
       "      <th>1</th>\n",
       "      <th>2</th>\n",
       "      <th>3</th>\n",
       "      <th>4</th>\n",
       "      <th>5</th>\n",
       "      <th>6</th>\n",
       "      <th>7</th>\n",
       "      <th>8</th>\n",
       "      <th>9</th>\n",
       "      <th>10</th>\n",
       "      <th>11</th>\n",
       "      <th>12</th>\n",
       "    </tr>\n",
       "  </thead>\n",
       "  <tbody>\n",
       "    <tr>\n",
       "      <th>0</th>\n",
       "      <td>0</td>\n",
       "      <td>2016-03-03 15:00:00</td>\n",
       "      <td>62.9</td>\n",
       "      <td>Bangkok</td>\n",
       "      <td>Bangkok</td>\n",
       "      <td>Bangkok</td>\n",
       "      <td>5104476</td>\n",
       "      <td>13.754</td>\n",
       "      <td>100.5014</td>\n",
       "      <td>1.118776e+07</td>\n",
       "      <td>1.544968e+06</td>\n",
       "      <td>0.0</td>\n",
       "      <td>yes</td>\n",
       "    </tr>\n",
       "    <tr>\n",
       "      <th>1</th>\n",
       "      <td>1</td>\n",
       "      <td>2016-03-03 16:00:00</td>\n",
       "      <td>62.9</td>\n",
       "      <td>Bangkok</td>\n",
       "      <td>Bangkok</td>\n",
       "      <td>Bangkok</td>\n",
       "      <td>5104476</td>\n",
       "      <td>13.754</td>\n",
       "      <td>100.5014</td>\n",
       "      <td>1.118776e+07</td>\n",
       "      <td>1.544968e+06</td>\n",
       "      <td>0.0</td>\n",
       "      <td>yes</td>\n",
       "    </tr>\n",
       "    <tr>\n",
       "      <th>2</th>\n",
       "      <td>2</td>\n",
       "      <td>2016-03-03 17:00:00</td>\n",
       "      <td>55.5</td>\n",
       "      <td>Bangkok</td>\n",
       "      <td>Bangkok</td>\n",
       "      <td>Bangkok</td>\n",
       "      <td>5104476</td>\n",
       "      <td>13.754</td>\n",
       "      <td>100.5014</td>\n",
       "      <td>1.118776e+07</td>\n",
       "      <td>1.544968e+06</td>\n",
       "      <td>0.0</td>\n",
       "      <td>yes</td>\n",
       "    </tr>\n",
       "    <tr>\n",
       "      <th>3</th>\n",
       "      <td>3</td>\n",
       "      <td>2016-03-03 18:00:00</td>\n",
       "      <td>55.5</td>\n",
       "      <td>Bangkok</td>\n",
       "      <td>Bangkok</td>\n",
       "      <td>Bangkok</td>\n",
       "      <td>5104476</td>\n",
       "      <td>13.754</td>\n",
       "      <td>100.5014</td>\n",
       "      <td>1.118776e+07</td>\n",
       "      <td>1.544968e+06</td>\n",
       "      <td>0.0</td>\n",
       "      <td>yes</td>\n",
       "    </tr>\n",
       "    <tr>\n",
       "      <th>4</th>\n",
       "      <td>4</td>\n",
       "      <td>2016-03-03 19:00:00</td>\n",
       "      <td>47.9</td>\n",
       "      <td>Bangkok</td>\n",
       "      <td>Bangkok</td>\n",
       "      <td>Bangkok</td>\n",
       "      <td>5104476</td>\n",
       "      <td>13.754</td>\n",
       "      <td>100.5014</td>\n",
       "      <td>1.118776e+07</td>\n",
       "      <td>1.544968e+06</td>\n",
       "      <td>0.0</td>\n",
       "      <td>yes</td>\n",
       "    </tr>\n",
       "  </tbody>\n",
       "</table>\n",
       "</div>"
      ],
      "text/plain": [
       "   0                    1     2        3        4        5        6       7   \\\n",
       "0   0  2016-03-03 15:00:00  62.9  Bangkok  Bangkok  Bangkok  5104476  13.754   \n",
       "1   1  2016-03-03 16:00:00  62.9  Bangkok  Bangkok  Bangkok  5104476  13.754   \n",
       "2   2  2016-03-03 17:00:00  55.5  Bangkok  Bangkok  Bangkok  5104476  13.754   \n",
       "3   3  2016-03-03 18:00:00  55.5  Bangkok  Bangkok  Bangkok  5104476  13.754   \n",
       "4   4  2016-03-03 19:00:00  47.9  Bangkok  Bangkok  Bangkok  5104476  13.754   \n",
       "\n",
       "         8             9             10   11   12  \n",
       "0  100.5014  1.118776e+07  1.544968e+06  0.0  yes  \n",
       "1  100.5014  1.118776e+07  1.544968e+06  0.0  yes  \n",
       "2  100.5014  1.118776e+07  1.544968e+06  0.0  yes  \n",
       "3  100.5014  1.118776e+07  1.544968e+06  0.0  yes  \n",
       "4  100.5014  1.118776e+07  1.544968e+06  0.0  yes  "
      ]
     },
     "execution_count": 51,
     "metadata": {},
     "output_type": "execute_result"
    }
   ],
   "source": [
    "sel = \"\"\"\n",
    "SELECT * \n",
    "FROM pm25, region\n",
    "ON pm25.city = region.City\n",
    "where region.close2BKK = 'yes'\n",
    "\"\"\"\n",
    "c = db.cursor().execute(sel)\n",
    "pd.DataFrame(c.fetchall()).head()"
   ]
  },
  {
   "cell_type": "markdown",
   "metadata": {},
   "source": [
    "# Left outer join"
   ]
  },
  {
   "cell_type": "code",
   "execution_count": 53,
   "metadata": {},
   "outputs": [
    {
     "data": {
      "text/html": [
       "<div>\n",
       "<style scoped>\n",
       "    .dataframe tbody tr th:only-of-type {\n",
       "        vertical-align: middle;\n",
       "    }\n",
       "\n",
       "    .dataframe tbody tr th {\n",
       "        vertical-align: top;\n",
       "    }\n",
       "\n",
       "    .dataframe thead th {\n",
       "        text-align: right;\n",
       "    }\n",
       "</style>\n",
       "<table border=\"1\" class=\"dataframe\">\n",
       "  <thead>\n",
       "    <tr style=\"text-align: right;\">\n",
       "      <th></th>\n",
       "      <th>0</th>\n",
       "      <th>1</th>\n",
       "      <th>2</th>\n",
       "      <th>3</th>\n",
       "      <th>4</th>\n",
       "      <th>5</th>\n",
       "      <th>6</th>\n",
       "      <th>7</th>\n",
       "      <th>8</th>\n",
       "      <th>9</th>\n",
       "      <th>10</th>\n",
       "      <th>11</th>\n",
       "      <th>12</th>\n",
       "    </tr>\n",
       "  </thead>\n",
       "  <tbody>\n",
       "    <tr>\n",
       "      <th>0</th>\n",
       "      <td>0</td>\n",
       "      <td>2016-03-03 15:00:00</td>\n",
       "      <td>62.9</td>\n",
       "      <td>Bangkok</td>\n",
       "      <td>Bangkok</td>\n",
       "      <td>Bangkok</td>\n",
       "      <td>5104476</td>\n",
       "      <td>13.754</td>\n",
       "      <td>100.5014</td>\n",
       "      <td>1.118776e+07</td>\n",
       "      <td>1.544968e+06</td>\n",
       "      <td>0.0</td>\n",
       "      <td>yes</td>\n",
       "    </tr>\n",
       "    <tr>\n",
       "      <th>1</th>\n",
       "      <td>1</td>\n",
       "      <td>2016-03-03 16:00:00</td>\n",
       "      <td>62.9</td>\n",
       "      <td>Bangkok</td>\n",
       "      <td>Bangkok</td>\n",
       "      <td>Bangkok</td>\n",
       "      <td>5104476</td>\n",
       "      <td>13.754</td>\n",
       "      <td>100.5014</td>\n",
       "      <td>1.118776e+07</td>\n",
       "      <td>1.544968e+06</td>\n",
       "      <td>0.0</td>\n",
       "      <td>yes</td>\n",
       "    </tr>\n",
       "    <tr>\n",
       "      <th>2</th>\n",
       "      <td>2</td>\n",
       "      <td>2016-03-03 17:00:00</td>\n",
       "      <td>55.5</td>\n",
       "      <td>Bangkok</td>\n",
       "      <td>Bangkok</td>\n",
       "      <td>Bangkok</td>\n",
       "      <td>5104476</td>\n",
       "      <td>13.754</td>\n",
       "      <td>100.5014</td>\n",
       "      <td>1.118776e+07</td>\n",
       "      <td>1.544968e+06</td>\n",
       "      <td>0.0</td>\n",
       "      <td>yes</td>\n",
       "    </tr>\n",
       "    <tr>\n",
       "      <th>3</th>\n",
       "      <td>3</td>\n",
       "      <td>2016-03-03 18:00:00</td>\n",
       "      <td>55.5</td>\n",
       "      <td>Bangkok</td>\n",
       "      <td>Bangkok</td>\n",
       "      <td>Bangkok</td>\n",
       "      <td>5104476</td>\n",
       "      <td>13.754</td>\n",
       "      <td>100.5014</td>\n",
       "      <td>1.118776e+07</td>\n",
       "      <td>1.544968e+06</td>\n",
       "      <td>0.0</td>\n",
       "      <td>yes</td>\n",
       "    </tr>\n",
       "    <tr>\n",
       "      <th>4</th>\n",
       "      <td>4</td>\n",
       "      <td>2016-03-03 19:00:00</td>\n",
       "      <td>47.9</td>\n",
       "      <td>Bangkok</td>\n",
       "      <td>Bangkok</td>\n",
       "      <td>Bangkok</td>\n",
       "      <td>5104476</td>\n",
       "      <td>13.754</td>\n",
       "      <td>100.5014</td>\n",
       "      <td>1.118776e+07</td>\n",
       "      <td>1.544968e+06</td>\n",
       "      <td>0.0</td>\n",
       "      <td>yes</td>\n",
       "    </tr>\n",
       "  </tbody>\n",
       "</table>\n",
       "</div>"
      ],
      "text/plain": [
       "   0                    1     2        3        4        5        6       7   \\\n",
       "0   0  2016-03-03 15:00:00  62.9  Bangkok  Bangkok  Bangkok  5104476  13.754   \n",
       "1   1  2016-03-03 16:00:00  62.9  Bangkok  Bangkok  Bangkok  5104476  13.754   \n",
       "2   2  2016-03-03 17:00:00  55.5  Bangkok  Bangkok  Bangkok  5104476  13.754   \n",
       "3   3  2016-03-03 18:00:00  55.5  Bangkok  Bangkok  Bangkok  5104476  13.754   \n",
       "4   4  2016-03-03 19:00:00  47.9  Bangkok  Bangkok  Bangkok  5104476  13.754   \n",
       "\n",
       "         8             9             10   11   12  \n",
       "0  100.5014  1.118776e+07  1.544968e+06  0.0  yes  \n",
       "1  100.5014  1.118776e+07  1.544968e+06  0.0  yes  \n",
       "2  100.5014  1.118776e+07  1.544968e+06  0.0  yes  \n",
       "3  100.5014  1.118776e+07  1.544968e+06  0.0  yes  \n",
       "4  100.5014  1.118776e+07  1.544968e+06  0.0  yes  "
      ]
     },
     "execution_count": 53,
     "metadata": {},
     "output_type": "execute_result"
    }
   ],
   "source": [
    "sel = \"\"\"\n",
    "SELECT * \n",
    "FROM pm25 LEFT OUTER JOIN region\n",
    "ON pm25.city = region.City\n",
    "where region.close2BKK = 'yes'\n",
    "\"\"\"\n",
    "c = db.cursor().execute(sel)\n",
    "pd.DataFrame(c.fetchall()).head()"
   ]
  },
  {
   "cell_type": "markdown",
   "metadata": {},
   "source": [
    "Note that full outer join and right join are not supposed by sqlite"
   ]
  },
  {
   "cell_type": "markdown",
   "metadata": {},
   "source": [
    "# Pandas interfaces with SQL\n",
    "\n",
    "pandas can read from db with data large than the memory. It would only generate the data as request.\n"
   ]
  },
  {
   "cell_type": "code",
   "execution_count": 55,
   "metadata": {},
   "outputs": [
    {
     "data": {
      "text/html": [
       "<div>\n",
       "<style scoped>\n",
       "    .dataframe tbody tr th:only-of-type {\n",
       "        vertical-align: middle;\n",
       "    }\n",
       "\n",
       "    .dataframe tbody tr th {\n",
       "        vertical-align: top;\n",
       "    }\n",
       "\n",
       "    .dataframe thead th {\n",
       "        text-align: right;\n",
       "    }\n",
       "</style>\n",
       "<table border=\"1\" class=\"dataframe\">\n",
       "  <thead>\n",
       "    <tr style=\"text-align: right;\">\n",
       "      <th></th>\n",
       "      <th>City</th>\n",
       "      <th>Region</th>\n",
       "      <th>Population</th>\n",
       "      <th>Latitude</th>\n",
       "      <th>Longitude</th>\n",
       "      <th>x_mer</th>\n",
       "      <th>y_mer</th>\n",
       "      <th>dis2BKK</th>\n",
       "      <th>close2BKK</th>\n",
       "    </tr>\n",
       "  </thead>\n",
       "  <tbody>\n",
       "    <tr>\n",
       "      <th>0</th>\n",
       "      <td>Bangkok</td>\n",
       "      <td>Bangkok</td>\n",
       "      <td>5104476</td>\n",
       "      <td>13.7540</td>\n",
       "      <td>100.5014</td>\n",
       "      <td>1.118776e+07</td>\n",
       "      <td>1.544968e+06</td>\n",
       "      <td>0.000000</td>\n",
       "      <td>yes</td>\n",
       "    </tr>\n",
       "    <tr>\n",
       "      <th>1</th>\n",
       "      <td>Bang Kruai</td>\n",
       "      <td>Nonthaburi</td>\n",
       "      <td>78305</td>\n",
       "      <td>13.8050</td>\n",
       "      <td>100.4728</td>\n",
       "      <td>1.118458e+07</td>\n",
       "      <td>1.550779e+06</td>\n",
       "      <td>6625.673838</td>\n",
       "      <td>yes</td>\n",
       "    </tr>\n",
       "    <tr>\n",
       "      <th>2</th>\n",
       "      <td>Ban Lam Luk Ka</td>\n",
       "      <td>Pathum Thani</td>\n",
       "      <td>60700</td>\n",
       "      <td>13.9774</td>\n",
       "      <td>100.7778</td>\n",
       "      <td>1.121853e+07</td>\n",
       "      <td>1.570430e+06</td>\n",
       "      <td>39938.064467</td>\n",
       "      <td>yes</td>\n",
       "    </tr>\n",
       "    <tr>\n",
       "      <th>3</th>\n",
       "      <td>Ban Pong</td>\n",
       "      <td>Ratchaburi</td>\n",
       "      <td>57559</td>\n",
       "      <td>13.8163</td>\n",
       "      <td>99.8774</td>\n",
       "      <td>1.111830e+07</td>\n",
       "      <td>1.552066e+06</td>\n",
       "      <td>69825.094995</td>\n",
       "      <td>yes</td>\n",
       "    </tr>\n",
       "    <tr>\n",
       "      <th>4</th>\n",
       "      <td>Chon Buri</td>\n",
       "      <td>Chon Buri</td>\n",
       "      <td>219164</td>\n",
       "      <td>13.3622</td>\n",
       "      <td>100.9835</td>\n",
       "      <td>1.124143e+07</td>\n",
       "      <td>1.500371e+06</td>\n",
       "      <td>69778.378647</td>\n",
       "      <td>yes</td>\n",
       "    </tr>\n",
       "  </tbody>\n",
       "</table>\n",
       "</div>"
      ],
      "text/plain": [
       "             City        Region  Population  Latitude  Longitude  \\\n",
       "0         Bangkok       Bangkok     5104476   13.7540   100.5014   \n",
       "1      Bang Kruai    Nonthaburi       78305   13.8050   100.4728   \n",
       "2  Ban Lam Luk Ka  Pathum Thani       60700   13.9774   100.7778   \n",
       "3        Ban Pong    Ratchaburi       57559   13.8163    99.8774   \n",
       "4       Chon Buri     Chon Buri      219164   13.3622   100.9835   \n",
       "\n",
       "          x_mer         y_mer       dis2BKK close2BKK  \n",
       "0  1.118776e+07  1.544968e+06      0.000000       yes  \n",
       "1  1.118458e+07  1.550779e+06   6625.673838       yes  \n",
       "2  1.121853e+07  1.570430e+06  39938.064467       yes  \n",
       "3  1.111830e+07  1.552066e+06  69825.094995       yes  \n",
       "4  1.124143e+07  1.500371e+06  69778.378647       yes  "
      ]
     },
     "execution_count": 55,
     "metadata": {},
     "output_type": "execute_result"
    }
   ],
   "source": [
    "pd.read_sql(\"SELECT * FROM region WHERE close2BKK = 'yes';\", db).head()"
   ]
  },
  {
   "cell_type": "code",
   "execution_count": null,
   "metadata": {},
   "outputs": [],
   "source": []
  },
  {
   "cell_type": "code",
   "execution_count": null,
   "metadata": {},
   "outputs": [],
   "source": []
  }
 ],
 "metadata": {
  "kernelspec": {
   "display_name": "Python 3",
   "language": "python",
   "name": "python3"
  },
  "language_info": {
   "codemirror_mode": {
    "name": "ipython",
    "version": 3
   },
   "file_extension": ".py",
   "mimetype": "text/x-python",
   "name": "python",
   "nbconvert_exporter": "python",
   "pygments_lexer": "ipython3",
   "version": "3.6.8"
  }
 },
 "nbformat": 4,
 "nbformat_minor": 2
}
